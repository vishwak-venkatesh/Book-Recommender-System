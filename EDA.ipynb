{
 "cells": [
  {
   "cell_type": "code",
   "execution_count": 1,
   "id": "af6f0722",
   "metadata": {},
   "outputs": [],
   "source": [
    "import pandas as pd\n",
    "import numpy as np\n",
    "import seaborn as sns\n",
    "import matplotlib.pyplot as plt"
   ]
  },
  {
   "cell_type": "code",
   "execution_count": 2,
   "id": "1f1e8b22",
   "metadata": {},
   "outputs": [],
   "source": [
    "ratings = pd.read_csv('ratings.csv')\n",
    "tags = pd.read_csv('tags.csv')\n",
    "books = pd.read_csv('books_enriched.csv')"
   ]
  },
  {
   "cell_type": "code",
   "execution_count": 3,
   "id": "f563db9e",
   "metadata": {},
   "outputs": [
    {
     "name": "stdout",
     "output_type": "stream",
     "text": [
      "(5976479, 3)\n"
     ]
    },
    {
     "data": {
      "text/html": [
       "<div>\n",
       "<style scoped>\n",
       "    .dataframe tbody tr th:only-of-type {\n",
       "        vertical-align: middle;\n",
       "    }\n",
       "\n",
       "    .dataframe tbody tr th {\n",
       "        vertical-align: top;\n",
       "    }\n",
       "\n",
       "    .dataframe thead th {\n",
       "        text-align: right;\n",
       "    }\n",
       "</style>\n",
       "<table border=\"1\" class=\"dataframe\">\n",
       "  <thead>\n",
       "    <tr style=\"text-align: right;\">\n",
       "      <th></th>\n",
       "      <th>user_id</th>\n",
       "      <th>book_id</th>\n",
       "      <th>rating</th>\n",
       "    </tr>\n",
       "  </thead>\n",
       "  <tbody>\n",
       "    <tr>\n",
       "      <th>0</th>\n",
       "      <td>1</td>\n",
       "      <td>258</td>\n",
       "      <td>5</td>\n",
       "    </tr>\n",
       "    <tr>\n",
       "      <th>1</th>\n",
       "      <td>2</td>\n",
       "      <td>4081</td>\n",
       "      <td>4</td>\n",
       "    </tr>\n",
       "    <tr>\n",
       "      <th>2</th>\n",
       "      <td>2</td>\n",
       "      <td>260</td>\n",
       "      <td>5</td>\n",
       "    </tr>\n",
       "    <tr>\n",
       "      <th>3</th>\n",
       "      <td>2</td>\n",
       "      <td>9296</td>\n",
       "      <td>5</td>\n",
       "    </tr>\n",
       "    <tr>\n",
       "      <th>4</th>\n",
       "      <td>2</td>\n",
       "      <td>2318</td>\n",
       "      <td>3</td>\n",
       "    </tr>\n",
       "  </tbody>\n",
       "</table>\n",
       "</div>"
      ],
      "text/plain": [
       "   user_id  book_id  rating\n",
       "0        1      258       5\n",
       "1        2     4081       4\n",
       "2        2      260       5\n",
       "3        2     9296       5\n",
       "4        2     2318       3"
      ]
     },
     "execution_count": 3,
     "metadata": {},
     "output_type": "execute_result"
    }
   ],
   "source": [
    "print(ratings.shape)\n",
    "ratings.head()"
   ]
  },
  {
   "cell_type": "code",
   "execution_count": 4,
   "id": "48d1f1eb",
   "metadata": {},
   "outputs": [
    {
     "name": "stdout",
     "output_type": "stream",
     "text": [
      "(34252, 2)\n"
     ]
    },
    {
     "data": {
      "text/html": [
       "<div>\n",
       "<style scoped>\n",
       "    .dataframe tbody tr th:only-of-type {\n",
       "        vertical-align: middle;\n",
       "    }\n",
       "\n",
       "    .dataframe tbody tr th {\n",
       "        vertical-align: top;\n",
       "    }\n",
       "\n",
       "    .dataframe thead th {\n",
       "        text-align: right;\n",
       "    }\n",
       "</style>\n",
       "<table border=\"1\" class=\"dataframe\">\n",
       "  <thead>\n",
       "    <tr style=\"text-align: right;\">\n",
       "      <th></th>\n",
       "      <th>tag_id</th>\n",
       "      <th>tag_name</th>\n",
       "    </tr>\n",
       "  </thead>\n",
       "  <tbody>\n",
       "    <tr>\n",
       "      <th>0</th>\n",
       "      <td>0</td>\n",
       "      <td>-</td>\n",
       "    </tr>\n",
       "    <tr>\n",
       "      <th>1</th>\n",
       "      <td>1</td>\n",
       "      <td>--1-</td>\n",
       "    </tr>\n",
       "    <tr>\n",
       "      <th>2</th>\n",
       "      <td>2</td>\n",
       "      <td>--10-</td>\n",
       "    </tr>\n",
       "    <tr>\n",
       "      <th>3</th>\n",
       "      <td>3</td>\n",
       "      <td>--12-</td>\n",
       "    </tr>\n",
       "    <tr>\n",
       "      <th>4</th>\n",
       "      <td>4</td>\n",
       "      <td>--122-</td>\n",
       "    </tr>\n",
       "  </tbody>\n",
       "</table>\n",
       "</div>"
      ],
      "text/plain": [
       "   tag_id tag_name\n",
       "0       0        -\n",
       "1       1     --1-\n",
       "2       2    --10-\n",
       "3       3    --12-\n",
       "4       4   --122-"
      ]
     },
     "execution_count": 4,
     "metadata": {},
     "output_type": "execute_result"
    }
   ],
   "source": [
    "print(tags.shape)\n",
    "tags.head()"
   ]
  },
  {
   "cell_type": "code",
   "execution_count": 5,
   "id": "77a72b2d",
   "metadata": {},
   "outputs": [
    {
     "name": "stdout",
     "output_type": "stream",
     "text": [
      "(10000, 30)\n",
      "Index(['Unnamed: 0', 'index', 'authors', 'average_rating', 'best_book_id',\n",
      "       'book_id', 'books_count', 'description', 'genres', 'goodreads_book_id',\n",
      "       'image_url', 'isbn', 'isbn13', 'language_code',\n",
      "       'original_publication_year', 'original_title', 'pages', 'publishDate',\n",
      "       'ratings_1', 'ratings_2', 'ratings_3', 'ratings_4', 'ratings_5',\n",
      "       'ratings_count', 'small_image_url', 'title', 'work_id',\n",
      "       'work_ratings_count', 'work_text_reviews_count', 'authors_2'],\n",
      "      dtype='object')\n"
     ]
    },
    {
     "data": {
      "text/html": [
       "<div>\n",
       "<style scoped>\n",
       "    .dataframe tbody tr th:only-of-type {\n",
       "        vertical-align: middle;\n",
       "    }\n",
       "\n",
       "    .dataframe tbody tr th {\n",
       "        vertical-align: top;\n",
       "    }\n",
       "\n",
       "    .dataframe thead th {\n",
       "        text-align: right;\n",
       "    }\n",
       "</style>\n",
       "<table border=\"1\" class=\"dataframe\">\n",
       "  <thead>\n",
       "    <tr style=\"text-align: right;\">\n",
       "      <th></th>\n",
       "      <th>Unnamed: 0</th>\n",
       "      <th>index</th>\n",
       "      <th>authors</th>\n",
       "      <th>average_rating</th>\n",
       "      <th>best_book_id</th>\n",
       "      <th>book_id</th>\n",
       "      <th>books_count</th>\n",
       "      <th>description</th>\n",
       "      <th>genres</th>\n",
       "      <th>goodreads_book_id</th>\n",
       "      <th>...</th>\n",
       "      <th>ratings_3</th>\n",
       "      <th>ratings_4</th>\n",
       "      <th>ratings_5</th>\n",
       "      <th>ratings_count</th>\n",
       "      <th>small_image_url</th>\n",
       "      <th>title</th>\n",
       "      <th>work_id</th>\n",
       "      <th>work_ratings_count</th>\n",
       "      <th>work_text_reviews_count</th>\n",
       "      <th>authors_2</th>\n",
       "    </tr>\n",
       "  </thead>\n",
       "  <tbody>\n",
       "    <tr>\n",
       "      <th>0</th>\n",
       "      <td>0</td>\n",
       "      <td>0</td>\n",
       "      <td>['Suzanne Collins']</td>\n",
       "      <td>4.34</td>\n",
       "      <td>2767052</td>\n",
       "      <td>1</td>\n",
       "      <td>272</td>\n",
       "      <td>WINNING MEANS FAME AND FORTUNE.LOSING MEANS CE...</td>\n",
       "      <td>['young-adult', 'fiction', 'fantasy', 'science...</td>\n",
       "      <td>2767052</td>\n",
       "      <td>...</td>\n",
       "      <td>560092</td>\n",
       "      <td>1481305</td>\n",
       "      <td>2706317</td>\n",
       "      <td>4780653</td>\n",
       "      <td>https://images.gr-assets.com/books/1447303603s...</td>\n",
       "      <td>The Hunger Games (The Hunger Games, #1)</td>\n",
       "      <td>2792775</td>\n",
       "      <td>4942365</td>\n",
       "      <td>155254</td>\n",
       "      <td>['Suzanne Collins']</td>\n",
       "    </tr>\n",
       "    <tr>\n",
       "      <th>1</th>\n",
       "      <td>1</td>\n",
       "      <td>1</td>\n",
       "      <td>['J.K. Rowling', 'Mary GrandPré']</td>\n",
       "      <td>4.44</td>\n",
       "      <td>3</td>\n",
       "      <td>2</td>\n",
       "      <td>491</td>\n",
       "      <td>Harry Potter's life is miserable. His parents ...</td>\n",
       "      <td>['fantasy', 'fiction', 'young-adult', 'classics']</td>\n",
       "      <td>3</td>\n",
       "      <td>...</td>\n",
       "      <td>455024</td>\n",
       "      <td>1156318</td>\n",
       "      <td>3011543</td>\n",
       "      <td>4602479</td>\n",
       "      <td>https://images.gr-assets.com/books/1474154022s...</td>\n",
       "      <td>Harry Potter and the Sorcerer's Stone (Harry P...</td>\n",
       "      <td>4640799</td>\n",
       "      <td>4800065</td>\n",
       "      <td>75867</td>\n",
       "      <td>['J.K. Rowling', 'Mary GrandPré']</td>\n",
       "    </tr>\n",
       "    <tr>\n",
       "      <th>2</th>\n",
       "      <td>2</td>\n",
       "      <td>2</td>\n",
       "      <td>['Stephenie Meyer']</td>\n",
       "      <td>3.57</td>\n",
       "      <td>41865</td>\n",
       "      <td>3</td>\n",
       "      <td>226</td>\n",
       "      <td>About three things I was absolutely positive.\\...</td>\n",
       "      <td>['young-adult', 'fantasy', 'romance', 'fiction...</td>\n",
       "      <td>41865</td>\n",
       "      <td>...</td>\n",
       "      <td>793319</td>\n",
       "      <td>875073</td>\n",
       "      <td>1355439</td>\n",
       "      <td>3866839</td>\n",
       "      <td>https://images.gr-assets.com/books/1361039443s...</td>\n",
       "      <td>Twilight (Twilight, #1)</td>\n",
       "      <td>3212258</td>\n",
       "      <td>3916824</td>\n",
       "      <td>95009</td>\n",
       "      <td>['Stephenie Meyer']</td>\n",
       "    </tr>\n",
       "    <tr>\n",
       "      <th>3</th>\n",
       "      <td>3</td>\n",
       "      <td>3</td>\n",
       "      <td>['Harper Lee']</td>\n",
       "      <td>4.25</td>\n",
       "      <td>2657</td>\n",
       "      <td>4</td>\n",
       "      <td>487</td>\n",
       "      <td>The unforgettable novel of a childhood in a sl...</td>\n",
       "      <td>['classics', 'fiction', 'historical-fiction', ...</td>\n",
       "      <td>2657</td>\n",
       "      <td>...</td>\n",
       "      <td>446835</td>\n",
       "      <td>1001952</td>\n",
       "      <td>1714267</td>\n",
       "      <td>3198671</td>\n",
       "      <td>https://images.gr-assets.com/books/1361975680s...</td>\n",
       "      <td>To Kill a Mockingbird</td>\n",
       "      <td>3275794</td>\n",
       "      <td>3340896</td>\n",
       "      <td>72586</td>\n",
       "      <td>['Harper Lee']</td>\n",
       "    </tr>\n",
       "    <tr>\n",
       "      <th>4</th>\n",
       "      <td>4</td>\n",
       "      <td>4</td>\n",
       "      <td>['F. Scott Fitzgerald']</td>\n",
       "      <td>3.89</td>\n",
       "      <td>4671</td>\n",
       "      <td>5</td>\n",
       "      <td>1356</td>\n",
       "      <td>Alternate Cover Edition ISBN: 0743273567 (ISBN...</td>\n",
       "      <td>['classics', 'fiction', 'historical-fiction', ...</td>\n",
       "      <td>4671</td>\n",
       "      <td>...</td>\n",
       "      <td>606158</td>\n",
       "      <td>936012</td>\n",
       "      <td>947718</td>\n",
       "      <td>2683664</td>\n",
       "      <td>https://images.gr-assets.com/books/1490528560s...</td>\n",
       "      <td>The Great Gatsby</td>\n",
       "      <td>245494</td>\n",
       "      <td>2773745</td>\n",
       "      <td>51992</td>\n",
       "      <td>['F. Scott Fitzgerald']</td>\n",
       "    </tr>\n",
       "  </tbody>\n",
       "</table>\n",
       "<p>5 rows × 30 columns</p>\n",
       "</div>"
      ],
      "text/plain": [
       "   Unnamed: 0  index                            authors  average_rating  \\\n",
       "0           0      0                ['Suzanne Collins']            4.34   \n",
       "1           1      1  ['J.K. Rowling', 'Mary GrandPré']            4.44   \n",
       "2           2      2                ['Stephenie Meyer']            3.57   \n",
       "3           3      3                     ['Harper Lee']            4.25   \n",
       "4           4      4            ['F. Scott Fitzgerald']            3.89   \n",
       "\n",
       "   best_book_id  book_id  books_count  \\\n",
       "0       2767052        1          272   \n",
       "1             3        2          491   \n",
       "2         41865        3          226   \n",
       "3          2657        4          487   \n",
       "4          4671        5         1356   \n",
       "\n",
       "                                         description  \\\n",
       "0  WINNING MEANS FAME AND FORTUNE.LOSING MEANS CE...   \n",
       "1  Harry Potter's life is miserable. His parents ...   \n",
       "2  About three things I was absolutely positive.\\...   \n",
       "3  The unforgettable novel of a childhood in a sl...   \n",
       "4  Alternate Cover Edition ISBN: 0743273567 (ISBN...   \n",
       "\n",
       "                                              genres  goodreads_book_id  ...  \\\n",
       "0  ['young-adult', 'fiction', 'fantasy', 'science...            2767052  ...   \n",
       "1  ['fantasy', 'fiction', 'young-adult', 'classics']                  3  ...   \n",
       "2  ['young-adult', 'fantasy', 'romance', 'fiction...              41865  ...   \n",
       "3  ['classics', 'fiction', 'historical-fiction', ...               2657  ...   \n",
       "4  ['classics', 'fiction', 'historical-fiction', ...               4671  ...   \n",
       "\n",
       "  ratings_3 ratings_4  ratings_5 ratings_count  \\\n",
       "0    560092   1481305    2706317       4780653   \n",
       "1    455024   1156318    3011543       4602479   \n",
       "2    793319    875073    1355439       3866839   \n",
       "3    446835   1001952    1714267       3198671   \n",
       "4    606158    936012     947718       2683664   \n",
       "\n",
       "                                     small_image_url  \\\n",
       "0  https://images.gr-assets.com/books/1447303603s...   \n",
       "1  https://images.gr-assets.com/books/1474154022s...   \n",
       "2  https://images.gr-assets.com/books/1361039443s...   \n",
       "3  https://images.gr-assets.com/books/1361975680s...   \n",
       "4  https://images.gr-assets.com/books/1490528560s...   \n",
       "\n",
       "                                               title  work_id  \\\n",
       "0            The Hunger Games (The Hunger Games, #1)  2792775   \n",
       "1  Harry Potter and the Sorcerer's Stone (Harry P...  4640799   \n",
       "2                            Twilight (Twilight, #1)  3212258   \n",
       "3                              To Kill a Mockingbird  3275794   \n",
       "4                                   The Great Gatsby   245494   \n",
       "\n",
       "  work_ratings_count  work_text_reviews_count  \\\n",
       "0            4942365                   155254   \n",
       "1            4800065                    75867   \n",
       "2            3916824                    95009   \n",
       "3            3340896                    72586   \n",
       "4            2773745                    51992   \n",
       "\n",
       "                           authors_2  \n",
       "0                ['Suzanne Collins']  \n",
       "1  ['J.K. Rowling', 'Mary GrandPré']  \n",
       "2                ['Stephenie Meyer']  \n",
       "3                     ['Harper Lee']  \n",
       "4            ['F. Scott Fitzgerald']  \n",
       "\n",
       "[5 rows x 30 columns]"
      ]
     },
     "execution_count": 5,
     "metadata": {},
     "output_type": "execute_result"
    }
   ],
   "source": [
    "print(books.shape)\n",
    "print(books.columns)\n",
    "books.head()"
   ]
  },
  {
   "cell_type": "code",
   "execution_count": 6,
   "id": "5fdd32c1",
   "metadata": {},
   "outputs": [],
   "source": [
    "books['Total reviews'] = books['ratings_1'] + books['ratings_2'] + books['ratings_3'] + books['ratings_4'] + books['ratings_5']"
   ]
  },
  {
   "cell_type": "code",
   "execution_count": 61,
   "id": "d6b06b14",
   "metadata": {},
   "outputs": [],
   "source": [
    "no_ratings = books.groupby('original_title')[['Total reviews','ratings_1','ratings_2','ratings_3','ratings_4','ratings_5']]\\\n",
    "                                .sum().sort_values(by = 'Total reviews', ascending = False)[0:20]"
   ]
  },
  {
   "cell_type": "code",
   "execution_count": 8,
   "id": "59e9f841",
   "metadata": {},
   "outputs": [
    {
     "data": {
      "image/png": "[encoded data removed]",
      "text/plain": [
       "<Figure size 432x288 with 1 Axes>"
      ]
     },
     "metadata": {},
     "output_type": "display_data"
    }
   ],
   "source": [
    "sns.set(style='white')\n",
    "no_ratings[['ratings_1','ratings_2','ratings_3','ratings_4','ratings_5']].plot(kind='bar', stacked=True)\n",
    "plt.title('Ratings for Top 20 books', fontsize=16)\n",
    "plt.ylabel('Ratings')\n",
    "plt.show()"
   ]
  },
  {
   "cell_type": "markdown",
   "id": "3350e069",
   "metadata": {},
   "source": [
    "Most top books have a lot of 5 & 4 star ratings, Twilight very polarizing"
   ]
  },
  {
   "cell_type": "code",
   "execution_count": 9,
   "id": "0cccd180",
   "metadata": {},
   "outputs": [],
   "source": [
    "import re\n",
    "books['Top Genre'] = books['genres'].apply(lambda x: re.findall('^\\[\\'([A-z-]+)',x)[0])"
   ]
  },
  {
   "cell_type": "code",
   "execution_count": 10,
   "id": "8c2a375f",
   "metadata": {},
   "outputs": [],
   "source": [
    "genre_ratings = books.groupby('Top Genre')\\\n",
    ".agg({'Total reviews':'sum','ratings_1':'sum','ratings_2':'sum','ratings_3':'sum','ratings_4':'sum','ratings_5':'sum'\\\n",
    "      ,'average_rating':'mean'})\\\n",
    "                                .sort_values(by = 'Total reviews', ascending = False)[0:10]"
   ]
  },
  {
   "cell_type": "code",
   "execution_count": 11,
   "id": "69556229",
   "metadata": {},
   "outputs": [
    {
     "data": {
      "text/html": [
       "<div>\n",
       "<style scoped>\n",
       "    .dataframe tbody tr th:only-of-type {\n",
       "        vertical-align: middle;\n",
       "    }\n",
       "\n",
       "    .dataframe tbody tr th {\n",
       "        vertical-align: top;\n",
       "    }\n",
       "\n",
       "    .dataframe thead th {\n",
       "        text-align: right;\n",
       "    }\n",
       "</style>\n",
       "<table border=\"1\" class=\"dataframe\">\n",
       "  <thead>\n",
       "    <tr style=\"text-align: right;\">\n",
       "      <th></th>\n",
       "      <th>Total reviews</th>\n",
       "      <th>ratings_1</th>\n",
       "      <th>ratings_2</th>\n",
       "      <th>ratings_3</th>\n",
       "      <th>ratings_4</th>\n",
       "      <th>ratings_5</th>\n",
       "      <th>average_rating</th>\n",
       "    </tr>\n",
       "    <tr>\n",
       "      <th>Top Genre</th>\n",
       "      <th></th>\n",
       "      <th></th>\n",
       "      <th></th>\n",
       "      <th></th>\n",
       "      <th></th>\n",
       "      <th></th>\n",
       "      <th></th>\n",
       "    </tr>\n",
       "  </thead>\n",
       "  <tbody>\n",
       "    <tr>\n",
       "      <th>fiction</th>\n",
       "      <td>123371977</td>\n",
       "      <td>2933397</td>\n",
       "      <td>7389447</td>\n",
       "      <td>26339932</td>\n",
       "      <td>43458625</td>\n",
       "      <td>43250576</td>\n",
       "      <td>3.894149</td>\n",
       "    </tr>\n",
       "    <tr>\n",
       "      <th>fantasy</th>\n",
       "      <td>104696252</td>\n",
       "      <td>1540908</td>\n",
       "      <td>3817823</td>\n",
       "      <td>16302862</td>\n",
       "      <td>33326637</td>\n",
       "      <td>49708022</td>\n",
       "      <td>4.104854</td>\n",
       "    </tr>\n",
       "    <tr>\n",
       "      <th>classics</th>\n",
       "      <td>83650342</td>\n",
       "      <td>2199120</td>\n",
       "      <td>5039922</td>\n",
       "      <td>17275430</td>\n",
       "      <td>27557589</td>\n",
       "      <td>31578281</td>\n",
       "      <td>3.957643</td>\n",
       "    </tr>\n",
       "    <tr>\n",
       "      <th>young-adult</th>\n",
       "      <td>76663066</td>\n",
       "      <td>2343382</td>\n",
       "      <td>4740304</td>\n",
       "      <td>14812318</td>\n",
       "      <td>23655128</td>\n",
       "      <td>31111934</td>\n",
       "      <td>3.967103</td>\n",
       "    </tr>\n",
       "    <tr>\n",
       "      <th>nonfiction</th>\n",
       "      <td>37063072</td>\n",
       "      <td>904938</td>\n",
       "      <td>1912489</td>\n",
       "      <td>7227666</td>\n",
       "      <td>13025100</td>\n",
       "      <td>13992879</td>\n",
       "      <td>3.994548</td>\n",
       "    </tr>\n",
       "    <tr>\n",
       "      <th>romance</th>\n",
       "      <td>32753456</td>\n",
       "      <td>843559</td>\n",
       "      <td>1625599</td>\n",
       "      <td>5659743</td>\n",
       "      <td>10389988</td>\n",
       "      <td>14234567</td>\n",
       "      <td>4.089928</td>\n",
       "    </tr>\n",
       "    <tr>\n",
       "      <th>mystery</th>\n",
       "      <td>25149799</td>\n",
       "      <td>330131</td>\n",
       "      <td>1047886</td>\n",
       "      <td>5498663</td>\n",
       "      <td>9804860</td>\n",
       "      <td>8468259</td>\n",
       "      <td>3.989868</td>\n",
       "    </tr>\n",
       "    <tr>\n",
       "      <th>historical-fiction</th>\n",
       "      <td>21716050</td>\n",
       "      <td>363336</td>\n",
       "      <td>969593</td>\n",
       "      <td>3983889</td>\n",
       "      <td>7794479</td>\n",
       "      <td>8604753</td>\n",
       "      <td>3.998805</td>\n",
       "    </tr>\n",
       "    <tr>\n",
       "      <th>science-fiction</th>\n",
       "      <td>16276979</td>\n",
       "      <td>247699</td>\n",
       "      <td>707656</td>\n",
       "      <td>3001176</td>\n",
       "      <td>5864002</td>\n",
       "      <td>6456446</td>\n",
       "      <td>4.007595</td>\n",
       "    </tr>\n",
       "    <tr>\n",
       "      <th>horror</th>\n",
       "      <td>15467888</td>\n",
       "      <td>299198</td>\n",
       "      <td>894304</td>\n",
       "      <td>3471483</td>\n",
       "      <td>5305633</td>\n",
       "      <td>5497270</td>\n",
       "      <td>3.904727</td>\n",
       "    </tr>\n",
       "  </tbody>\n",
       "</table>\n",
       "</div>"
      ],
      "text/plain": [
       "                    Total reviews  ratings_1  ratings_2  ratings_3  ratings_4  \\\n",
       "Top Genre                                                                       \n",
       "fiction                 123371977    2933397    7389447   26339932   43458625   \n",
       "fantasy                 104696252    1540908    3817823   16302862   33326637   \n",
       "classics                 83650342    2199120    5039922   17275430   27557589   \n",
       "young-adult              76663066    2343382    4740304   14812318   23655128   \n",
       "nonfiction               37063072     904938    1912489    7227666   13025100   \n",
       "romance                  32753456     843559    1625599    5659743   10389988   \n",
       "mystery                  25149799     330131    1047886    5498663    9804860   \n",
       "historical-fiction       21716050     363336     969593    3983889    7794479   \n",
       "science-fiction          16276979     247699     707656    3001176    5864002   \n",
       "horror                   15467888     299198     894304    3471483    5305633   \n",
       "\n",
       "                    ratings_5  average_rating  \n",
       "Top Genre                                      \n",
       "fiction              43250576        3.894149  \n",
       "fantasy              49708022        4.104854  \n",
       "classics             31578281        3.957643  \n",
       "young-adult          31111934        3.967103  \n",
       "nonfiction           13992879        3.994548  \n",
       "romance              14234567        4.089928  \n",
       "mystery               8468259        3.989868  \n",
       "historical-fiction    8604753        3.998805  \n",
       "science-fiction       6456446        4.007595  \n",
       "horror                5497270        3.904727  "
      ]
     },
     "execution_count": 11,
     "metadata": {},
     "output_type": "execute_result"
    }
   ],
   "source": [
    "genre_ratings"
   ]
  },
  {
   "cell_type": "code",
   "execution_count": 12,
   "id": "05cfb145",
   "metadata": {},
   "outputs": [
    {
     "data": {
      "image/png": "[encoded data removed]",
      "text/plain": [
       "<Figure size 432x288 with 1 Axes>"
      ]
     },
     "metadata": {},
     "output_type": "display_data"
    }
   ],
   "source": [
    "sns.set(style='white')\n",
    "genre_ratings[['ratings_1','ratings_2','ratings_3','ratings_4','ratings_5']].plot(kind='bar', stacked=True)\n",
    "plt.title('Ratings for Top 10 genres', fontsize=16)\n",
    "plt.ylabel('Ratings')\n",
    "plt.show()"
   ]
  },
  {
   "cell_type": "markdown",
   "id": "1ab789d7",
   "metadata": {},
   "source": [
    "Dominated by fiction, fantasy, classics & young-adult books. Huge drop off after big 4"
   ]
  },
  {
   "cell_type": "code",
   "execution_count": 13,
   "id": "ae085866",
   "metadata": {},
   "outputs": [],
   "source": [
    "year_ratings = books[books['original_publication_year']>0].groupby('original_publication_year')\\\n",
    ".agg({'average_rating':['mean','count']})\n",
    "year_ratings.columns = year_ratings.columns.droplevel()\n",
    "year_ratings = year_ratings[year_ratings.index > 1900]"
   ]
  },
  {
   "cell_type": "code",
   "execution_count": 7,
   "id": "a94ee296",
   "metadata": {},
   "outputs": [
    {
     "data": {
      "text/plain": [
       "<AxesSubplot:xlabel='original_publication_year', ylabel='Percent'>"
      ]
     },
     "execution_count": 7,
     "metadata": {},
     "output_type": "execute_result"
    },
    {
     "data": {
      "image/png": "[encoded data removed]",
      "text/plain": [
       "<Figure size 432x288 with 1 Axes>"
      ]
     },
     "metadata": {
      "needs_background": "light"
     },
     "output_type": "display_data"
    }
   ],
   "source": [
    "sns.histplot(books.loc[books['original_publication_year'] > 1900, 'original_publication_year'], binwidth = 10, stat = 'percent')"
   ]
  },
  {
   "cell_type": "code",
   "execution_count": 15,
   "id": "b0534a23",
   "metadata": {},
   "outputs": [
    {
     "data": {
      "text/plain": [
       "<AxesSubplot:xlabel='original_publication_year', ylabel='mean'>"
      ]
     },
     "execution_count": 15,
     "metadata": {},
     "output_type": "execute_result"
    },
    {
     "data": {
      "image/png": "[encoded data removed]",
      "text/plain": [
       "<Figure size 432x288 with 1 Axes>"
      ]
     },
     "metadata": {},
     "output_type": "display_data"
    }
   ],
   "source": [
    "sns.lineplot(x = year_ratings.index, y = year_ratings['mean'])"
   ]
  },
  {
   "cell_type": "code",
   "execution_count": 16,
   "id": "2c6edb93",
   "metadata": {},
   "outputs": [
    {
     "data": {
      "text/plain": [
       "<AxesSubplot:>"
      ]
     },
     "execution_count": 16,
     "metadata": {},
     "output_type": "execute_result"
    },
    {
     "data": {
      "image/png": "[encoded data removed]",
      "text/plain": [
       "<Figure size 432x288 with 1 Axes>"
      ]
     },
     "metadata": {},
     "output_type": "display_data"
    }
   ],
   "source": [
    "books[['ratings_1','ratings_2','ratings_3','ratings_4','ratings_5']].sum().plot(kind = 'bar')"
   ]
  },
  {
   "cell_type": "code",
   "execution_count": 17,
   "id": "2dd0623f",
   "metadata": {},
   "outputs": [
    {
     "data": {
      "text/plain": [
       "<AxesSubplot:xlabel='average_rating', ylabel='Count'>"
      ]
     },
     "execution_count": 17,
     "metadata": {},
     "output_type": "execute_result"
    },
    {
     "data": {
      "image/png": "[encoded data removed]",
      "text/plain": [
       "<Figure size 432x288 with 1 Axes>"
      ]
     },
     "metadata": {},
     "output_type": "display_data"
    }
   ],
   "source": [
    "sns.histplot(x = 'average_rating', binwidth = 0.25, data = books)"
   ]
  },
  {
   "cell_type": "code",
   "execution_count": 18,
   "id": "e2f4ac51",
   "metadata": {},
   "outputs": [
    {
     "data": {
      "text/plain": [
       "<AxesSubplot:xlabel='pages', ylabel='Count'>"
      ]
     },
     "execution_count": 18,
     "metadata": {},
     "output_type": "execute_result"
    },
    {
     "data": {
      "image/png": "[encoded data removed]",
      "text/plain": [
       "<Figure size 432x288 with 1 Axes>"
      ]
     },
     "metadata": {},
     "output_type": "display_data"
    }
   ],
   "source": [
    "sns.histplot(x = 'pages', data = books[books['pages']<1400])"
   ]
  },
  {
   "cell_type": "code",
   "execution_count": 19,
   "id": "12a7c02b",
   "metadata": {},
   "outputs": [
    {
     "data": {
      "text/plain": [
       "<AxesSubplot:xlabel='Pages Binned', ylabel='average_rating'>"
      ]
     },
     "execution_count": 19,
     "metadata": {},
     "output_type": "execute_result"
    },
    {
     "data": {
      "image/png": "[encoded data removed]",
      "text/plain": [
       "<Figure size 432x288 with 1 Axes>"
      ]
     },
     "metadata": {},
     "output_type": "display_data"
    }
   ],
   "source": [
    "books['Pages Binned'] = pd.cut(books.loc[(books['pages'] < 1000) & (books['pages'] > 0), 'pages'], bins = range(0,1000,100))\n",
    "sns.boxplot(x = 'Pages Binned', y ='average_rating', data = books)"
   ]
  },
  {
   "cell_type": "code",
   "execution_count": 8,
   "id": "c4d438d5",
   "metadata": {},
   "outputs": [
    {
     "data": {
      "text/plain": [
       "<AxesSubplot:ylabel='Frequency'>"
      ]
     },
     "execution_count": 8,
     "metadata": {},
     "output_type": "execute_result"
    },
    {
     "data": {
      "image/png": "[encoded data removed]",
      "text/plain": [
       "<Figure size 432x288 with 1 Axes>"
      ]
     },
     "metadata": {
      "needs_background": "light"
     },
     "output_type": "display_data"
    }
   ],
   "source": [
    "pd.Series(ratings.groupby('user_id')['rating'].count().sort_values(ascending = False).values).plot.hist(bins = 10)"
   ]
  },
  {
   "cell_type": "code",
   "execution_count": 10,
   "id": "8db31b1e",
   "metadata": {},
   "outputs": [
    {
     "data": {
      "text/plain": [
       "count    53424.000000\n",
       "mean       111.868804\n",
       "std         26.071224\n",
       "min         19.000000\n",
       "25%         96.000000\n",
       "50%        111.000000\n",
       "75%        128.000000\n",
       "max        200.000000\n",
       "Name: rating, dtype: float64"
      ]
     },
     "execution_count": 10,
     "metadata": {},
     "output_type": "execute_result"
    }
   ],
   "source": [
    "pd.Series(ratings.groupby('user_id')['rating'].count()).describe()"
   ]
  },
  {
   "cell_type": "markdown",
   "id": "b67bc685",
   "metadata": {},
   "source": [
    "Most users have rated between 75-150 times"
   ]
  },
  {
   "cell_type": "code",
   "execution_count": 59,
   "id": "149688f8",
   "metadata": {},
   "outputs": [
    {
     "data": {
      "text/plain": [
       "<AxesSubplot:ylabel='Frequency'>"
      ]
     },
     "execution_count": 59,
     "metadata": {},
     "output_type": "execute_result"
    },
    {
     "data": {
      "image/png": "[encoded data removed]",
      "text/plain": [
       "<Figure size 432x288 with 1 Axes>"
      ]
     },
     "metadata": {},
     "output_type": "display_data"
    }
   ],
   "source": [
    "pd.Series(ratings.groupby('book_id')['rating'].count().sort_values(ascending = False).values).plot.hist(bins = 100)"
   ]
  },
  {
   "cell_type": "markdown",
   "id": "538cea56",
   "metadata": {},
   "source": [
    "Most books rated few number of times, very few books rated a lot of times"
   ]
  },
  {
   "cell_type": "code",
   "execution_count": 54,
   "id": "8ee1cd28",
   "metadata": {},
   "outputs": [
    {
     "data": {
      "text/html": [
       "<div>\n",
       "<style scoped>\n",
       "    .dataframe tbody tr th:only-of-type {\n",
       "        vertical-align: middle;\n",
       "    }\n",
       "\n",
       "    .dataframe tbody tr th {\n",
       "        vertical-align: top;\n",
       "    }\n",
       "\n",
       "    .dataframe thead th {\n",
       "        text-align: right;\n",
       "    }\n",
       "</style>\n",
       "<table border=\"1\" class=\"dataframe\">\n",
       "  <thead>\n",
       "    <tr style=\"text-align: right;\">\n",
       "      <th></th>\n",
       "      <th>mean</th>\n",
       "      <th>count</th>\n",
       "    </tr>\n",
       "  </thead>\n",
       "  <tbody>\n",
       "    <tr>\n",
       "      <th>mean</th>\n",
       "      <td>1.000000</td>\n",
       "      <td>-0.082534</td>\n",
       "    </tr>\n",
       "    <tr>\n",
       "      <th>count</th>\n",
       "      <td>-0.082534</td>\n",
       "      <td>1.000000</td>\n",
       "    </tr>\n",
       "  </tbody>\n",
       "</table>\n",
       "</div>"
      ],
      "text/plain": [
       "           mean     count\n",
       "mean   1.000000 -0.082534\n",
       "count -0.082534  1.000000"
      ]
     },
     "execution_count": 54,
     "metadata": {},
     "output_type": "execute_result"
    }
   ],
   "source": [
    "user_rate = ratings.groupby('user_id').agg({'rating':{'count', 'mean'}})\n",
    "user_rate.columns = user_rate.columns.droplevel()\n",
    "user_rate.corr()"
   ]
  },
  {
   "cell_type": "markdown",
   "id": "b7ab9d7b",
   "metadata": {},
   "source": [
    "No relation between # of ratings given vs avg rating"
   ]
  },
  {
   "cell_type": "code",
   "execution_count": null,
   "id": "e5dc8e0e",
   "metadata": {},
   "outputs": [],
   "source": []
  }
 ],
 "metadata": {
  "kernelspec": {
   "display_name": "Python 3 (ipykernel)",
   "language": "python",
   "name": "python3"
  },
  "language_info": {
   "codemirror_mode": {
    "name": "ipython",
    "version": 3
   },
   "file_extension": ".py",
   "mimetype": "text/x-python",
   "name": "python",
   "nbconvert_exporter": "python",
   "pygments_lexer": "ipython3",
   "version": "3.9.12"
  }
 },
 "nbformat": 4,
 "nbformat_minor": 5
}
