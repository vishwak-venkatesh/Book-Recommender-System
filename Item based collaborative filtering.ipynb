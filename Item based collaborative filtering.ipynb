{
  "cells": [
    {
      "cell_type": "code",
      "execution_count": null,
      "metadata": {
        "colab": {
          "base_uri": "https://localhost:8080/"
        },
        "id": "1cJXy87JYzHH",
        "outputId": "4eec85eb-8398-46ab-8f16-a2bb3a017e71"
      },
      "outputs": [
        {
          "output_type": "stream",
          "name": "stdout",
          "text": [
            "Looking in indexes: https://pypi.org/simple, https://us-python.pkg.dev/colab-wheels/public/simple/\n",
            "Collecting turicreate\n",
            "  Downloading turicreate-6.4.1-cp37-cp37m-manylinux1_x86_64.whl (92.0 MB)\n",
            "\u001b[K     |████████████████████████████████| 92.0 MB 11 kB/s \n",
            "\u001b[?25hRequirement already satisfied: pandas>=0.23.2 in /usr/local/lib/python3.7/dist-packages (from turicreate) (1.3.5)\n",
            "Collecting tensorflow<2.1.0,>=2.0.0\n",
            "  Downloading tensorflow-2.0.4-cp37-cp37m-manylinux2010_x86_64.whl (86.4 MB)\n",
            "\u001b[K     |████████████████████████████████| 86.4 MB 57 kB/s \n",
            "\u001b[?25hCollecting coremltools==3.3\n",
            "  Downloading coremltools-3.3-cp37-none-manylinux1_x86_64.whl (3.5 MB)\n",
            "\u001b[K     |████████████████████████████████| 3.5 MB 36.8 MB/s \n",
            "\u001b[?25hRequirement already satisfied: decorator>=4.0.9 in /usr/local/lib/python3.7/dist-packages (from turicreate) (4.4.2)\n",
            "Requirement already satisfied: six>=1.10.0 in /usr/local/lib/python3.7/dist-packages (from turicreate) (1.15.0)\n",
            "Requirement already satisfied: requests>=2.9.1 in /usr/local/lib/python3.7/dist-packages (from turicreate) (2.23.0)\n",
            "Requirement already satisfied: pillow>=5.2.0 in /usr/local/lib/python3.7/dist-packages (from turicreate) (7.1.2)\n",
            "Collecting resampy==0.2.1\n",
            "  Downloading resampy-0.2.1.tar.gz (322 kB)\n",
            "\u001b[K     |████████████████████████████████| 322 kB 52.4 MB/s \n",
            "\u001b[?25hCollecting numba<0.51.0\n",
            "  Downloading numba-0.50.1-cp37-cp37m-manylinux2014_x86_64.whl (3.6 MB)\n",
            "\u001b[K     |████████████████████████████████| 3.6 MB 38.2 MB/s \n",
            "\u001b[?25hRequirement already satisfied: numpy in /usr/local/lib/python3.7/dist-packages (from turicreate) (1.21.6)\n",
            "Requirement already satisfied: scipy>=1.1.0 in /usr/local/lib/python3.7/dist-packages (from turicreate) (1.7.3)\n",
            "Collecting prettytable==0.7.2\n",
            "  Downloading prettytable-0.7.2.zip (28 kB)\n",
            "Requirement already satisfied: protobuf>=3.1.0 in /usr/local/lib/python3.7/dist-packages (from coremltools==3.3->turicreate) (3.17.3)\n",
            "Collecting llvmlite<0.34,>=0.33.0.dev0\n",
            "  Downloading llvmlite-0.33.0-cp37-cp37m-manylinux1_x86_64.whl (18.3 MB)\n",
            "\u001b[K     |████████████████████████████████| 18.3 MB 297 kB/s \n",
            "\u001b[?25hRequirement already satisfied: setuptools in /usr/local/lib/python3.7/dist-packages (from numba<0.51.0->turicreate) (57.4.0)\n",
            "Requirement already satisfied: python-dateutil>=2.7.3 in /usr/local/lib/python3.7/dist-packages (from pandas>=0.23.2->turicreate) (2.8.2)\n",
            "Requirement already satisfied: pytz>=2017.3 in /usr/local/lib/python3.7/dist-packages (from pandas>=0.23.2->turicreate) (2022.5)\n",
            "Requirement already satisfied: chardet<4,>=3.0.2 in /usr/local/lib/python3.7/dist-packages (from requests>=2.9.1->turicreate) (3.0.4)\n",
            "Requirement already satisfied: idna<3,>=2.5 in /usr/local/lib/python3.7/dist-packages (from requests>=2.9.1->turicreate) (2.10)\n",
            "Requirement already satisfied: certifi>=2017.4.17 in /usr/local/lib/python3.7/dist-packages (from requests>=2.9.1->turicreate) (2022.9.24)\n",
            "Requirement already satisfied: urllib3!=1.25.0,!=1.25.1,<1.26,>=1.21.1 in /usr/local/lib/python3.7/dist-packages (from requests>=2.9.1->turicreate) (1.24.3)\n",
            "Requirement already satisfied: astor>=0.6.0 in /usr/local/lib/python3.7/dist-packages (from tensorflow<2.1.0,>=2.0.0->turicreate) (0.8.1)\n",
            "Collecting gast==0.2.2\n",
            "  Downloading gast-0.2.2.tar.gz (10 kB)\n",
            "Collecting tensorflow-estimator<2.1.0,>=2.0.0\n",
            "  Downloading tensorflow_estimator-2.0.1-py2.py3-none-any.whl (449 kB)\n",
            "\u001b[K     |████████████████████████████████| 449 kB 36.4 MB/s \n",
            "\u001b[?25hCollecting tensorboard<2.1.0,>=2.0.0\n",
            "  Downloading tensorboard-2.0.2-py3-none-any.whl (3.8 MB)\n",
            "\u001b[K     |████████████████████████████████| 3.8 MB 35.6 MB/s \n",
            "\u001b[?25hRequirement already satisfied: keras-preprocessing>=1.0.5 in /usr/local/lib/python3.7/dist-packages (from tensorflow<2.1.0,>=2.0.0->turicreate) (1.1.2)\n",
            "Requirement already satisfied: termcolor>=1.1.0 in /usr/local/lib/python3.7/dist-packages (from tensorflow<2.1.0,>=2.0.0->turicreate) (2.0.1)\n",
            "Collecting h5py<=2.10.0\n",
            "  Downloading h5py-2.10.0-cp37-cp37m-manylinux1_x86_64.whl (2.9 MB)\n",
            "\u001b[K     |████████████████████████████████| 2.9 MB 42.0 MB/s \n",
            "\u001b[?25hRequirement already satisfied: wrapt>=1.11.1 in /usr/local/lib/python3.7/dist-packages (from tensorflow<2.1.0,>=2.0.0->turicreate) (1.14.1)\n",
            "Requirement already satisfied: opt-einsum>=2.3.2 in /usr/local/lib/python3.7/dist-packages (from tensorflow<2.1.0,>=2.0.0->turicreate) (3.3.0)\n",
            "Requirement already satisfied: wheel>=0.26 in /usr/local/lib/python3.7/dist-packages (from tensorflow<2.1.0,>=2.0.0->turicreate) (0.37.1)\n",
            "Requirement already satisfied: absl-py>=0.7.0 in /usr/local/lib/python3.7/dist-packages (from tensorflow<2.1.0,>=2.0.0->turicreate) (1.3.0)\n",
            "Collecting numpy\n",
            "  Downloading numpy-1.18.5-cp37-cp37m-manylinux1_x86_64.whl (20.1 MB)\n",
            "\u001b[K     |████████████████████████████████| 20.1 MB 1.1 MB/s \n",
            "\u001b[?25hRequirement already satisfied: google-pasta>=0.1.6 in /usr/local/lib/python3.7/dist-packages (from tensorflow<2.1.0,>=2.0.0->turicreate) (0.2.0)\n",
            "Requirement already satisfied: grpcio>=1.8.6 in /usr/local/lib/python3.7/dist-packages (from tensorflow<2.1.0,>=2.0.0->turicreate) (1.50.0)\n",
            "Collecting keras-applications>=1.0.8\n",
            "  Downloading Keras_Applications-1.0.8-py3-none-any.whl (50 kB)\n",
            "\u001b[K     |████████████████████████████████| 50 kB 7.6 MB/s \n",
            "\u001b[?25hRequirement already satisfied: markdown>=2.6.8 in /usr/local/lib/python3.7/dist-packages (from tensorboard<2.1.0,>=2.0.0->tensorflow<2.1.0,>=2.0.0->turicreate) (3.4.1)\n",
            "Requirement already satisfied: google-auth-oauthlib<0.5,>=0.4.1 in /usr/local/lib/python3.7/dist-packages (from tensorboard<2.1.0,>=2.0.0->tensorflow<2.1.0,>=2.0.0->turicreate) (0.4.6)\n",
            "Requirement already satisfied: werkzeug>=0.11.15 in /usr/local/lib/python3.7/dist-packages (from tensorboard<2.1.0,>=2.0.0->tensorflow<2.1.0,>=2.0.0->turicreate) (1.0.1)\n",
            "Requirement already satisfied: google-auth<2,>=1.6.3 in /usr/local/lib/python3.7/dist-packages (from tensorboard<2.1.0,>=2.0.0->tensorflow<2.1.0,>=2.0.0->turicreate) (1.35.0)\n",
            "Requirement already satisfied: rsa<5,>=3.1.4 in /usr/local/lib/python3.7/dist-packages (from google-auth<2,>=1.6.3->tensorboard<2.1.0,>=2.0.0->tensorflow<2.1.0,>=2.0.0->turicreate) (4.9)\n",
            "Requirement already satisfied: pyasn1-modules>=0.2.1 in /usr/local/lib/python3.7/dist-packages (from google-auth<2,>=1.6.3->tensorboard<2.1.0,>=2.0.0->tensorflow<2.1.0,>=2.0.0->turicreate) (0.2.8)\n",
            "Requirement already satisfied: cachetools<5.0,>=2.0.0 in /usr/local/lib/python3.7/dist-packages (from google-auth<2,>=1.6.3->tensorboard<2.1.0,>=2.0.0->tensorflow<2.1.0,>=2.0.0->turicreate) (4.2.4)\n",
            "Requirement already satisfied: requests-oauthlib>=0.7.0 in /usr/local/lib/python3.7/dist-packages (from google-auth-oauthlib<0.5,>=0.4.1->tensorboard<2.1.0,>=2.0.0->tensorflow<2.1.0,>=2.0.0->turicreate) (1.3.1)\n",
            "Requirement already satisfied: importlib-metadata>=4.4 in /usr/local/lib/python3.7/dist-packages (from markdown>=2.6.8->tensorboard<2.1.0,>=2.0.0->tensorflow<2.1.0,>=2.0.0->turicreate) (4.13.0)\n",
            "Requirement already satisfied: zipp>=0.5 in /usr/local/lib/python3.7/dist-packages (from importlib-metadata>=4.4->markdown>=2.6.8->tensorboard<2.1.0,>=2.0.0->tensorflow<2.1.0,>=2.0.0->turicreate) (3.10.0)\n",
            "Requirement already satisfied: typing-extensions>=3.6.4 in /usr/local/lib/python3.7/dist-packages (from importlib-metadata>=4.4->markdown>=2.6.8->tensorboard<2.1.0,>=2.0.0->tensorflow<2.1.0,>=2.0.0->turicreate) (4.1.1)\n",
            "Requirement already satisfied: pyasn1<0.5.0,>=0.4.6 in /usr/local/lib/python3.7/dist-packages (from pyasn1-modules>=0.2.1->google-auth<2,>=1.6.3->tensorboard<2.1.0,>=2.0.0->tensorflow<2.1.0,>=2.0.0->turicreate) (0.4.8)\n",
            "Requirement already satisfied: oauthlib>=3.0.0 in /usr/local/lib/python3.7/dist-packages (from requests-oauthlib>=0.7.0->google-auth-oauthlib<0.5,>=0.4.1->tensorboard<2.1.0,>=2.0.0->tensorflow<2.1.0,>=2.0.0->turicreate) (3.2.2)\n",
            "Building wheels for collected packages: prettytable, resampy, gast\n",
            "  Building wheel for prettytable (setup.py) ... \u001b[?25l\u001b[?25hdone\n",
            "  Created wheel for prettytable: filename=prettytable-0.7.2-py3-none-any.whl size=13714 sha256=310dc24c0aed0dc9eb1ad2cec9278929759a0b5c2dcdd595e043d8729580496c\n",
            "  Stored in directory: /root/.cache/pip/wheels/b2/7f/f6/f180315b584f00445045ff1699b550fa895d09471337ce21c6\n",
            "  Building wheel for resampy (setup.py) ... \u001b[?25l\u001b[?25hdone\n",
            "  Created wheel for resampy: filename=resampy-0.2.1-py3-none-any.whl size=320859 sha256=24ffdc8f96f7bf9f228bfda6aa19de4d48330edfb90565ffd8db2a09310c010a\n",
            "  Stored in directory: /root/.cache/pip/wheels/71/74/53/d5ceb7c5ee7a168c7d106041863e71ac3273f4a4677743a284\n",
            "  Building wheel for gast (setup.py) ... \u001b[?25l\u001b[?25hdone\n",
            "  Created wheel for gast: filename=gast-0.2.2-py3-none-any.whl size=7554 sha256=bd165f1b2f0997d0f1a9392e098b3fd5bc7c96d0d0659603c02e20a940e4ee8f\n",
            "  Stored in directory: /root/.cache/pip/wheels/21/7f/02/420f32a803f7d0967b48dd823da3f558c5166991bfd204eef3\n",
            "Successfully built prettytable resampy gast\n",
            "Installing collected packages: numpy, llvmlite, h5py, tensorflow-estimator, tensorboard, numba, keras-applications, gast, tensorflow, resampy, prettytable, coremltools, turicreate\n",
            "  Attempting uninstall: numpy\n",
            "    Found existing installation: numpy 1.21.6\n",
            "    Uninstalling numpy-1.21.6:\n",
            "      Successfully uninstalled numpy-1.21.6\n",
            "  Attempting uninstall: llvmlite\n",
            "    Found existing installation: llvmlite 0.39.1\n",
            "    Uninstalling llvmlite-0.39.1:\n",
            "      Successfully uninstalled llvmlite-0.39.1\n",
            "  Attempting uninstall: h5py\n",
            "    Found existing installation: h5py 3.1.0\n",
            "    Uninstalling h5py-3.1.0:\n",
            "      Successfully uninstalled h5py-3.1.0\n",
            "  Attempting uninstall: tensorflow-estimator\n",
            "    Found existing installation: tensorflow-estimator 2.9.0\n",
            "    Uninstalling tensorflow-estimator-2.9.0:\n",
            "      Successfully uninstalled tensorflow-estimator-2.9.0\n",
            "  Attempting uninstall: tensorboard\n",
            "    Found existing installation: tensorboard 2.9.1\n",
            "    Uninstalling tensorboard-2.9.1:\n",
            "      Successfully uninstalled tensorboard-2.9.1\n",
            "  Attempting uninstall: numba\n",
            "    Found existing installation: numba 0.56.3\n",
            "    Uninstalling numba-0.56.3:\n",
            "      Successfully uninstalled numba-0.56.3\n",
            "  Attempting uninstall: gast\n",
            "    Found existing installation: gast 0.4.0\n",
            "    Uninstalling gast-0.4.0:\n",
            "      Successfully uninstalled gast-0.4.0\n",
            "  Attempting uninstall: tensorflow\n",
            "    Found existing installation: tensorflow 2.9.2\n",
            "    Uninstalling tensorflow-2.9.2:\n",
            "      Successfully uninstalled tensorflow-2.9.2\n",
            "  Attempting uninstall: resampy\n",
            "    Found existing installation: resampy 0.4.2\n",
            "    Uninstalling resampy-0.4.2:\n",
            "      Successfully uninstalled resampy-0.4.2\n",
            "  Attempting uninstall: prettytable\n",
            "    Found existing installation: prettytable 3.4.1\n",
            "    Uninstalling prettytable-3.4.1:\n",
            "      Successfully uninstalled prettytable-3.4.1\n",
            "\u001b[31mERROR: pip's dependency resolver does not currently take into account all the packages that are installed. This behaviour is the source of the following dependency conflicts.\n",
            "xarray-einstats 0.2.2 requires numpy>=1.21, but you have numpy 1.18.5 which is incompatible.\n",
            "tensorflow-probability 0.16.0 requires gast>=0.3.2, but you have gast 0.2.2 which is incompatible.\n",
            "tables 3.7.0 requires numpy>=1.19.0, but you have numpy 1.18.5 which is incompatible.\n",
            "plotnine 0.8.0 requires numpy>=1.19.0, but you have numpy 1.18.5 which is incompatible.\n",
            "librosa 0.8.1 requires resampy>=0.2.2, but you have resampy 0.2.1 which is incompatible.\n",
            "jaxlib 0.3.22+cuda11.cudnn805 requires numpy>=1.20, but you have numpy 1.18.5 which is incompatible.\n",
            "jax 0.3.23 requires numpy>=1.20, but you have numpy 1.18.5 which is incompatible.\n",
            "cmdstanpy 1.0.8 requires numpy>=1.21, but you have numpy 1.18.5 which is incompatible.\u001b[0m\n",
            "Successfully installed coremltools-3.3 gast-0.2.2 h5py-2.10.0 keras-applications-1.0.8 llvmlite-0.33.0 numba-0.50.1 numpy-1.18.5 prettytable-0.7.2 resampy-0.2.1 tensorboard-2.0.2 tensorflow-2.0.4 tensorflow-estimator-2.0.1 turicreate-6.4.1\n",
            "Traceback (most recent call last):\n",
            "  File \"/usr/local/bin/jupyter-notebook\", line 8, in <module>\n",
            "    sys.exit(main())\n",
            "  File \"/usr/local/lib/python3.7/dist-packages/jupyter_core/application.py\", line 269, in launch_instance\n",
            "    return super().launch_instance(argv=argv, **kwargs)\n",
            "  File \"/usr/local/lib/python3.7/dist-packages/traitlets/config/application.py\", line 845, in launch_instance\n",
            "    app.initialize(argv)\n",
            "  File \"/usr/local/lib/python3.7/dist-packages/traitlets/config/application.py\", line 88, in inner\n",
            "    return method(app, *args, **kwargs)\n",
            "  File \"/usr/local/lib/python3.7/dist-packages/notebook/notebookapp.py\", line 1537, in initialize\n",
            "    self.init_webapp()\n",
            "  File \"/usr/local/lib/python3.7/dist-packages/notebook/notebookapp.py\", line 1321, in init_webapp\n",
            "    self.http_server.listen(port, self.ip)\n",
            "  File \"/usr/local/lib/python3.7/dist-packages/tornado/tcpserver.py\", line 143, in listen\n",
            "    sockets = bind_sockets(port, address=address)\n",
            "  File \"/usr/local/lib/python3.7/dist-packages/tornado/netutil.py\", line 168, in bind_sockets\n",
            "    sock.bind(sockaddr)\n",
            "OSError: [Errno 99] Cannot assign requested address\n"
          ]
        }
      ],
      "source": [
        "!python -m pip install turicreate\n",
        "!python -m jupyter notebook"
      ]
    },
    {
      "cell_type": "code",
      "execution_count": null,
      "metadata": {
        "id": "ikW2FOwiYzHJ"
      },
      "outputs": [],
      "source": [
        "import turicreate as tc\n",
        "import pandas as pd"
      ]
    },
    {
      "cell_type": "code",
      "source": [
        "books = pd.read_csv('ratings.csv')\n",
        "books.shape"
      ],
      "metadata": {
        "colab": {
          "base_uri": "https://localhost:8080/"
        },
        "id": "clqZcc-NMyhM",
        "outputId": "5014320b-392f-4109-cd71-cccd4a12eb33"
      },
      "execution_count": null,
      "outputs": [
        {
          "output_type": "execute_result",
          "data": {
            "text/plain": [
              "(5976479, 3)"
            ]
          },
          "metadata": {},
          "execution_count": 30
        }
      ]
    },
    {
      "cell_type": "code",
      "source": [
        "max(books['user_id'])"
      ],
      "metadata": {
        "colab": {
          "base_uri": "https://localhost:8080/"
        },
        "id": "jZIFxooZLYbF",
        "outputId": "3ee35d2a-6c0e-4344-f7eb-ccaca1f2e4a0"
      },
      "execution_count": null,
      "outputs": [
        {
          "output_type": "execute_result",
          "data": {
            "text/plain": [
              "53425"
            ]
          },
          "metadata": {},
          "execution_count": 33
        }
      ]
    },
    {
      "cell_type": "code",
      "source": [
        "# Add books to the df\n",
        "new_ratings = pd.read_csv('new_ratings.csv')\n",
        "books = pd.concat([books, new_ratings])\n",
        "books.shape"
      ],
      "metadata": {
        "colab": {
          "base_uri": "https://localhost:8080/"
        },
        "id": "08Tq2RrfMagl",
        "outputId": "2537588c-5703-4a4d-c8c8-eaccbbe20917"
      },
      "execution_count": null,
      "outputs": [
        {
          "output_type": "execute_result",
          "data": {
            "text/plain": [
              "(5976486, 3)"
            ]
          },
          "metadata": {},
          "execution_count": 32
        }
      ]
    },
    {
      "cell_type": "code",
      "execution_count": null,
      "metadata": {
        "id": "8kW2O_J6YzHK"
      },
      "outputs": [],
      "source": [
        "# books = tc.SFrame.read_csv(\"ratings.csv\", header=True,delimiter=',')\n",
        "books = tc.SFrame(books)\n",
        "# books"
      ]
    },
    {
      "cell_type": "code",
      "execution_count": null,
      "metadata": {
        "colab": {
          "base_uri": "https://localhost:8080/",
          "height": 1000
        },
        "id": "1tZLxJ-oYzHK",
        "outputId": "227f6083-f54f-43d2-c53a-33845c194d4b"
      },
      "outputs": [
        {
          "output_type": "display_data",
          "data": {
            "text/plain": [
              "Materializing SFrame"
            ],
            "text/html": [
              "<pre>Materializing SFrame</pre>"
            ]
          },
          "metadata": {}
        },
        {
          "output_type": "display_data",
          "data": {
            "text/plain": [
              "<IPython.core.display.HTML object>"
            ],
            "text/html": [
              "<html>                 <body>                     <iframe style=\"border:0;margin:0\" width=\"1000\" height=\"1200\" srcdoc='<html lang=\"en\">                         <head>                             <script src=\"https://cdnjs.cloudflare.com/ajax/libs/vega/5.4.0/vega.js\"></script>                             <script src=\"https://cdnjs.cloudflare.com/ajax/libs/vega-embed/4.0.0/vega-embed.js\"></script>                             <script src=\"https://cdnjs.cloudflare.com/ajax/libs/vega-tooltip/0.5.1/vega-tooltip.min.js\"></script>                             <link rel=\"stylesheet\" type=\"text/css\" href=\"https://cdnjs.cloudflare.com/ajax/libs/vega-tooltip/0.5.1/vega-tooltip.min.css\">                             <style>                             .vega-actions > a{                                 color:white;                                 text-decoration: none;                                 font-family: \"Arial\";                                 cursor:pointer;                                 padding:5px;                                 background:#AAAAAA;                                 border-radius:4px;                                 padding-left:10px;                                 padding-right:10px;                                 margin-right:5px;                             }                             .vega-actions{                                 margin-top:20px;                                 text-align:center                             }                            .vega-actions > a{                                 background:#999999;                            }                             </style>                         </head>                         <body>                             <div id=\"vis\">                             </div>                             <script>                                 var vega_json = \"{\\\"$schema\\\": \\\"https://vega.github.io/schema/vega/v4.json\\\", \\\"metadata\\\": {\\\"bubbleOpts\\\": {\\\"showAllFields\\\": false, \\\"fields\\\": [{\\\"field\\\": \\\"left\\\"}, {\\\"field\\\": \\\"right\\\"}, {\\\"field\\\": \\\"count\\\"}, {\\\"field\\\": \\\"label\\\"}]}}, \\\"width\\\": 800, \\\"height\\\": 980, \\\"padding\\\": 8, \\\"data\\\": [{\\\"name\\\": \\\"pts_store\\\"}, {\\\"name\\\": \\\"source_2\\\", \\\"values\\\": [{\\\"a\\\": 0, \\\"title\\\": \\\"user_id\\\", \\\"num_row\\\": 5976486, \\\"type\\\": \\\"integer\\\", \\\"num_unique\\\": 53425, \\\"num_missing\\\": 0, \\\"mean\\\": 26224.489221, \\\"min\\\": 1.0, \\\"max\\\": 53425.0, \\\"median\\\": 25954.0, \\\"stdev\\\": 15413.251889, \\\"numeric\\\": [{\\\"left\\\": -126, \\\"right\\\": 2562, \\\"count\\\": 297559}, {\\\"left\\\": 2562, \\\"right\\\": 5250, \\\"count\\\": 314324}, {\\\"left\\\": 5250, \\\"right\\\": 7938, \\\"count\\\": 312989}, {\\\"left\\\": 7938, \\\"right\\\": 10626, \\\"count\\\": 317332}, {\\\"left\\\": 10626, \\\"right\\\": 13314, \\\"count\\\": 310401}, {\\\"left\\\": 13314, \\\"right\\\": 16002, \\\"count\\\": 305855}, {\\\"left\\\": 16002, \\\"right\\\": 18690, \\\"count\\\": 307691}, {\\\"left\\\": 18690, \\\"right\\\": 21378, \\\"count\\\": 305182}, {\\\"left\\\": 21378, \\\"right\\\": 24066, \\\"count\\\": 304381}, {\\\"left\\\": 24066, \\\"right\\\": 26754, \\\"count\\\": 305229}, {\\\"left\\\": 26754, \\\"right\\\": 29442, \\\"count\\\": 301889}, {\\\"left\\\": 29442, \\\"right\\\": 32130, \\\"count\\\": 292203}, {\\\"left\\\": 32130, \\\"right\\\": 34818, \\\"count\\\": 294803}, {\\\"left\\\": 34818, \\\"right\\\": 37506, \\\"count\\\": 293081}, {\\\"left\\\": 37506, \\\"right\\\": 40194, \\\"count\\\": 293781}, {\\\"left\\\": 40194, \\\"right\\\": 42882, \\\"count\\\": 291282}, {\\\"left\\\": 42882, \\\"right\\\": 45570, \\\"count\\\": 287544}, {\\\"left\\\": 45570, \\\"right\\\": 48258, \\\"count\\\": 286507}, {\\\"left\\\": 48258, \\\"right\\\": 50946, \\\"count\\\": 288844}, {\\\"left\\\": 50946, \\\"right\\\": 53634, \\\"count\\\": 265609}, {\\\"start\\\": -126, \\\"stop\\\": 53634, \\\"step\\\": 2688}], \\\"categorical\\\": []}, {\\\"a\\\": 1, \\\"title\\\": \\\"book_id\\\", \\\"num_row\\\": 5976486, \\\"type\\\": \\\"integer\\\", \\\"num_unique\\\": 10000, \\\"num_missing\\\": 0, \\\"mean\\\": 2006.475187, \\\"min\\\": 1.0, \\\"max\\\": 10000.0, \\\"median\\\": 886.0, \\\"stdev\\\": 2468.498661, \\\"numeric\\\": [{\\\"left\\\": -118, \\\"right\\\": 394, \\\"count\\\": 2113244}, {\\\"left\\\": 394, \\\"right\\\": 906, \\\"count\\\": 902519}, {\\\"left\\\": 906, \\\"right\\\": 1418, \\\"count\\\": 533231}, {\\\"left\\\": 1418, \\\"right\\\": 1930, \\\"count\\\": 386217}, {\\\"left\\\": 1930, \\\"right\\\": 2442, \\\"count\\\": 296883}, {\\\"left\\\": 2442, \\\"right\\\": 2954, \\\"count\\\": 242408}, {\\\"left\\\": 2954, \\\"right\\\": 3466, \\\"count\\\": 203696}, {\\\"left\\\": 3466, \\\"right\\\": 3978, \\\"count\\\": 175988}, {\\\"left\\\": 3978, \\\"right\\\": 4490, \\\"count\\\": 150912}, {\\\"left\\\": 4490, \\\"right\\\": 5002, \\\"count\\\": 132609}, {\\\"left\\\": 5002, \\\"right\\\": 5514, \\\"count\\\": 123327}, {\\\"left\\\": 5514, \\\"right\\\": 6026, \\\"count\\\": 109832}, {\\\"left\\\": 6026, \\\"right\\\": 6538, \\\"count\\\": 100289}, {\\\"left\\\": 6538, \\\"right\\\": 7050, \\\"count\\\": 92047}, {\\\"left\\\": 7050, \\\"right\\\": 7562, \\\"count\\\": 85313}, {\\\"left\\\": 7562, \\\"right\\\": 8074, \\\"count\\\": 77271}, {\\\"left\\\": 8074, \\\"right\\\": 8586, \\\"count\\\": 73004}, {\\\"left\\\": 8586, \\\"right\\\": 9098, \\\"count\\\": 68800}, {\\\"left\\\": 9098, \\\"right\\\": 9610, \\\"count\\\": 62614}, {\\\"left\\\": 9610, \\\"right\\\": 10122, \\\"count\\\": 46282}, {\\\"start\\\": -118, \\\"stop\\\": 10122, \\\"step\\\": 512}], \\\"categorical\\\": []}, {\\\"a\\\": 2, \\\"title\\\": \\\"rating\\\", \\\"num_row\\\": 5976486, \\\"type\\\": \\\"integer\\\", \\\"num_unique\\\": 5, \\\"num_missing\\\": 0, \\\"mean\\\": 3.919865, \\\"min\\\": 1.0, \\\"max\\\": 5.0, \\\"median\\\": 4.0, \\\"stdev\\\": 0.991087, \\\"numeric\\\": [{\\\"left\\\": -6, \\\"right\\\": -5, \\\"count\\\": 0}, {\\\"left\\\": -5, \\\"right\\\": -4, \\\"count\\\": 0}, {\\\"left\\\": -4, \\\"right\\\": -3, \\\"count\\\": 0}, {\\\"left\\\": -3, \\\"right\\\": -2, \\\"count\\\": 0}, {\\\"left\\\": -2, \\\"right\\\": -1, \\\"count\\\": 0}, {\\\"left\\\": -1, \\\"right\\\": 0, \\\"count\\\": 0}, {\\\"left\\\": 0, \\\"right\\\": 1, \\\"count\\\": 0}, {\\\"left\\\": 1, \\\"right\\\": 2, \\\"count\\\": 124195}, {\\\"left\\\": 2, \\\"right\\\": 3, \\\"count\\\": 359258}, {\\\"left\\\": 3, \\\"right\\\": 4, \\\"count\\\": 1370919}, {\\\"left\\\": 4, \\\"right\\\": 5, \\\"count\\\": 2139020}, {\\\"left\\\": 5, \\\"right\\\": 6, \\\"count\\\": 1983094}, {\\\"left\\\": 6, \\\"right\\\": 7, \\\"count\\\": 0}, {\\\"left\\\": 7, \\\"right\\\": 8, \\\"count\\\": 0}, {\\\"left\\\": 8, \\\"right\\\": 9, \\\"count\\\": 0}, {\\\"left\\\": 9, \\\"right\\\": 10, \\\"count\\\": 0}, {\\\"left\\\": 10, \\\"right\\\": 11, \\\"count\\\": 0}, {\\\"left\\\": 11, \\\"right\\\": 12, \\\"count\\\": 0}, {\\\"left\\\": 12, \\\"right\\\": 13, \\\"count\\\": 0}, {\\\"left\\\": 13, \\\"right\\\": 14, \\\"count\\\": 0}, {\\\"start\\\": -6, \\\"stop\\\": 14, \\\"step\\\": 1}], \\\"categorical\\\": []}]}, {\\\"name\\\": \\\"data_2\\\", \\\"source\\\": \\\"source_2\\\", \\\"transform\\\": [{\\\"type\\\": \\\"formula\\\", \\\"expr\\\": \\\"20\\\", \\\"as\\\": \\\"c_x_axis_back\\\"}, {\\\"type\\\": \\\"formula\\\", \\\"expr\\\": \\\"toNumber(datum[\\\\\\\"a\\\\\\\"])*300+66\\\", \\\"as\\\": \\\"c_main_background\\\"}, {\\\"type\\\": \\\"formula\\\", \\\"expr\\\": \\\"toNumber(datum[\\\\\\\"a\\\\\\\"])*300+43\\\", \\\"as\\\": \\\"c_top_bar\\\"}, {\\\"type\\\": \\\"formula\\\", \\\"expr\\\": \\\"toNumber(datum[\\\\\\\"a\\\\\\\"])*300+59\\\", \\\"as\\\": \\\"c_top_title\\\"}, {\\\"type\\\": \\\"formula\\\", \\\"expr\\\": \\\"toNumber(datum[\\\\\\\"a\\\\\\\"])*300+58\\\", \\\"as\\\": \\\"c_top_type\\\"}, {\\\"type\\\": \\\"formula\\\", \\\"expr\\\": \\\"toNumber(datum[\\\\\\\"a\\\\\\\"])*300+178\\\", \\\"as\\\": \\\"c_rule\\\"}, {\\\"type\\\": \\\"formula\\\", \\\"expr\\\": \\\"toNumber(datum[\\\\\\\"a\\\\\\\"])*300+106\\\", \\\"as\\\": \\\"c_num_rows\\\"}, {\\\"type\\\": \\\"formula\\\", \\\"expr\\\": \\\"toNumber(datum[\\\\\\\"a\\\\\\\"])*300+130\\\", \\\"as\\\": \\\"c_num_unique\\\"}, {\\\"type\\\": \\\"formula\\\", \\\"expr\\\": \\\"toNumber(datum[\\\\\\\"a\\\\\\\"])*300+154\\\", \\\"as\\\": \\\"c_missing\\\"}, {\\\"type\\\": \\\"formula\\\", \\\"expr\\\": \\\"toNumber(datum[\\\\\\\"a\\\\\\\"])*300+105\\\", \\\"as\\\": \\\"c_num_rows_val\\\"}, {\\\"type\\\": \\\"formula\\\", \\\"expr\\\": \\\"toNumber(datum[\\\\\\\"a\\\\\\\"])*300+130\\\", \\\"as\\\": \\\"c_num_unique_val\\\"}, {\\\"type\\\": \\\"formula\\\", \\\"expr\\\": \\\"toNumber(datum[\\\\\\\"a\\\\\\\"])*300+154\\\", \\\"as\\\": \\\"c_missing_val\\\"}, {\\\"type\\\": \\\"formula\\\", \\\"expr\\\": \\\"toNumber(datum[\\\\\\\"a\\\\\\\"])*300+195\\\", \\\"as\\\": \\\"c_frequent_items\\\"}, {\\\"type\\\": \\\"formula\\\", \\\"expr\\\": \\\"toNumber(datum[\\\\\\\"a\\\\\\\"])*300+218\\\", \\\"as\\\": \\\"c_first_item\\\"}, {\\\"type\\\": \\\"formula\\\", \\\"expr\\\": \\\"toNumber(datum[\\\\\\\"a\\\\\\\"])*300+235\\\", \\\"as\\\": \\\"c_second_item\\\"}, {\\\"type\\\": \\\"formula\\\", \\\"expr\\\": \\\"toNumber(datum[\\\\\\\"a\\\\\\\"])*300+252\\\", \\\"as\\\": \\\"c_third_item\\\"}, {\\\"type\\\": \\\"formula\\\", \\\"expr\\\": \\\"toNumber(datum[\\\\\\\"a\\\\\\\"])*300+269\\\", \\\"as\\\": \\\"c_fourth_item\\\"}, {\\\"type\\\": \\\"formula\\\", \\\"expr\\\": \\\"toNumber(datum[\\\\\\\"a\\\\\\\"])*300+286\\\", \\\"as\\\": \\\"c_fifth_item\\\"}, {\\\"type\\\": \\\"formula\\\", \\\"expr\\\": \\\"toNumber(datum[\\\\\\\"a\\\\\\\"])*300+200\\\", \\\"as\\\": \\\"c_mean\\\"}, {\\\"type\\\": \\\"formula\\\", \\\"expr\\\": \\\"toNumber(datum[\\\\\\\"a\\\\\\\"])*300+220\\\", \\\"as\\\": \\\"c_min\\\"}, {\\\"type\\\": \\\"formula\\\", \\\"expr\\\": \\\"toNumber(datum[\\\\\\\"a\\\\\\\"])*300+240\\\", \\\"as\\\": \\\"c_max\\\"}, {\\\"type\\\": \\\"formula\\\", \\\"expr\\\": \\\"toNumber(datum[\\\\\\\"a\\\\\\\"])*300+260\\\", \\\"as\\\": \\\"c_median\\\"}, {\\\"type\\\": \\\"formula\\\", \\\"expr\\\": \\\"toNumber(datum[\\\\\\\"a\\\\\\\"])*300+280\\\", \\\"as\\\": \\\"c_stdev\\\"}, {\\\"type\\\": \\\"formula\\\", \\\"expr\\\": \\\"toNumber(datum[\\\\\\\"a\\\\\\\"])*300+198\\\", \\\"as\\\": \\\"c_mean_val\\\"}, {\\\"type\\\": \\\"formula\\\", \\\"expr\\\": \\\"toNumber(datum[\\\\\\\"a\\\\\\\"])*300+218\\\", \\\"as\\\": \\\"c_min_val\\\"}, {\\\"type\\\": \\\"formula\\\", \\\"expr\\\": \\\"toNumber(datum[\\\\\\\"a\\\\\\\"])*300+238\\\", \\\"as\\\": \\\"c_max_val\\\"}, {\\\"type\\\": \\\"formula\\\", \\\"expr\\\": \\\"toNumber(datum[\\\\\\\"a\\\\\\\"])*300+258\\\", \\\"as\\\": \\\"c_median_val\\\"}, {\\\"type\\\": \\\"formula\\\", \\\"expr\\\": \\\"toNumber(datum[\\\\\\\"a\\\\\\\"])*300+278\\\", \\\"as\\\": \\\"c_stdev_val\\\"}, {\\\"type\\\": \\\"formula\\\", \\\"expr\\\": \\\"toNumber(datum[\\\\\\\"a\\\\\\\"])*300+106\\\", \\\"as\\\": \\\"graph_offset\\\"}, {\\\"type\\\": \\\"formula\\\", \\\"expr\\\": \\\"toNumber(datum[\\\\\\\"a\\\\\\\"])*300+132\\\", \\\"as\\\": \\\"graph_offset_categorical\\\"}, {\\\"type\\\": \\\"formula\\\", \\\"expr\\\": \\\"(toString(datum[\\\\\\\"type\\\\\\\"]) == \\\\\\\"integer\\\\\\\" || toString(datum[\\\\\\\"type\\\\\\\"]) == \\\\\\\"float\\\\\\\")?false:true\\\", \\\"as\\\": \\\"c_clip_val\\\"}, {\\\"type\\\": \\\"formula\\\", \\\"expr\\\": \\\"(toString(datum[\\\\\\\"type\\\\\\\"]) == \\\\\\\"integer\\\\\\\" || toString(datum[\\\\\\\"type\\\\\\\"]) == \\\\\\\"float\\\\\\\")?250:0\\\", \\\"as\\\": \\\"c_width_numeric_val\\\"}, {\\\"type\\\": \\\"formula\\\", \\\"expr\\\": \\\"(toString(datum[\\\\\\\"type\\\\\\\"]) == \\\\\\\"str\\\\\\\")?false:true\\\", \\\"as\\\": \\\"c_clip_val_cat\\\"}, {\\\"type\\\": \\\"formula\\\", \\\"expr\\\": \\\"(toString(datum[\\\\\\\"type\\\\\\\"]) == \\\\\\\"str\\\\\\\")?250:0\\\", \\\"as\\\": \\\"c_width_numeric_val_cat\\\"}]}], \\\"marks\\\": [{\\\"encode\\\": {\\\"enter\\\": {\\\"x\\\": {\\\"value\\\": 0}, \\\"width\\\": {\\\"value\\\": 734}, \\\"y\\\": {\\\"value\\\": 0}, \\\"height\\\": {\\\"value\\\": 366}, \\\"clip\\\": {\\\"value\\\": 0}, \\\"fill\\\": {\\\"value\\\": \\\"#ffffff\\\"}, \\\"fillOpacity\\\": {\\\"value\\\": 0}, \\\"stroke\\\": {\\\"value\\\": \\\"#000000\\\"}, \\\"strokeWidth\\\": {\\\"value\\\": 0}}}, \\\"marks\\\": [{\\\"encode\\\": {\\\"enter\\\": {\\\"x\\\": {\\\"value\\\": 0}, \\\"width\\\": {\\\"value\\\": 734}, \\\"y\\\": {\\\"value\\\": 0}, \\\"height\\\": {\\\"value\\\": 366}, \\\"clip\\\": {\\\"value\\\": 0}, \\\"fill\\\": {\\\"value\\\": \\\"#ffffff\\\"}, \\\"fillOpacity\\\": {\\\"value\\\": 0}, \\\"stroke\\\": {\\\"value\\\": \\\"#000000\\\"}, \\\"strokeWidth\\\": {\\\"value\\\": 0}}}, \\\"scales\\\": [], \\\"axes\\\": [], \\\"marks\\\": [{\\\"from\\\": {\\\"data\\\": \\\"data_2\\\"}, \\\"encode\\\": {\\\"enter\\\": {\\\"x\\\": {\\\"value\\\": 33}, \\\"width\\\": {\\\"value\\\": 700}, \\\"y\\\": {\\\"value\\\": 66}, \\\"height\\\": {\\\"value\\\": 250}, \\\"fill\\\": {\\\"value\\\": \\\"#FEFEFE\\\"}, \\\"fillOpacity\\\": {\\\"value\\\": 1}, \\\"stroke\\\": {\\\"value\\\": \\\"#DEDEDE\\\"}, \\\"strokeWidth\\\": {\\\"value\\\": 0.5}}, \\\"update\\\": {\\\"x\\\": {\\\"signal\\\": \\\"datum[\\\\\\\"c_x_axis_back\\\\\\\"]\\\"}, \\\"y\\\": {\\\"field\\\": \\\"c_main_background\\\"}}}, \\\"type\\\": \\\"rect\\\"}, {\\\"from\\\": {\\\"data\\\": \\\"data_2\\\"}, \\\"encode\\\": {\\\"enter\\\": {\\\"x\\\": {\\\"value\\\": 33}, \\\"width\\\": {\\\"value\\\": 700}, \\\"y\\\": {\\\"value\\\": 43}, \\\"height\\\": {\\\"value\\\": 30}, \\\"fill\\\": {\\\"value\\\": \\\"#F5F5F5\\\"}, \\\"fillOpacity\\\": {\\\"value\\\": 1}, \\\"stroke\\\": {\\\"value\\\": \\\"#DEDEDE\\\"}, \\\"strokeWidth\\\": {\\\"value\\\": 0.5}}, \\\"update\\\": {\\\"x\\\": {\\\"signal\\\": \\\"datum[\\\\\\\"c_x_axis_back\\\\\\\"]\\\"}, \\\"y\\\": {\\\"field\\\": \\\"c_top_bar\\\"}}}, \\\"type\\\": \\\"rect\\\"}, {\\\"from\\\": {\\\"data\\\": \\\"data_2\\\"}, \\\"encode\\\": {\\\"enter\\\": {\\\"x\\\": {\\\"value\\\": 720}, \\\"y\\\": {\\\"value\\\": 58}, \\\"text\\\": {\\\"signal\\\": \\\"&apos;&apos;+datum[\\\\\\\"type\\\\\\\"]\\\"}, \\\"align\\\": {\\\"value\\\": \\\"right\\\"}, \\\"baseline\\\": {\\\"value\\\": \\\"middle\\\"}, \\\"dx\\\": {\\\"value\\\": 0, \\\"offset\\\": 0}, \\\"dy\\\": {\\\"value\\\": 0, \\\"offset\\\": 0}, \\\"angle\\\": {\\\"value\\\": 0}, \\\"font\\\": {\\\"value\\\": \\\"AvenirNext-Medium\\\"}, \\\"fontSize\\\": {\\\"value\\\": 12}, \\\"fontWeight\\\": {\\\"value\\\": \\\"normal\\\"}, \\\"fontStyle\\\": {\\\"value\\\": \\\"normal\\\"}, \\\"fill\\\": {\\\"value\\\": \\\"#595859\\\"}}, \\\"update\\\": {\\\"x\\\": {\\\"signal\\\": \\\"datum[\\\\\\\"c_x_axis_back\\\\\\\"]+687\\\"}, \\\"y\\\": {\\\"field\\\": \\\"c_top_type\\\"}}}, \\\"type\\\": \\\"text\\\"}, {\\\"from\\\": {\\\"data\\\": \\\"data_2\\\"}, \\\"encode\\\": {\\\"enter\\\": {\\\"x\\\": {\\\"value\\\": 44}, \\\"y\\\": {\\\"value\\\": 59}, \\\"text\\\": {\\\"signal\\\": \\\"&apos;&apos;+datum[\\\\\\\"title\\\\\\\"]\\\"}, \\\"align\\\": {\\\"value\\\": \\\"left\\\"}, \\\"baseline\\\": {\\\"value\\\": \\\"middle\\\"}, \\\"dx\\\": {\\\"value\\\": 0, \\\"offset\\\": 0}, \\\"dy\\\": {\\\"value\\\": 0, \\\"offset\\\": 0}, \\\"angle\\\": {\\\"value\\\": 0}, \\\"font\\\": {\\\"value\\\": \\\"AvenirNext-Medium\\\"}, \\\"fontSize\\\": {\\\"value\\\": 15}, \\\"fontWeight\\\": {\\\"value\\\": \\\"normal\\\"}, \\\"fontStyle\\\": {\\\"value\\\": \\\"normal\\\"}, \\\"fill\\\": {\\\"value\\\": \\\"#9B9B9B\\\"}}, \\\"update\\\": {\\\"x\\\": {\\\"signal\\\": \\\"datum[\\\\\\\"c_x_axis_back\\\\\\\"]+11\\\"}, \\\"y\\\": {\\\"field\\\": \\\"c_top_title\\\"}}}, \\\"type\\\": \\\"text\\\"}, {\\\"from\\\": {\\\"data\\\": \\\"data_2\\\"}, \\\"encode\\\": {\\\"enter\\\": {\\\"x\\\": {\\\"value\\\": 500}, \\\"y\\\": {\\\"value\\\": 178}, \\\"stroke\\\": {\\\"value\\\": \\\"#EDEDEB\\\"}, \\\"strokeWidth\\\": {\\\"value\\\": 1}, \\\"strokeCap\\\": {\\\"value\\\": \\\"butt\\\"}, \\\"x2\\\": {\\\"value\\\": 720}, \\\"y2\\\": {\\\"value\\\": 178}}, \\\"update\\\": {\\\"x\\\": {\\\"signal\\\": \\\"datum[\\\\\\\"c_x_axis_back\\\\\\\"]+467\\\"}, \\\"x2\\\": {\\\"signal\\\": \\\"datum[\\\\\\\"c_x_axis_back\\\\\\\"]+687\\\"}, \\\"y\\\": {\\\"field\\\": \\\"c_rule\\\"}, \\\"y2\\\": {\\\"field\\\": \\\"c_rule\\\"}}}, \\\"type\\\": \\\"rule\\\"}, {\\\"from\\\": {\\\"data\\\": \\\"data_2\\\"}, \\\"encode\\\": {\\\"enter\\\": {\\\"x\\\": {\\\"value\\\": 500}, \\\"y\\\": {\\\"value\\\": 106}, \\\"text\\\": {\\\"value\\\": \\\"Num. Rows:\\\"}, \\\"align\\\": {\\\"value\\\": \\\"left\\\"}, \\\"baseline\\\": {\\\"value\\\": \\\"middle\\\"}, \\\"dx\\\": {\\\"value\\\": 0, \\\"offset\\\": 0}, \\\"dy\\\": {\\\"value\\\": 0, \\\"offset\\\": 0}, \\\"angle\\\": {\\\"value\\\": 0}, \\\"font\\\": {\\\"value\\\": \\\"AvenirNext-Medium\\\"}, \\\"fontSize\\\": {\\\"value\\\": 12}, \\\"fontWeight\\\": {\\\"value\\\": \\\"normal\\\"}, \\\"fontStyle\\\": {\\\"value\\\": \\\"normal\\\"}, \\\"fill\\\": {\\\"value\\\": \\\"#4A4A4A\\\"}}, \\\"update\\\": {\\\"x\\\": {\\\"signal\\\": \\\"datum[\\\\\\\"c_x_axis_back\\\\\\\"]+467\\\"}, \\\"y\\\": {\\\"field\\\": \\\"c_num_rows\\\"}}}, \\\"type\\\": \\\"text\\\"}, {\\\"from\\\": {\\\"data\\\": \\\"data_2\\\"}, \\\"encode\\\": {\\\"enter\\\": {\\\"x\\\": {\\\"value\\\": 500}, \\\"y\\\": {\\\"value\\\": 130}, \\\"text\\\": {\\\"value\\\": \\\"Num. Unique:\\\"}, \\\"align\\\": {\\\"value\\\": \\\"left\\\"}, \\\"baseline\\\": {\\\"value\\\": \\\"middle\\\"}, \\\"dx\\\": {\\\"value\\\": 0, \\\"offset\\\": 0}, \\\"dy\\\": {\\\"value\\\": 0, \\\"offset\\\": 0}, \\\"angle\\\": {\\\"value\\\": 0}, \\\"font\\\": {\\\"value\\\": \\\"AvenirNext-Medium\\\"}, \\\"fontSize\\\": {\\\"value\\\": 12}, \\\"fontWeight\\\": {\\\"value\\\": \\\"normal\\\"}, \\\"fontStyle\\\": {\\\"value\\\": \\\"normal\\\"}, \\\"fill\\\": {\\\"value\\\": \\\"#4A4A4A\\\"}}, \\\"update\\\": {\\\"x\\\": {\\\"signal\\\": \\\"datum[\\\\\\\"c_x_axis_back\\\\\\\"]+467\\\"}, \\\"y\\\": {\\\"field\\\": \\\"c_num_unique\\\"}}}, \\\"type\\\": \\\"text\\\"}, {\\\"from\\\": {\\\"data\\\": \\\"data_2\\\"}, \\\"encode\\\": {\\\"enter\\\": {\\\"x\\\": {\\\"value\\\": 500}, \\\"y\\\": {\\\"value\\\": 154}, \\\"text\\\": {\\\"value\\\": \\\"Missing:\\\"}, \\\"align\\\": {\\\"value\\\": \\\"left\\\"}, \\\"baseline\\\": {\\\"value\\\": \\\"middle\\\"}, \\\"dx\\\": {\\\"value\\\": 0, \\\"offset\\\": 0}, \\\"dy\\\": {\\\"value\\\": 0, \\\"offset\\\": 0}, \\\"angle\\\": {\\\"value\\\": 0}, \\\"font\\\": {\\\"value\\\": \\\"AvenirNext-Medium\\\"}, \\\"fontSize\\\": {\\\"value\\\": 12}, \\\"fontWeight\\\": {\\\"value\\\": \\\"normal\\\"}, \\\"fontStyle\\\": {\\\"value\\\": \\\"normal\\\"}, \\\"fill\\\": {\\\"value\\\": \\\"#4A4A4A\\\"}}, \\\"update\\\": {\\\"x\\\": {\\\"signal\\\": \\\"datum[\\\\\\\"c_x_axis_back\\\\\\\"]+467\\\"}, \\\"y\\\": {\\\"field\\\": \\\"c_missing\\\"}}}, \\\"type\\\": \\\"text\\\"}, {\\\"from\\\": {\\\"data\\\": \\\"data_2\\\"}, \\\"encode\\\": {\\\"enter\\\": {\\\"x\\\": {\\\"value\\\": 700}, \\\"y\\\": {\\\"value\\\": 105}, \\\"text\\\": {\\\"signal\\\": \\\"toString(format(datum[\\\\\\\"num_row\\\\\\\"], \\\\\\\",\\\\\\\"))\\\"}, \\\"align\\\": {\\\"value\\\": \\\"right\\\"}, \\\"baseline\\\": {\\\"value\\\": \\\"middle\\\"}, \\\"dx\\\": {\\\"value\\\": 0, \\\"offset\\\": 0}, \\\"dy\\\": {\\\"value\\\": 0, \\\"offset\\\": 0}, \\\"angle\\\": {\\\"value\\\": 0}, \\\"font\\\": {\\\"value\\\": \\\"AvenirNext-Medium\\\"}, \\\"fontSize\\\": {\\\"value\\\": 12}, \\\"fontWeight\\\": {\\\"value\\\": \\\"normal\\\"}, \\\"fontStyle\\\": {\\\"value\\\": \\\"normal\\\"}, \\\"fill\\\": {\\\"value\\\": \\\"#5A5A5A\\\"}}, \\\"update\\\": {\\\"x\\\": {\\\"signal\\\": \\\"datum[\\\\\\\"c_x_axis_back\\\\\\\"]+667\\\"}, \\\"y\\\": {\\\"field\\\": \\\"c_num_rows_val\\\"}}}, \\\"type\\\": \\\"text\\\"}, {\\\"from\\\": {\\\"data\\\": \\\"data_2\\\"}, \\\"encode\\\": {\\\"enter\\\": {\\\"x\\\": {\\\"value\\\": 700}, \\\"y\\\": {\\\"value\\\": 130}, \\\"text\\\": {\\\"signal\\\": \\\"toString(format(datum[\\\\\\\"num_unique\\\\\\\"], \\\\\\\",\\\\\\\"))\\\"}, \\\"align\\\": {\\\"value\\\": \\\"right\\\"}, \\\"baseline\\\": {\\\"value\\\": \\\"middle\\\"}, \\\"dx\\\": {\\\"value\\\": 0, \\\"offset\\\": 0}, \\\"dy\\\": {\\\"value\\\": 0, \\\"offset\\\": 0}, \\\"angle\\\": {\\\"value\\\": 0}, \\\"font\\\": {\\\"value\\\": \\\"AvenirNext-Medium\\\"}, \\\"fontSize\\\": {\\\"value\\\": 12}, \\\"fontWeight\\\": {\\\"value\\\": \\\"normal\\\"}, \\\"fontStyle\\\": {\\\"value\\\": \\\"normal\\\"}, \\\"fill\\\": {\\\"value\\\": \\\"#5A5A5A\\\"}}, \\\"update\\\": {\\\"x\\\": {\\\"signal\\\": \\\"datum[\\\\\\\"c_x_axis_back\\\\\\\"]+667\\\"}, \\\"y\\\": {\\\"field\\\": \\\"c_num_unique_val\\\"}}}, \\\"type\\\": \\\"text\\\"}, {\\\"from\\\": {\\\"data\\\": \\\"data_2\\\"}, \\\"encode\\\": {\\\"enter\\\": {\\\"x\\\": {\\\"value\\\": 700}, \\\"y\\\": {\\\"value\\\": 154}, \\\"text\\\": {\\\"signal\\\": \\\"toString(format(datum[\\\\\\\"num_missing\\\\\\\"], \\\\\\\",\\\\\\\"))\\\"}, \\\"align\\\": {\\\"value\\\": \\\"right\\\"}, \\\"baseline\\\": {\\\"value\\\": \\\"middle\\\"}, \\\"dx\\\": {\\\"value\\\": 0, \\\"offset\\\": 0}, \\\"dy\\\": {\\\"value\\\": 0, \\\"offset\\\": 0}, \\\"angle\\\": {\\\"value\\\": 0}, \\\"font\\\": {\\\"value\\\": \\\"AvenirNext-Medium\\\"}, \\\"fontSize\\\": {\\\"value\\\": 12}, \\\"fontWeight\\\": {\\\"value\\\": \\\"normal\\\"}, \\\"fontStyle\\\": {\\\"value\\\": \\\"normal\\\"}, \\\"fill\\\": {\\\"value\\\": \\\"#5A5A5A\\\"}}, \\\"update\\\": {\\\"x\\\": {\\\"signal\\\": \\\"datum[\\\\\\\"c_x_axis_back\\\\\\\"]+667\\\"}, \\\"y\\\": {\\\"field\\\": \\\"c_missing_val\\\"}}}, \\\"type\\\": \\\"text\\\"}, {\\\"from\\\": {\\\"data\\\": \\\"data_2\\\"}, \\\"encode\\\": {\\\"enter\\\": {\\\"x\\\": {\\\"value\\\": 500}, \\\"y\\\": {\\\"value\\\": 200}, \\\"text\\\": {\\\"signal\\\": \\\"(toString(datum[\\\\\\\"type\\\\\\\"]) == \\\\\\\"str\\\\\\\")? \\\\\\\"Frequent Items\\\\\\\":\\\\\\\"\\\\\\\"\\\"}, \\\"align\\\": {\\\"value\\\": \\\"left\\\"}, \\\"baseline\\\": {\\\"value\\\": \\\"middle\\\"}, \\\"dx\\\": {\\\"value\\\": 0, \\\"offset\\\": 0}, \\\"dy\\\": {\\\"value\\\": 0, \\\"offset\\\": 0}, \\\"angle\\\": {\\\"value\\\": 0}, \\\"clip\\\": {\\\"value\\\": true}, \\\"font\\\": {\\\"value\\\": \\\"AvenirNext-Medium\\\"}, \\\"fontSize\\\": {\\\"value\\\": 11}, \\\"fontWeight\\\": {\\\"value\\\": \\\"bold\\\"}, \\\"fontStyle\\\": {\\\"value\\\": \\\"normal\\\"}, \\\"fill\\\": {\\\"value\\\": \\\"#4A4A4A\\\"}}, \\\"update\\\": {\\\"x\\\": {\\\"signal\\\": \\\"datum[\\\\\\\"c_x_axis_back\\\\\\\"]+467\\\"}, \\\"y\\\": {\\\"field\\\": \\\"c_frequent_items\\\"}}}, \\\"type\\\": \\\"text\\\"}, {\\\"from\\\": {\\\"data\\\": \\\"data_2\\\"}, \\\"encode\\\": {\\\"enter\\\": {\\\"x\\\": {\\\"value\\\": 520}, \\\"y\\\": {\\\"value\\\": 200}, \\\"text\\\": {\\\"signal\\\": \\\"((datum[\\\\\\\"categorical\\\\\\\"].length >= 1) &amp;&amp; (toString(datum[\\\\\\\"type\\\\\\\"]) == \\\\\\\"str\\\\\\\"))? toString(datum[\\\\\\\"categorical\\\\\\\"][0][\\\\\\\"label\\\\\\\"]):\\\\\\\"\\\\\\\"\\\"}, \\\"align\\\": {\\\"value\\\": \\\"left\\\"}, \\\"baseline\\\": {\\\"value\\\": \\\"middle\\\"}, \\\"dx\\\": {\\\"value\\\": 0, \\\"offset\\\": 0}, \\\"dy\\\": {\\\"value\\\": 0, \\\"offset\\\": 0}, \\\"angle\\\": {\\\"value\\\": 0}, \\\"clip\\\": {\\\"value\\\": true}, \\\"font\\\": {\\\"value\\\": \\\"AvenirNext-Medium\\\"}, \\\"fontSize\\\": {\\\"value\\\": 11}, \\\"fontWeight\\\": {\\\"value\\\": \\\"normal\\\"}, \\\"fontStyle\\\": {\\\"value\\\": \\\"normal\\\"}, \\\"fill\\\": {\\\"value\\\": \\\"#4A4A4A\\\"}}, \\\"update\\\": {\\\"x\\\": {\\\"signal\\\": \\\"datum[\\\\\\\"c_x_axis_back\\\\\\\"]+487\\\"}, \\\"y\\\": {\\\"field\\\": \\\"c_first_item\\\"}}}, \\\"type\\\": \\\"text\\\"}, {\\\"from\\\": {\\\"data\\\": \\\"data_2\\\"}, \\\"encode\\\": {\\\"enter\\\": {\\\"x\\\": {\\\"value\\\": 520}, \\\"y\\\": {\\\"value\\\": 200}, \\\"text\\\": {\\\"signal\\\": \\\"((datum[\\\\\\\"categorical\\\\\\\"].length >= 2) &amp;&amp; (toString(datum[\\\\\\\"type\\\\\\\"]) == \\\\\\\"str\\\\\\\"))? toString(datum[\\\\\\\"categorical\\\\\\\"][1][\\\\\\\"label\\\\\\\"]):\\\\\\\"\\\\\\\"\\\"}, \\\"align\\\": {\\\"value\\\": \\\"left\\\"}, \\\"baseline\\\": {\\\"value\\\": \\\"middle\\\"}, \\\"dx\\\": {\\\"value\\\": 0, \\\"offset\\\": 0}, \\\"dy\\\": {\\\"value\\\": 0, \\\"offset\\\": 0}, \\\"angle\\\": {\\\"value\\\": 0}, \\\"clip\\\": {\\\"value\\\": true}, \\\"font\\\": {\\\"value\\\": \\\"AvenirNext-Medium\\\"}, \\\"fontSize\\\": {\\\"value\\\": 11}, \\\"fontWeight\\\": {\\\"value\\\": \\\"normal\\\"}, \\\"fontStyle\\\": {\\\"value\\\": \\\"normal\\\"}, \\\"fill\\\": {\\\"value\\\": \\\"#4A4A4A\\\"}}, \\\"update\\\": {\\\"x\\\": {\\\"signal\\\": \\\"datum[\\\\\\\"c_x_axis_back\\\\\\\"]+487\\\"}, \\\"y\\\": {\\\"field\\\": \\\"c_second_item\\\"}}}, \\\"type\\\": \\\"text\\\"}, {\\\"from\\\": {\\\"data\\\": \\\"data_2\\\"}, \\\"encode\\\": {\\\"enter\\\": {\\\"x\\\": {\\\"value\\\": 520}, \\\"y\\\": {\\\"value\\\": 200}, \\\"text\\\": {\\\"signal\\\": \\\"((datum[\\\\\\\"categorical\\\\\\\"].length >= 3) &amp;&amp; (toString(datum[\\\\\\\"type\\\\\\\"]) == \\\\\\\"str\\\\\\\"))? toString(datum[\\\\\\\"categorical\\\\\\\"][2][\\\\\\\"label\\\\\\\"]):\\\\\\\"\\\\\\\"\\\"}, \\\"align\\\": {\\\"value\\\": \\\"left\\\"}, \\\"baseline\\\": {\\\"value\\\": \\\"middle\\\"}, \\\"dx\\\": {\\\"value\\\": 0, \\\"offset\\\": 0}, \\\"dy\\\": {\\\"value\\\": 0, \\\"offset\\\": 0}, \\\"angle\\\": {\\\"value\\\": 0}, \\\"clip\\\": {\\\"value\\\": true}, \\\"font\\\": {\\\"value\\\": \\\"AvenirNext-Medium\\\"}, \\\"fontSize\\\": {\\\"value\\\": 11}, \\\"fontWeight\\\": {\\\"value\\\": \\\"normal\\\"}, \\\"fontStyle\\\": {\\\"value\\\": \\\"normal\\\"}, \\\"fill\\\": {\\\"value\\\": \\\"#4A4A4A\\\"}}, \\\"update\\\": {\\\"x\\\": {\\\"signal\\\": \\\"datum[\\\\\\\"c_x_axis_back\\\\\\\"]+487\\\"}, \\\"y\\\": {\\\"field\\\": \\\"c_third_item\\\"}}}, \\\"type\\\": \\\"text\\\"}, {\\\"from\\\": {\\\"data\\\": \\\"data_2\\\"}, \\\"encode\\\": {\\\"enter\\\": {\\\"x\\\": {\\\"value\\\": 520}, \\\"y\\\": {\\\"value\\\": 200}, \\\"text\\\": {\\\"signal\\\": \\\"((datum[\\\\\\\"categorical\\\\\\\"].length >= 4) &amp;&amp; (toString(datum[\\\\\\\"type\\\\\\\"]) == \\\\\\\"str\\\\\\\"))? toString(datum[\\\\\\\"categorical\\\\\\\"][3][\\\\\\\"label\\\\\\\"]):\\\\\\\"\\\\\\\"\\\"}, \\\"align\\\": {\\\"value\\\": \\\"left\\\"}, \\\"baseline\\\": {\\\"value\\\": \\\"middle\\\"}, \\\"dx\\\": {\\\"value\\\": 0, \\\"offset\\\": 0}, \\\"dy\\\": {\\\"value\\\": 0, \\\"offset\\\": 0}, \\\"angle\\\": {\\\"value\\\": 0}, \\\"clip\\\": {\\\"value\\\": true}, \\\"font\\\": {\\\"value\\\": \\\"AvenirNext-Medium\\\"}, \\\"fontSize\\\": {\\\"value\\\": 11}, \\\"fontWeight\\\": {\\\"value\\\": \\\"normal\\\"}, \\\"fontStyle\\\": {\\\"value\\\": \\\"normal\\\"}, \\\"fill\\\": {\\\"value\\\": \\\"#4A4A4A\\\"}}, \\\"update\\\": {\\\"x\\\": {\\\"signal\\\": \\\"datum[\\\\\\\"c_x_axis_back\\\\\\\"]+487\\\"}, \\\"y\\\": {\\\"field\\\": \\\"c_fourth_item\\\"}}}, \\\"type\\\": \\\"text\\\"}, {\\\"from\\\": {\\\"data\\\": \\\"data_2\\\"}, \\\"encode\\\": {\\\"enter\\\": {\\\"x\\\": {\\\"value\\\": 520}, \\\"y\\\": {\\\"value\\\": 200}, \\\"text\\\": {\\\"signal\\\": \\\"((datum[\\\\\\\"categorical\\\\\\\"].length >= 5) &amp;&amp; (toString(datum[\\\\\\\"type\\\\\\\"]) == \\\\\\\"str\\\\\\\"))? toString(datum[\\\\\\\"categorical\\\\\\\"][4][\\\\\\\"label\\\\\\\"]):\\\\\\\"\\\\\\\"\\\"}, \\\"align\\\": {\\\"value\\\": \\\"left\\\"}, \\\"baseline\\\": {\\\"value\\\": \\\"middle\\\"}, \\\"dx\\\": {\\\"value\\\": 0, \\\"offset\\\": 0}, \\\"dy\\\": {\\\"value\\\": 0, \\\"offset\\\": 0}, \\\"angle\\\": {\\\"value\\\": 0}, \\\"clip\\\": {\\\"value\\\": true}, \\\"font\\\": {\\\"value\\\": \\\"AvenirNext-Medium\\\"}, \\\"fontSize\\\": {\\\"value\\\": 11}, \\\"fontWeight\\\": {\\\"value\\\": \\\"normal\\\"}, \\\"fontStyle\\\": {\\\"value\\\": \\\"normal\\\"}, \\\"fill\\\": {\\\"value\\\": \\\"#4A4A4A\\\"}}, \\\"update\\\": {\\\"x\\\": {\\\"signal\\\": \\\"datum[\\\\\\\"c_x_axis_back\\\\\\\"]+487\\\"}, \\\"y\\\": {\\\"field\\\": \\\"c_fifth_item\\\"}}}, \\\"type\\\": \\\"text\\\"}, {\\\"from\\\": {\\\"data\\\": \\\"data_2\\\"}, \\\"encode\\\": {\\\"enter\\\": {\\\"x\\\": {\\\"value\\\": 700}, \\\"y\\\": {\\\"value\\\": 200}, \\\"text\\\": {\\\"signal\\\": \\\"((datum[\\\\\\\"categorical\\\\\\\"].length >= 1) &amp;&amp; (toString(datum[\\\\\\\"type\\\\\\\"]) == \\\\\\\"str\\\\\\\"))? toString(datum[\\\\\\\"categorical\\\\\\\"][0][\\\\\\\"count\\\\\\\"]):\\\\\\\"\\\\\\\"\\\"}, \\\"align\\\": {\\\"value\\\": \\\"right\\\"}, \\\"baseline\\\": {\\\"value\\\": \\\"middle\\\"}, \\\"dx\\\": {\\\"value\\\": 0, \\\"offset\\\": 0}, \\\"dy\\\": {\\\"value\\\": 0, \\\"offset\\\": 0}, \\\"angle\\\": {\\\"value\\\": 0}, \\\"clip\\\": {\\\"value\\\": true}, \\\"font\\\": {\\\"value\\\": \\\"AvenirNext-Medium\\\"}, \\\"fontSize\\\": {\\\"value\\\": 11}, \\\"fontWeight\\\": {\\\"value\\\": \\\"normal\\\"}, \\\"fontStyle\\\": {\\\"value\\\": \\\"normal\\\"}, \\\"fill\\\": {\\\"value\\\": \\\"#7A7A7A\\\"}}, \\\"update\\\": {\\\"x\\\": {\\\"signal\\\": \\\"datum[\\\\\\\"c_x_axis_back\\\\\\\"]+667\\\"}, \\\"y\\\": {\\\"field\\\": \\\"c_first_item\\\"}}}, \\\"type\\\": \\\"text\\\"}, {\\\"from\\\": {\\\"data\\\": \\\"data_2\\\"}, \\\"encode\\\": {\\\"enter\\\": {\\\"x\\\": {\\\"value\\\": 700}, \\\"y\\\": {\\\"value\\\": 200}, \\\"text\\\": {\\\"signal\\\": \\\"((datum[\\\\\\\"categorical\\\\\\\"].length >= 2) &amp;&amp; (toString(datum[\\\\\\\"type\\\\\\\"]) == \\\\\\\"str\\\\\\\"))? toString(datum[\\\\\\\"categorical\\\\\\\"][1][\\\\\\\"count\\\\\\\"]):\\\\\\\"\\\\\\\"\\\"}, \\\"align\\\": {\\\"value\\\": \\\"right\\\"}, \\\"baseline\\\": {\\\"value\\\": \\\"middle\\\"}, \\\"dx\\\": {\\\"value\\\": 0, \\\"offset\\\": 0}, \\\"dy\\\": {\\\"value\\\": 0, \\\"offset\\\": 0}, \\\"angle\\\": {\\\"value\\\": 0}, \\\"clip\\\": {\\\"value\\\": true}, \\\"font\\\": {\\\"value\\\": \\\"AvenirNext-Medium\\\"}, \\\"fontSize\\\": {\\\"value\\\": 10}, \\\"fontWeight\\\": {\\\"value\\\": \\\"normal\\\"}, \\\"fontStyle\\\": {\\\"value\\\": \\\"normal\\\"}, \\\"fill\\\": {\\\"value\\\": \\\"#7A7A7A\\\"}}, \\\"update\\\": {\\\"x\\\": {\\\"signal\\\": \\\"datum[\\\\\\\"c_x_axis_back\\\\\\\"]+667\\\"}, \\\"y\\\": {\\\"field\\\": \\\"c_second_item\\\"}}}, \\\"type\\\": \\\"text\\\"}, {\\\"from\\\": {\\\"data\\\": \\\"data_2\\\"}, \\\"encode\\\": {\\\"enter\\\": {\\\"x\\\": {\\\"value\\\": 700}, \\\"y\\\": {\\\"value\\\": 200}, \\\"text\\\": {\\\"signal\\\": \\\"((datum[\\\\\\\"categorical\\\\\\\"].length >= 3) &amp;&amp; (toString(datum[\\\\\\\"type\\\\\\\"]) == \\\\\\\"str\\\\\\\"))? toString(datum[\\\\\\\"categorical\\\\\\\"][2][\\\\\\\"count\\\\\\\"]):\\\\\\\"\\\\\\\"\\\"}, \\\"align\\\": {\\\"value\\\": \\\"right\\\"}, \\\"baseline\\\": {\\\"value\\\": \\\"middle\\\"}, \\\"dx\\\": {\\\"value\\\": 0, \\\"offset\\\": 0}, \\\"dy\\\": {\\\"value\\\": 0, \\\"offset\\\": 0}, \\\"angle\\\": {\\\"value\\\": 0}, \\\"clip\\\": {\\\"value\\\": true}, \\\"font\\\": {\\\"value\\\": \\\"AvenirNext-Medium\\\"}, \\\"fontSize\\\": {\\\"value\\\": 10}, \\\"fontWeight\\\": {\\\"value\\\": \\\"normal\\\"}, \\\"fontStyle\\\": {\\\"value\\\": \\\"normal\\\"}, \\\"fill\\\": {\\\"value\\\": \\\"#7A7A7A\\\"}}, \\\"update\\\": {\\\"x\\\": {\\\"signal\\\": \\\"datum[\\\\\\\"c_x_axis_back\\\\\\\"]+667\\\"}, \\\"y\\\": {\\\"field\\\": \\\"c_third_item\\\"}}}, \\\"type\\\": \\\"text\\\"}, {\\\"from\\\": {\\\"data\\\": \\\"data_2\\\"}, \\\"encode\\\": {\\\"enter\\\": {\\\"x\\\": {\\\"value\\\": 700}, \\\"y\\\": {\\\"value\\\": 200}, \\\"text\\\": {\\\"signal\\\": \\\"((datum[\\\\\\\"categorical\\\\\\\"].length >= 4) &amp;&amp; (toString(datum[\\\\\\\"type\\\\\\\"]) == \\\\\\\"str\\\\\\\"))? toString(datum[\\\\\\\"categorical\\\\\\\"][3][\\\\\\\"count\\\\\\\"]):\\\\\\\"\\\\\\\"\\\"}, \\\"align\\\": {\\\"value\\\": \\\"right\\\"}, \\\"baseline\\\": {\\\"value\\\": \\\"middle\\\"}, \\\"dx\\\": {\\\"value\\\": 0, \\\"offset\\\": 0}, \\\"dy\\\": {\\\"value\\\": 0, \\\"offset\\\": 0}, \\\"angle\\\": {\\\"value\\\": 0}, \\\"clip\\\": {\\\"value\\\": true}, \\\"font\\\": {\\\"value\\\": \\\"AvenirNext-Medium\\\"}, \\\"fontSize\\\": {\\\"value\\\": 10}, \\\"fontWeight\\\": {\\\"value\\\": \\\"normal\\\"}, \\\"fontStyle\\\": {\\\"value\\\": \\\"normal\\\"}, \\\"fill\\\": {\\\"value\\\": \\\"#7A7A7A\\\"}}, \\\"update\\\": {\\\"x\\\": {\\\"signal\\\": \\\"datum[\\\\\\\"c_x_axis_back\\\\\\\"]+667\\\"}, \\\"y\\\": {\\\"field\\\": \\\"c_fourth_item\\\"}}}, \\\"type\\\": \\\"text\\\"}, {\\\"from\\\": {\\\"data\\\": \\\"data_2\\\"}, \\\"encode\\\": {\\\"enter\\\": {\\\"x\\\": {\\\"value\\\": 700}, \\\"y\\\": {\\\"value\\\": 200}, \\\"text\\\": {\\\"signal\\\": \\\"((datum[\\\\\\\"categorical\\\\\\\"].length >= 5) &amp;&amp; (toString(datum[\\\\\\\"type\\\\\\\"]) == \\\\\\\"str\\\\\\\"))? toString(datum[\\\\\\\"categorical\\\\\\\"][4][\\\\\\\"count\\\\\\\"]):\\\\\\\"\\\\\\\"\\\"}, \\\"align\\\": {\\\"value\\\": \\\"right\\\"}, \\\"baseline\\\": {\\\"value\\\": \\\"middle\\\"}, \\\"dx\\\": {\\\"value\\\": 0, \\\"offset\\\": 0}, \\\"dy\\\": {\\\"value\\\": 0, \\\"offset\\\": 0}, \\\"angle\\\": {\\\"value\\\": 0}, \\\"clip\\\": {\\\"value\\\": true}, \\\"font\\\": {\\\"value\\\": \\\"AvenirNext-Medium\\\"}, \\\"fontSize\\\": {\\\"value\\\": 10}, \\\"fontWeight\\\": {\\\"value\\\": \\\"normal\\\"}, \\\"fontStyle\\\": {\\\"value\\\": \\\"normal\\\"}, \\\"fill\\\": {\\\"value\\\": \\\"#7A7A7A\\\"}}, \\\"update\\\": {\\\"x\\\": {\\\"signal\\\": \\\"datum[\\\\\\\"c_x_axis_back\\\\\\\"]+667\\\"}, \\\"y\\\": {\\\"field\\\": \\\"c_fifth_item\\\"}}}, \\\"type\\\": \\\"text\\\"}, {\\\"from\\\": {\\\"data\\\": \\\"data_2\\\"}, \\\"encode\\\": {\\\"enter\\\": {\\\"x\\\": {\\\"value\\\": 500}, \\\"y\\\": {\\\"value\\\": 200}, \\\"text\\\": {\\\"signal\\\": \\\"(toString(datum[\\\\\\\"type\\\\\\\"]) == \\\\\\\"integer\\\\\\\" || toString(datum[\\\\\\\"type\\\\\\\"]) == \\\\\\\"float\\\\\\\")? \\\\\\\"Mean:\\\\\\\":\\\\\\\"\\\\\\\"\\\"}, \\\"align\\\": {\\\"value\\\": \\\"left\\\"}, \\\"baseline\\\": {\\\"value\\\": \\\"middle\\\"}, \\\"dx\\\": {\\\"value\\\": 0, \\\"offset\\\": 0}, \\\"dy\\\": {\\\"value\\\": 0, \\\"offset\\\": 0}, \\\"angle\\\": {\\\"value\\\": 0}, \\\"clip\\\": {\\\"value\\\": true}, \\\"font\\\": {\\\"value\\\": \\\"AvenirNext-Medium\\\"}, \\\"fontSize\\\": {\\\"value\\\": 11}, \\\"fontWeight\\\": {\\\"value\\\": \\\"bold\\\"}, \\\"fontStyle\\\": {\\\"value\\\": \\\"normal\\\"}, \\\"fill\\\": {\\\"value\\\": \\\"#4A4A4A\\\"}}, \\\"update\\\": {\\\"x\\\": {\\\"signal\\\": \\\"datum[\\\\\\\"c_x_axis_back\\\\\\\"]+467\\\"}, \\\"y\\\": {\\\"field\\\": \\\"c_mean\\\"}}}, \\\"type\\\": \\\"text\\\"}, {\\\"from\\\": {\\\"data\\\": \\\"data_2\\\"}, \\\"encode\\\": {\\\"enter\\\": {\\\"x\\\": {\\\"value\\\": 500}, \\\"y\\\": {\\\"value\\\": 220}, \\\"text\\\": {\\\"signal\\\": \\\"(toString(datum[\\\\\\\"type\\\\\\\"]) == \\\\\\\"integer\\\\\\\" || toString(datum[\\\\\\\"type\\\\\\\"]) == \\\\\\\"float\\\\\\\")? \\\\\\\"Min:\\\\\\\":\\\\\\\"\\\\\\\"\\\"}, \\\"align\\\": {\\\"value\\\": \\\"left\\\"}, \\\"baseline\\\": {\\\"value\\\": \\\"middle\\\"}, \\\"dx\\\": {\\\"value\\\": 0, \\\"offset\\\": 0}, \\\"dy\\\": {\\\"value\\\": 0, \\\"offset\\\": 0}, \\\"angle\\\": {\\\"value\\\": 0}, \\\"font\\\": {\\\"value\\\": \\\"AvenirNext-Medium\\\"}, \\\"fontSize\\\": {\\\"value\\\": 11}, \\\"fontWeight\\\": {\\\"value\\\": \\\"bold\\\"}, \\\"fontStyle\\\": {\\\"value\\\": \\\"normal\\\"}, \\\"fill\\\": {\\\"value\\\": \\\"#4A4A4A\\\"}}, \\\"update\\\": {\\\"x\\\": {\\\"signal\\\": \\\"datum[\\\\\\\"c_x_axis_back\\\\\\\"]+467\\\"}, \\\"y\\\": {\\\"field\\\": \\\"c_min\\\"}}}, \\\"type\\\": \\\"text\\\"}, {\\\"from\\\": {\\\"data\\\": \\\"data_2\\\"}, \\\"encode\\\": {\\\"enter\\\": {\\\"x\\\": {\\\"value\\\": 500}, \\\"y\\\": {\\\"value\\\": 240}, \\\"text\\\": {\\\"signal\\\": \\\"(toString(datum[\\\\\\\"type\\\\\\\"]) == \\\\\\\"integer\\\\\\\" || toString(datum[\\\\\\\"type\\\\\\\"]) == \\\\\\\"float\\\\\\\")? \\\\\\\"Max:\\\\\\\":\\\\\\\"\\\\\\\"\\\"}, \\\"align\\\": {\\\"value\\\": \\\"left\\\"}, \\\"baseline\\\": {\\\"value\\\": \\\"middle\\\"}, \\\"dx\\\": {\\\"value\\\": 0, \\\"offset\\\": 0}, \\\"dy\\\": {\\\"value\\\": 0, \\\"offset\\\": 0}, \\\"angle\\\": {\\\"value\\\": 0}, \\\"font\\\": {\\\"value\\\": \\\"AvenirNext-Medium\\\"}, \\\"fontSize\\\": {\\\"value\\\": 11}, \\\"fontWeight\\\": {\\\"value\\\": \\\"bold\\\"}, \\\"fontStyle\\\": {\\\"value\\\": \\\"normal\\\"}, \\\"fill\\\": {\\\"value\\\": \\\"#4A4A4A\\\"}}, \\\"update\\\": {\\\"x\\\": {\\\"signal\\\": \\\"datum[\\\\\\\"c_x_axis_back\\\\\\\"]+467\\\"}, \\\"y\\\": {\\\"field\\\": \\\"c_max\\\"}}}, \\\"type\\\": \\\"text\\\"}, {\\\"from\\\": {\\\"data\\\": \\\"data_2\\\"}, \\\"encode\\\": {\\\"enter\\\": {\\\"x\\\": {\\\"value\\\": 500}, \\\"y\\\": {\\\"value\\\": 260}, \\\"text\\\": {\\\"signal\\\": \\\"(toString(datum[\\\\\\\"type\\\\\\\"]) == \\\\\\\"integer\\\\\\\" || toString(datum[\\\\\\\"type\\\\\\\"]) == \\\\\\\"float\\\\\\\")? \\\\\\\"Median:\\\\\\\":\\\\\\\"\\\\\\\"\\\"}, \\\"align\\\": {\\\"value\\\": \\\"left\\\"}, \\\"baseline\\\": {\\\"value\\\": \\\"middle\\\"}, \\\"dx\\\": {\\\"value\\\": 0, \\\"offset\\\": 0}, \\\"dy\\\": {\\\"value\\\": 0, \\\"offset\\\": 0}, \\\"angle\\\": {\\\"value\\\": 0}, \\\"font\\\": {\\\"value\\\": \\\"AvenirNext-Medium\\\"}, \\\"fontSize\\\": {\\\"value\\\": 11}, \\\"fontWeight\\\": {\\\"value\\\": \\\"bold\\\"}, \\\"fontStyle\\\": {\\\"value\\\": \\\"normal\\\"}, \\\"fill\\\": {\\\"value\\\": \\\"#4A4A4A\\\"}}, \\\"update\\\": {\\\"x\\\": {\\\"signal\\\": \\\"datum[\\\\\\\"c_x_axis_back\\\\\\\"]+467\\\"}, \\\"y\\\": {\\\"field\\\": \\\"c_median\\\"}}}, \\\"type\\\": \\\"text\\\"}, {\\\"from\\\": {\\\"data\\\": \\\"data_2\\\"}, \\\"encode\\\": {\\\"enter\\\": {\\\"x\\\": {\\\"value\\\": 500}, \\\"y\\\": {\\\"value\\\": 280}, \\\"text\\\": {\\\"signal\\\": \\\"(toString(datum[\\\\\\\"type\\\\\\\"]) == \\\\\\\"integer\\\\\\\" || toString(datum[\\\\\\\"type\\\\\\\"]) == \\\\\\\"float\\\\\\\")? \\\\\\\"St. Dev:\\\\\\\":\\\\\\\"\\\\\\\"\\\"}, \\\"align\\\": {\\\"value\\\": \\\"left\\\"}, \\\"baseline\\\": {\\\"value\\\": \\\"middle\\\"}, \\\"dx\\\": {\\\"value\\\": 0, \\\"offset\\\": 0}, \\\"dy\\\": {\\\"value\\\": 0, \\\"offset\\\": 0}, \\\"angle\\\": {\\\"value\\\": 0}, \\\"font\\\": {\\\"value\\\": \\\"AvenirNext-Medium\\\"}, \\\"fontSize\\\": {\\\"value\\\": 11}, \\\"fontWeight\\\": {\\\"value\\\": \\\"bold\\\"}, \\\"fontStyle\\\": {\\\"value\\\": \\\"normal\\\"}, \\\"fill\\\": {\\\"value\\\": \\\"#4A4A4A\\\"}}, \\\"update\\\": {\\\"x\\\": {\\\"signal\\\": \\\"datum[\\\\\\\"c_x_axis_back\\\\\\\"]+467\\\"}, \\\"y\\\": {\\\"field\\\": \\\"c_stdev\\\"}}}, \\\"type\\\": \\\"text\\\"}, {\\\"from\\\": {\\\"data\\\": \\\"data_2\\\"}, \\\"encode\\\": {\\\"enter\\\": {\\\"x\\\": {\\\"value\\\": 700}, \\\"y\\\": {\\\"value\\\": 198}, \\\"text\\\": {\\\"signal\\\": \\\"(toString(datum[\\\\\\\"type\\\\\\\"]) == \\\\\\\"integer\\\\\\\" || toString(datum[\\\\\\\"type\\\\\\\"]) == \\\\\\\"float\\\\\\\")?toString(format(datum[\\\\\\\"mean\\\\\\\"], \\\\\\\",\\\\\\\")):\\\\\\\"\\\\\\\"\\\"}, \\\"align\\\": {\\\"value\\\": \\\"right\\\"}, \\\"baseline\\\": {\\\"value\\\": \\\"middle\\\"}, \\\"dx\\\": {\\\"value\\\": 0, \\\"offset\\\": 0}, \\\"dy\\\": {\\\"value\\\": 0, \\\"offset\\\": 0}, \\\"angle\\\": {\\\"value\\\": 0}, \\\"font\\\": {\\\"value\\\": \\\"AvenirNext-Medium\\\"}, \\\"fontSize\\\": {\\\"value\\\": 10}, \\\"fontWeight\\\": {\\\"value\\\": \\\"normal\\\"}, \\\"fontStyle\\\": {\\\"value\\\": \\\"normal\\\"}, \\\"fill\\\": {\\\"value\\\": \\\"#6A6A6A\\\"}}, \\\"update\\\": {\\\"x\\\": {\\\"signal\\\": \\\"datum[\\\\\\\"c_x_axis_back\\\\\\\"]+667\\\"}, \\\"y\\\": {\\\"field\\\": \\\"c_mean_val\\\"}}}, \\\"type\\\": \\\"text\\\"}, {\\\"from\\\": {\\\"data\\\": \\\"data_2\\\"}, \\\"encode\\\": {\\\"enter\\\": {\\\"x\\\": {\\\"value\\\": 700}, \\\"y\\\": {\\\"value\\\": 218}, \\\"text\\\": {\\\"signal\\\": \\\"(toString(datum[\\\\\\\"type\\\\\\\"]) == \\\\\\\"integer\\\\\\\" || toString(datum[\\\\\\\"type\\\\\\\"]) == \\\\\\\"float\\\\\\\")?toString(format(datum[\\\\\\\"min\\\\\\\"], \\\\\\\",\\\\\\\")):\\\\\\\"\\\\\\\"\\\"}, \\\"align\\\": {\\\"value\\\": \\\"right\\\"}, \\\"baseline\\\": {\\\"value\\\": \\\"middle\\\"}, \\\"dx\\\": {\\\"value\\\": 0, \\\"offset\\\": 0}, \\\"dy\\\": {\\\"value\\\": 0, \\\"offset\\\": 0}, \\\"angle\\\": {\\\"value\\\": 0}, \\\"font\\\": {\\\"value\\\": \\\"AvenirNext-Medium\\\"}, \\\"fontSize\\\": {\\\"value\\\": 10}, \\\"fontWeight\\\": {\\\"value\\\": \\\"normal\\\"}, \\\"fontStyle\\\": {\\\"value\\\": \\\"normal\\\"}, \\\"fill\\\": {\\\"value\\\": \\\"#6A6A6A\\\"}}, \\\"update\\\": {\\\"x\\\": {\\\"signal\\\": \\\"datum[\\\\\\\"c_x_axis_back\\\\\\\"]+667\\\"}, \\\"y\\\": {\\\"field\\\": \\\"c_min_val\\\"}}}, \\\"type\\\": \\\"text\\\"}, {\\\"from\\\": {\\\"data\\\": \\\"data_2\\\"}, \\\"encode\\\": {\\\"enter\\\": {\\\"x\\\": {\\\"value\\\": 700}, \\\"y\\\": {\\\"value\\\": 238}, \\\"text\\\": {\\\"signal\\\": \\\"(toString(datum[\\\\\\\"type\\\\\\\"]) == \\\\\\\"integer\\\\\\\" || toString(datum[\\\\\\\"type\\\\\\\"]) == \\\\\\\"float\\\\\\\")?toString(format(datum[\\\\\\\"max\\\\\\\"], \\\\\\\",\\\\\\\")):\\\\\\\"\\\\\\\"\\\"}, \\\"align\\\": {\\\"value\\\": \\\"right\\\"}, \\\"baseline\\\": {\\\"value\\\": \\\"middle\\\"}, \\\"dx\\\": {\\\"value\\\": 0, \\\"offset\\\": 0}, \\\"dy\\\": {\\\"value\\\": 0, \\\"offset\\\": 0}, \\\"angle\\\": {\\\"value\\\": 0}, \\\"font\\\": {\\\"value\\\": \\\"AvenirNext-Medium\\\"}, \\\"fontSize\\\": {\\\"value\\\": 10}, \\\"fontWeight\\\": {\\\"value\\\": \\\"normal\\\"}, \\\"fontStyle\\\": {\\\"value\\\": \\\"normal\\\"}, \\\"fill\\\": {\\\"value\\\": \\\"#6A6A6A\\\"}}, \\\"update\\\": {\\\"x\\\": {\\\"signal\\\": \\\"datum[\\\\\\\"c_x_axis_back\\\\\\\"]+667\\\"}, \\\"y\\\": {\\\"field\\\": \\\"c_max_val\\\"}}}, \\\"type\\\": \\\"text\\\"}, {\\\"from\\\": {\\\"data\\\": \\\"data_2\\\"}, \\\"encode\\\": {\\\"enter\\\": {\\\"x\\\": {\\\"value\\\": 700}, \\\"y\\\": {\\\"value\\\": 258}, \\\"text\\\": {\\\"signal\\\": \\\"(toString(datum[\\\\\\\"type\\\\\\\"]) == \\\\\\\"integer\\\\\\\" || toString(datum[\\\\\\\"type\\\\\\\"]) == \\\\\\\"float\\\\\\\")?toString(format(datum[\\\\\\\"median\\\\\\\"], \\\\\\\",\\\\\\\")):\\\\\\\"\\\\\\\"\\\"}, \\\"align\\\": {\\\"value\\\": \\\"right\\\"}, \\\"baseline\\\": {\\\"value\\\": \\\"middle\\\"}, \\\"dx\\\": {\\\"value\\\": 0, \\\"offset\\\": 0}, \\\"dy\\\": {\\\"value\\\": 0, \\\"offset\\\": 0}, \\\"angle\\\": {\\\"value\\\": 0}, \\\"font\\\": {\\\"value\\\": \\\"AvenirNext-Medium\\\"}, \\\"fontSize\\\": {\\\"value\\\": 10}, \\\"fontWeight\\\": {\\\"value\\\": \\\"normal\\\"}, \\\"fontStyle\\\": {\\\"value\\\": \\\"normal\\\"}, \\\"fill\\\": {\\\"value\\\": \\\"#6A6A6A\\\"}}, \\\"update\\\": {\\\"x\\\": {\\\"signal\\\": \\\"datum[\\\\\\\"c_x_axis_back\\\\\\\"]+667\\\"}, \\\"y\\\": {\\\"field\\\": \\\"c_median_val\\\"}}}, \\\"type\\\": \\\"text\\\"}, {\\\"from\\\": {\\\"data\\\": \\\"data_2\\\"}, \\\"encode\\\": {\\\"enter\\\": {\\\"x\\\": {\\\"value\\\": 700}, \\\"y\\\": {\\\"value\\\": 278}, \\\"text\\\": {\\\"signal\\\": \\\"(toString(datum[\\\\\\\"type\\\\\\\"]) == \\\\\\\"integer\\\\\\\" || toString(datum[\\\\\\\"type\\\\\\\"]) == \\\\\\\"float\\\\\\\")?toString(format(datum[\\\\\\\"stdev\\\\\\\"], \\\\\\\",\\\\\\\")):\\\\\\\"\\\\\\\"\\\"}, \\\"align\\\": {\\\"value\\\": \\\"right\\\"}, \\\"baseline\\\": {\\\"value\\\": \\\"middle\\\"}, \\\"dx\\\": {\\\"value\\\": 0, \\\"offset\\\": 0}, \\\"dy\\\": {\\\"value\\\": 0, \\\"offset\\\": 0}, \\\"angle\\\": {\\\"value\\\": 0}, \\\"font\\\": {\\\"value\\\": \\\"AvenirNext-Medium\\\"}, \\\"fontSize\\\": {\\\"value\\\": 10}, \\\"fontWeight\\\": {\\\"value\\\": \\\"normal\\\"}, \\\"fontStyle\\\": {\\\"value\\\": \\\"normal\\\"}, \\\"fill\\\": {\\\"value\\\": \\\"#6A6A6A\\\"}}, \\\"update\\\": {\\\"x\\\": {\\\"signal\\\": \\\"datum[\\\\\\\"c_x_axis_back\\\\\\\"]+667\\\"}, \\\"y\\\": {\\\"field\\\": \\\"c_stdev_val\\\"}}}, \\\"type\\\": \\\"text\\\"}, {\\\"from\\\": {\\\"facet\\\": {\\\"name\\\": \\\"new_data\\\", \\\"data\\\": \\\"data_2\\\", \\\"field\\\": \\\"numeric\\\"}}, \\\"encode\\\": {\\\"enter\\\": {\\\"x\\\": {\\\"value\\\": 120}, \\\"width\\\": {\\\"value\\\": 250}, \\\"y\\\": {\\\"field\\\": \\\"graph_offset\\\"}, \\\"height\\\": {\\\"value\\\": 150}, \\\"fill\\\": {\\\"value\\\": \\\"#ffffff\\\"}, \\\"fillOpacity\\\": {\\\"value\\\": 0}, \\\"stroke\\\": {\\\"value\\\": \\\"#000000\\\"}, \\\"strokeWidth\\\": {\\\"value\\\": 0}}, \\\"update\\\": {\\\"x\\\": {\\\"signal\\\": \\\"datum[\\\\\\\"c_x_axis_back\\\\\\\"]+87\\\"}, \\\"clip\\\": {\\\"field\\\": \\\"c_clip_val\\\"}, \\\"width\\\": {\\\"field\\\": \\\"c_width_numeric_val\\\"}}}, \\\"type\\\": \\\"group\\\", \\\"scales\\\": [{\\\"name\\\": \\\"x\\\", \\\"type\\\": \\\"linear\\\", \\\"domain\\\": {\\\"data\\\": \\\"new_data\\\", \\\"fields\\\": [\\\"left\\\", \\\"right\\\"], \\\"sort\\\": true}, \\\"range\\\": [0, {\\\"signal\\\": \\\"width\\\"}], \\\"nice\\\": true, \\\"zero\\\": true}, {\\\"name\\\": \\\"y\\\", \\\"type\\\": \\\"linear\\\", \\\"domain\\\": {\\\"data\\\": \\\"new_data\\\", \\\"field\\\": \\\"count\\\"}, \\\"range\\\": [{\\\"signal\\\": \\\"height\\\"}, 0], \\\"nice\\\": true, \\\"zero\\\": true}], \\\"axes\\\": [{\\\"title\\\": \\\"Values\\\", \\\"scale\\\": \\\"x\\\", \\\"labelOverlap\\\": true, \\\"orient\\\": \\\"bottom\\\", \\\"tickCount\\\": {\\\"signal\\\": \\\"ceil(width/40)\\\"}, \\\"zindex\\\": 1}, {\\\"scale\\\": \\\"x\\\", \\\"domain\\\": false, \\\"grid\\\": true, \\\"labels\\\": false, \\\"maxExtent\\\": 0, \\\"minExtent\\\": 0, \\\"orient\\\": \\\"bottom\\\", \\\"tickCount\\\": {\\\"signal\\\": \\\"ceil(width/40)\\\"}, \\\"ticks\\\": false, \\\"zindex\\\": 0, \\\"gridScale\\\": \\\"y\\\"}, {\\\"title\\\": \\\"Count\\\", \\\"scale\\\": \\\"y\\\", \\\"labelOverlap\\\": true, \\\"orient\\\": \\\"left\\\", \\\"tickCount\\\": {\\\"signal\\\": \\\"ceil(height/40)\\\"}, \\\"zindex\\\": 1}, {\\\"scale\\\": \\\"y\\\", \\\"domain\\\": false, \\\"grid\\\": true, \\\"labels\\\": false, \\\"maxExtent\\\": 0, \\\"minExtent\\\": 0, \\\"orient\\\": \\\"left\\\", \\\"tickCount\\\": {\\\"signal\\\": \\\"ceil(height/40)\\\"}, \\\"ticks\\\": false, \\\"zindex\\\": 0, \\\"gridScale\\\": \\\"x\\\"}], \\\"style\\\": \\\"cell\\\", \\\"signals\\\": [{\\\"name\\\": \\\"width\\\", \\\"update\\\": \\\"250\\\"}, {\\\"name\\\": \\\"height\\\", \\\"update\\\": \\\"150\\\"}], \\\"marks\\\": [{\\\"name\\\": \\\"marks\\\", \\\"type\\\": \\\"rect\\\", \\\"style\\\": [\\\"rect\\\"], \\\"from\\\": {\\\"data\\\": \\\"new_data\\\"}, \\\"encode\\\": {\\\"hover\\\": {\\\"fill\\\": {\\\"value\\\": \\\"#7EC2F3\\\"}}, \\\"update\\\": {\\\"x\\\": {\\\"scale\\\": \\\"x\\\", \\\"field\\\": \\\"left\\\"}, \\\"x2\\\": {\\\"scale\\\": \\\"x\\\", \\\"field\\\": \\\"right\\\"}, \\\"y\\\": {\\\"scale\\\": \\\"y\\\", \\\"field\\\": \\\"count\\\"}, \\\"y2\\\": {\\\"scale\\\": \\\"y\\\", \\\"value\\\": 0}, \\\"fill\\\": {\\\"value\\\": \\\"#108EE9\\\"}}}}]}, {\\\"from\\\": {\\\"facet\\\": {\\\"name\\\": \\\"data_5\\\", \\\"data\\\": \\\"data_2\\\", \\\"field\\\": \\\"categorical\\\"}}, \\\"encode\\\": {\\\"enter\\\": {\\\"x\\\": {\\\"value\\\": 170}, \\\"width\\\": {\\\"value\\\": 250}, \\\"y\\\": {\\\"field\\\": \\\"graph_offset_categorical\\\"}, \\\"height\\\": {\\\"value\\\": 150}, \\\"fill\\\": {\\\"value\\\": \\\"#ffffff\\\"}, \\\"fillOpacity\\\": {\\\"value\\\": 0}, \\\"stroke\\\": {\\\"value\\\": \\\"#000000\\\"}, \\\"strokeWidth\\\": {\\\"value\\\": 0}}, \\\"update\\\": {\\\"x\\\": {\\\"signal\\\": \\\"datum[\\\\\\\"c_x_axis_back\\\\\\\"]+137\\\"}, \\\"clip\\\": {\\\"field\\\": \\\"c_clip_val_cat\\\"}, \\\"width\\\": {\\\"field\\\": \\\"c_width_numeric_val_cat\\\"}}}, \\\"type\\\": \\\"group\\\", \\\"style\\\": \\\"cell\\\", \\\"signals\\\": [{\\\"name\\\": \\\"unit\\\", \\\"value\\\": {}, \\\"on\\\": [{\\\"events\\\": \\\"mousemove\\\", \\\"update\\\": \\\"isTuple(group()) ? group() : unit\\\"}]}, {\\\"name\\\": \\\"pts\\\", \\\"update\\\": \\\"data(\\\\\\\"pts_store\\\\\\\").length &amp;&amp; {count: data(\\\\\\\"pts_store\\\\\\\")[0].values[0]}\\\"}, {\\\"name\\\": \\\"pts_tuple\\\", \\\"value\\\": {}, \\\"on\\\": [{\\\"events\\\": [{\\\"source\\\": \\\"scope\\\", \\\"type\\\": \\\"click\\\"}], \\\"update\\\": \\\"datum &amp;&amp; item().mark.marktype !== &apos;group&apos; ? {unit: \\\\\\\"\\\\\\\", encodings: [\\\\\\\"x\\\\\\\"], fields: [\\\\\\\"count\\\\\\\"], values: [datum[\\\\\\\"count\\\\\\\"]]} : null\\\", \\\"force\\\": true}]}, {\\\"name\\\": \\\"pts_modify\\\", \\\"on\\\": [{\\\"events\\\": {\\\"signal\\\": \\\"pts_tuple\\\"}, \\\"update\\\": \\\"modify(\\\\\\\"pts_store\\\\\\\", pts_tuple, true)\\\"}]}], \\\"marks\\\": [{\\\"name\\\": \\\"marks\\\", \\\"type\\\": \\\"rect\\\", \\\"style\\\": [\\\"bar\\\"], \\\"from\\\": {\\\"data\\\": \\\"data_5\\\"}, \\\"encode\\\": {\\\"hover\\\": {\\\"fill\\\": {\\\"value\\\": \\\"#7EC2F3\\\"}}, \\\"update\\\": {\\\"x\\\": {\\\"scale\\\": \\\"x\\\", \\\"field\\\": \\\"count\\\"}, \\\"x2\\\": {\\\"scale\\\": \\\"x\\\", \\\"value\\\": 0}, \\\"y\\\": {\\\"scale\\\": \\\"y\\\", \\\"field\\\": \\\"label\\\"}, \\\"height\\\": {\\\"scale\\\": \\\"y\\\", \\\"band\\\": true}, \\\"fill\\\": {\\\"value\\\": \\\"#108EE9\\\"}}}}], \\\"scales\\\": [{\\\"name\\\": \\\"x\\\", \\\"type\\\": \\\"linear\\\", \\\"domain\\\": {\\\"data\\\": \\\"data_5\\\", \\\"field\\\": \\\"count\\\"}, \\\"range\\\": [0, 250], \\\"nice\\\": true, \\\"zero\\\": true}, {\\\"name\\\": \\\"y\\\", \\\"type\\\": \\\"band\\\", \\\"domain\\\": {\\\"data\\\": \\\"data_5\\\", \\\"field\\\": \\\"label\\\", \\\"sort\\\": {\\\"op\\\": \\\"mean\\\", \\\"field\\\": \\\"label_idx\\\", \\\"order\\\": \\\"descending\\\"}}, \\\"range\\\": [150, 0], \\\"paddingInner\\\": 0.1, \\\"paddingOuter\\\": 0.05}], \\\"axes\\\": [{\\\"orient\\\": \\\"top\\\", \\\"scale\\\": \\\"x\\\", \\\"labelOverlap\\\": true, \\\"tickCount\\\": {\\\"signal\\\": \\\"ceil(width/40)\\\"}, \\\"title\\\": \\\"Count\\\", \\\"zindex\\\": 1}, {\\\"orient\\\": \\\"top\\\", \\\"scale\\\": \\\"x\\\", \\\"domain\\\": false, \\\"grid\\\": true, \\\"labels\\\": false, \\\"maxExtent\\\": 0, \\\"minExtent\\\": 0, \\\"tickCount\\\": {\\\"signal\\\": \\\"ceil(width/40)\\\"}, \\\"ticks\\\": false, \\\"zindex\\\": 0, \\\"gridScale\\\": \\\"y\\\"}, {\\\"scale\\\": \\\"y\\\", \\\"labelOverlap\\\": true, \\\"orient\\\": \\\"left\\\", \\\"title\\\": \\\"Label\\\", \\\"zindex\\\": 1}]}], \\\"type\\\": \\\"group\\\"}], \\\"type\\\": \\\"group\\\"}], \\\"config\\\": {\\\"axis\\\": {\\\"labelFont\\\": \\\"HelveticaNeue-Light, Arial\\\", \\\"labelFontSize\\\": 7, \\\"labelPadding\\\": 10, \\\"labelColor\\\": \\\"#595959\\\", \\\"titleFont\\\": \\\"HelveticaNeue-Light, Arial\\\", \\\"titleFontWeight\\\": \\\"normal\\\", \\\"titlePadding\\\": 9, \\\"titleFontSize\\\": 12, \\\"titleColor\\\": \\\"#595959\\\"}, \\\"axisY\\\": {\\\"minExtent\\\": 30}, \\\"style\\\": {\\\"rect\\\": {\\\"stroke\\\": \\\"rgba(200, 200, 200, 0.5)\\\"}, \\\"group-title\\\": {\\\"fontSize\\\": 20, \\\"font\\\": \\\"HelveticaNeue-Light, Arial\\\", \\\"fontWeight\\\": \\\"normal\\\", \\\"fill\\\": \\\"#595959\\\"}}}}\";                                 var vega_json_parsed = JSON.parse(vega_json);                                 var toolTipOpts = {                                     showAllFields: true                                 };                                 if(vega_json_parsed[\"metadata\"] != null){                                     if(vega_json_parsed[\"metadata\"][\"bubbleOpts\"] != null){                                         toolTipOpts = vega_json_parsed[\"metadata\"][\"bubbleOpts\"];                                     };                                 };                                 vegaEmbed(\"#vis\", vega_json_parsed).then(function (result) {                                     vegaTooltip.vega(result.view, toolTipOpts);                                  });                             </script>                         </body>                     </html>' src=\"demo_iframe_srcdoc.htm\">                         <p>Your browser does not support iframes.</p>                     </iframe>                 </body>             </html>"
            ]
          },
          "metadata": {}
        }
      ],
      "source": [
        "books.show()"
      ]
    },
    {
      "cell_type": "code",
      "execution_count": null,
      "metadata": {
        "id": "0Hg3fRSfYzHK"
      },
      "outputs": [],
      "source": [
        "training_data, validation_data = tc.recommender.util.random_split_by_user(books, 'user_id', 'book_id',item_test_proportion=0.3)\n"
      ]
    },
    {
      "cell_type": "code",
      "source": [
        "print(training_data.shape)\n",
        "print(validation_data.shape)"
      ],
      "metadata": {
        "colab": {
          "base_uri": "https://localhost:8080/"
        },
        "id": "CPbwhkCwM4j_",
        "outputId": "780bbaa2-d4f2-4338-acf5-b8821a2ea042"
      },
      "execution_count": null,
      "outputs": [
        {
          "output_type": "stream",
          "name": "stdout",
          "text": [
            "(5942664, 3)\n",
            "(33822, 3)\n"
          ]
        }
      ]
    },
    {
      "cell_type": "code",
      "execution_count": null,
      "metadata": {
        "colab": {
          "base_uri": "https://localhost:8080/",
          "height": 503
        },
        "id": "gHj5ATBvYzHL",
        "outputId": "46491d66-dc44-4da7-9320-f637cedd93a8"
      },
      "outputs": [
        {
          "output_type": "display_data",
          "data": {
            "text/plain": [
              "Preparing data set."
            ],
            "text/html": [
              "<pre>Preparing data set.</pre>"
            ]
          },
          "metadata": {}
        },
        {
          "output_type": "display_data",
          "data": {
            "text/plain": [
              "    Data has 5942664 observations with 53425 users and 10000 items."
            ],
            "text/html": [
              "<pre>    Data has 5942664 observations with 53425 users and 10000 items.</pre>"
            ]
          },
          "metadata": {}
        },
        {
          "output_type": "display_data",
          "data": {
            "text/plain": [
              "    Data prepared in: 7.86111s"
            ],
            "text/html": [
              "<pre>    Data prepared in: 7.86111s</pre>"
            ]
          },
          "metadata": {}
        },
        {
          "output_type": "display_data",
          "data": {
            "text/plain": [
              "Training model from provided data."
            ],
            "text/html": [
              "<pre>Training model from provided data.</pre>"
            ]
          },
          "metadata": {}
        },
        {
          "output_type": "display_data",
          "data": {
            "text/plain": [
              "Gathering per-item and per-user statistics."
            ],
            "text/html": [
              "<pre>Gathering per-item and per-user statistics.</pre>"
            ]
          },
          "metadata": {}
        },
        {
          "output_type": "display_data",
          "data": {
            "text/plain": [
              "+--------------------------------+------------+"
            ],
            "text/html": [
              "<pre>+--------------------------------+------------+</pre>"
            ]
          },
          "metadata": {}
        },
        {
          "output_type": "display_data",
          "data": {
            "text/plain": [
              "| Elapsed Time (Item Statistics) | % Complete |"
            ],
            "text/html": [
              "<pre>| Elapsed Time (Item Statistics) | % Complete |</pre>"
            ]
          },
          "metadata": {}
        },
        {
          "output_type": "display_data",
          "data": {
            "text/plain": [
              "+--------------------------------+------------+"
            ],
            "text/html": [
              "<pre>+--------------------------------+------------+</pre>"
            ]
          },
          "metadata": {}
        },
        {
          "output_type": "display_data",
          "data": {
            "text/plain": [
              "| 20.685ms                       | 1.75       |"
            ],
            "text/html": [
              "<pre>| 20.685ms                       | 1.75       |</pre>"
            ]
          },
          "metadata": {}
        },
        {
          "output_type": "display_data",
          "data": {
            "text/plain": [
              "| 285.626ms                      | 100        |"
            ],
            "text/html": [
              "<pre>| 285.626ms                      | 100        |</pre>"
            ]
          },
          "metadata": {}
        },
        {
          "output_type": "display_data",
          "data": {
            "text/plain": [
              "+--------------------------------+------------+"
            ],
            "text/html": [
              "<pre>+--------------------------------+------------+</pre>"
            ]
          },
          "metadata": {}
        },
        {
          "output_type": "display_data",
          "data": {
            "text/plain": [
              "Setting up lookup tables."
            ],
            "text/html": [
              "<pre>Setting up lookup tables.</pre>"
            ]
          },
          "metadata": {}
        },
        {
          "output_type": "display_data",
          "data": {
            "text/plain": [
              "Processing data in one pass using dense lookup tables."
            ],
            "text/html": [
              "<pre>Processing data in one pass using dense lookup tables.</pre>"
            ]
          },
          "metadata": {}
        },
        {
          "output_type": "display_data",
          "data": {
            "text/plain": [
              "+-------------------------------------+------------------+-----------------+"
            ],
            "text/html": [
              "<pre>+-------------------------------------+------------------+-----------------+</pre>"
            ]
          },
          "metadata": {}
        },
        {
          "output_type": "display_data",
          "data": {
            "text/plain": [
              "| Elapsed Time (Constructing Lookups) | Total % Complete | Items Processed |"
            ],
            "text/html": [
              "<pre>| Elapsed Time (Constructing Lookups) | Total % Complete | Items Processed |</pre>"
            ]
          },
          "metadata": {}
        },
        {
          "output_type": "display_data",
          "data": {
            "text/plain": [
              "+-------------------------------------+------------------+-----------------+"
            ],
            "text/html": [
              "<pre>+-------------------------------------+------------------+-----------------+</pre>"
            ]
          },
          "metadata": {}
        },
        {
          "output_type": "display_data",
          "data": {
            "text/plain": [
              "| 1.07s                               | 0                | 0               |"
            ],
            "text/html": [
              "<pre>| 1.07s                               | 0                | 0               |</pre>"
            ]
          },
          "metadata": {}
        },
        {
          "output_type": "display_data",
          "data": {
            "text/plain": [
              "| 4.07s                               | 14               | 1420            |"
            ],
            "text/html": [
              "<pre>| 4.07s                               | 14               | 1420            |</pre>"
            ]
          },
          "metadata": {}
        },
        {
          "output_type": "display_data",
          "data": {
            "text/plain": [
              "| 7.07s                               | 28               | 2816            |"
            ],
            "text/html": [
              "<pre>| 7.07s                               | 28               | 2816            |</pre>"
            ]
          },
          "metadata": {}
        },
        {
          "output_type": "display_data",
          "data": {
            "text/plain": [
              "| 10.07s                              | 42.5             | 4270            |"
            ],
            "text/html": [
              "<pre>| 10.07s                              | 42.5             | 4270            |</pre>"
            ]
          },
          "metadata": {}
        },
        {
          "output_type": "display_data",
          "data": {
            "text/plain": [
              "| 13.07s                              | 57.25            | 5730            |"
            ],
            "text/html": [
              "<pre>| 13.07s                              | 57.25            | 5730            |</pre>"
            ]
          },
          "metadata": {}
        },
        {
          "output_type": "display_data",
          "data": {
            "text/plain": [
              "| 16.07s                              | 71.75            | 7188            |"
            ],
            "text/html": [
              "<pre>| 16.07s                              | 71.75            | 7188            |</pre>"
            ]
          },
          "metadata": {}
        },
        {
          "output_type": "display_data",
          "data": {
            "text/plain": [
              "| 19.07s                              | 86.25            | 8636            |"
            ],
            "text/html": [
              "<pre>| 19.07s                              | 86.25            | 8636            |</pre>"
            ]
          },
          "metadata": {}
        },
        {
          "output_type": "display_data",
          "data": {
            "text/plain": [
              "| 23.87s                              | 100              | 10000           |"
            ],
            "text/html": [
              "<pre>| 23.87s                              | 100              | 10000           |</pre>"
            ]
          },
          "metadata": {}
        },
        {
          "output_type": "display_data",
          "data": {
            "text/plain": [
              "+-------------------------------------+------------------+-----------------+"
            ],
            "text/html": [
              "<pre>+-------------------------------------+------------------+-----------------+</pre>"
            ]
          },
          "metadata": {}
        },
        {
          "output_type": "display_data",
          "data": {
            "text/plain": [
              "Finalizing lookup tables."
            ],
            "text/html": [
              "<pre>Finalizing lookup tables.</pre>"
            ]
          },
          "metadata": {}
        },
        {
          "output_type": "display_data",
          "data": {
            "text/plain": [
              "Generating candidate set for working with new users."
            ],
            "text/html": [
              "<pre>Generating candidate set for working with new users.</pre>"
            ]
          },
          "metadata": {}
        },
        {
          "output_type": "display_data",
          "data": {
            "text/plain": [
              "Finished training in 24.3244s"
            ],
            "text/html": [
              "<pre>Finished training in 24.3244s</pre>"
            ]
          },
          "metadata": {}
        }
      ],
      "source": [
        "# Item-item collaborative filtering - cosine similarity\n",
        "model = tc.recommender.item_similarity_recommender.create(training_data,\n",
        "user_id='user_id', item_id='book_id',target='rating', similarity_type = 'cosine') \n",
        "# items_similarity = model.get_similar_items()"
      ]
    },
    {
      "cell_type": "code",
      "source": [
        "results = model.recommend(users = [53425], k=3, verbose = False)"
      ],
      "metadata": {
        "id": "Y33-qvk_i81C"
      },
      "execution_count": null,
      "outputs": []
    },
    {
      "cell_type": "code",
      "source": [
        "books_info = pd.read_csv('books_enriched.csv', index_col = 'book_id')"
      ],
      "metadata": {
        "id": "WsdCi_5-NYwi"
      },
      "execution_count": null,
      "outputs": []
    },
    {
      "cell_type": "code",
      "source": [
        "# books_info.loc[results['book_id'][-3:], 'title']\n",
        "books_info.loc[results['book_id'], 'title']"
      ],
      "metadata": {
        "colab": {
          "base_uri": "https://localhost:8080/"
        },
        "id": "l8OrM7fxmCgN",
        "outputId": "2f590b8f-116a-4237-dd39-aed508e45b29"
      },
      "execution_count": null,
      "outputs": [
        {
          "output_type": "execute_result",
          "data": {
            "text/plain": [
              "book_id\n",
              "3                     Twilight (Twilight, #1)\n",
              "1     The Hunger Games (The Hunger Games, #1)\n",
              "96      Fifty Shades Freed (Fifty Shades, #3)\n",
              "Name: title, dtype: object"
            ]
          },
          "metadata": {},
          "execution_count": 40
        }
      ]
    },
    {
      "cell_type": "code",
      "execution_count": null,
      "metadata": {
        "colab": {
          "base_uri": "https://localhost:8080/",
          "height": 1000
        },
        "id": "viVzzVIXYzHL",
        "outputId": "ae9fad50-11c8-4088-8f0e-58a2aca8d3db"
      },
      "outputs": [
        {
          "output_type": "display_data",
          "data": {
            "text/plain": [
              "recommendations finished on 1000/1000 queries. users per second: 1873.86"
            ],
            "text/html": [
              "<pre>recommendations finished on 1000/1000 queries. users per second: 1873.86</pre>"
            ]
          },
          "metadata": {}
        },
        {
          "output_type": "stream",
          "name": "stdout",
          "text": [
            "\n",
            "Precision and recall summary statistics by cutoff\n",
            "+--------+---------------------+----------------------+\n",
            "| cutoff |    mean_precision   |     mean_recall      |\n",
            "+--------+---------------------+----------------------+\n",
            "|   1    |  0.5130000000000002 | 0.016576138439357724 |\n",
            "|   2    |  0.4970000000000002 | 0.03180093855864954  |\n",
            "|   3    |  0.4693333333333332 | 0.044549700932059726 |\n",
            "|   4    |       0.44675       | 0.05611583857622838  |\n",
            "|   5    | 0.42859999999999987 | 0.06693753260915429  |\n",
            "|   6    | 0.41583333333333306 | 0.07745808071135243  |\n",
            "|   7    |        0.402        | 0.08727532744485918  |\n",
            "|   8    |       0.38825       | 0.09628049972567387  |\n",
            "|   9    | 0.37888888888888883 | 0.10538092330522317  |\n",
            "|   10   | 0.36679999999999985 | 0.11285791392007859  |\n",
            "+--------+---------------------+----------------------+\n",
            "[10 rows x 3 columns]\n",
            "\n",
            "\n",
            "Overall RMSE: 3.9034793500600307\n",
            "\n",
            "Per User RMSE (best)\n",
            "+---------+-------------------+-------+\n",
            "| user_id |        rmse       | count |\n",
            "+---------+-------------------+-------+\n",
            "|  27036  | 2.331597601280625 |   29  |\n",
            "+---------+-------------------+-------+\n",
            "[1 rows x 3 columns]\n",
            "\n",
            "\n",
            "Per User RMSE (worst)\n",
            "+---------+--------------------+-------+\n",
            "| user_id |        rmse        | count |\n",
            "+---------+--------------------+-------+\n",
            "|  30126  | 4.9200223348085395 |   44  |\n",
            "+---------+--------------------+-------+\n",
            "[1 rows x 3 columns]\n",
            "\n",
            "\n",
            "Per Item RMSE (best)\n",
            "+---------+-------------------+-------+\n",
            "| book_id |        rmse       | count |\n",
            "+---------+-------------------+-------+\n",
            "|   4823  | 0.763811629127573 |   1   |\n",
            "+---------+-------------------+-------+\n",
            "[1 rows x 3 columns]\n",
            "\n",
            "\n",
            "Per Item RMSE (worst)\n",
            "+---------+------+-------+\n",
            "| book_id | rmse | count |\n",
            "+---------+------+-------+\n",
            "|   3270  | 5.0  |   1   |\n",
            "+---------+------+-------+\n",
            "[1 rows x 3 columns]\n",
            "\n"
          ]
        },
        {
          "output_type": "execute_result",
          "data": {
            "text/plain": [
              "{'precision_recall_by_user': Columns:\n",
              " \tuser_id\tint\n",
              " \tcutoff\tint\n",
              " \tprecision\tfloat\n",
              " \trecall\tfloat\n",
              " \tcount\tint\n",
              " \n",
              " Rows: 18000\n",
              " \n",
              " Data:\n",
              " +---------+--------+--------------------+----------------------+-------+\n",
              " | user_id | cutoff |     precision      |        recall        | count |\n",
              " +---------+--------+--------------------+----------------------+-------+\n",
              " |    61   |   1    |        1.0         | 0.022222222222222223 |   45  |\n",
              " |    61   |   2    |        1.0         | 0.044444444444444446 |   45  |\n",
              " |    61   |   3    |        1.0         | 0.06666666666666667  |   45  |\n",
              " |    61   |   4    |        0.75        | 0.06666666666666667  |   45  |\n",
              " |    61   |   5    |        0.6         | 0.06666666666666667  |   45  |\n",
              " |    61   |   6    | 0.6666666666666666 | 0.08888888888888889  |   45  |\n",
              " |    61   |   7    | 0.5714285714285714 | 0.08888888888888889  |   45  |\n",
              " |    61   |   8    |       0.625        |  0.1111111111111111  |   45  |\n",
              " |    61   |   9    | 0.5555555555555556 |  0.1111111111111111  |   45  |\n",
              " |    61   |   10   |        0.6         | 0.13333333333333333  |   45  |\n",
              " +---------+--------+--------------------+----------------------+-------+\n",
              " [18000 rows x 5 columns]\n",
              " Note: Only the head of the SFrame is printed.\n",
              " You can use print_rows(num_rows=m, num_columns=n) to print more rows and columns.,\n",
              " 'precision_recall_overall': Columns:\n",
              " \tcutoff\tint\n",
              " \tprecision\tfloat\n",
              " \trecall\tfloat\n",
              " \n",
              " Rows: 18\n",
              " \n",
              " Data:\n",
              " +--------+---------------------+----------------------+\n",
              " | cutoff |      precision      |        recall        |\n",
              " +--------+---------------------+----------------------+\n",
              " |   1    |        0.513        | 0.016576138439357735 |\n",
              " |   2    |  0.4970000000000002 | 0.031800938558649544 |\n",
              " |   3    |  0.4693333333333331 | 0.044549700932059726 |\n",
              " |   4    |       0.44675       | 0.05611583857622838  |\n",
              " |   5    |  0.4285999999999999 | 0.06693753260915428  |\n",
              " |   6    |  0.4158333333333331 | 0.07745808071135249  |\n",
              " |   7    | 0.40199999999999997 | 0.08727532744485923  |\n",
              " |   8    |       0.38825       | 0.09628049972567382  |\n",
              " |   9    | 0.37888888888888894 | 0.10538092330522318  |\n",
              " |   10   | 0.36679999999999985 | 0.11285791392007859  |\n",
              " +--------+---------------------+----------------------+\n",
              " [18 rows x 3 columns]\n",
              " Note: Only the head of the SFrame is printed.\n",
              " You can use print_rows(num_rows=m, num_columns=n) to print more rows and columns.,\n",
              " 'rmse_by_user': Columns:\n",
              " \tuser_id\tint\n",
              " \trmse\tfloat\n",
              " \tcount\tint\n",
              " \n",
              " Rows: 1000\n",
              " \n",
              " Data:\n",
              " +---------+--------------------+-------+\n",
              " | user_id |        rmse        | count |\n",
              " +---------+--------------------+-------+\n",
              " |  50340  | 4.1672283969489765 |   46  |\n",
              " |  42857  | 3.760890348051412  |   23  |\n",
              " |   713   | 3.797346770191881  |   22  |\n",
              " |  50569  | 3.732017954731496  |   32  |\n",
              " |  44411  | 3.5501084448030493 |   41  |\n",
              " |  17663  | 4.252768199425685  |   65  |\n",
              " |  49497  | 4.887437489879953  |   42  |\n",
              " |   9715  |  3.5999125753487   |   44  |\n",
              " |  20780  | 3.9196377687652277 |   43  |\n",
              " |  16669  | 3.8725105459430877 |   14  |\n",
              " +---------+--------------------+-------+\n",
              " [1000 rows x 3 columns]\n",
              " Note: Only the head of the SFrame is printed.\n",
              " You can use print_rows(num_rows=m, num_columns=n) to print more rows and columns.,\n",
              " 'rmse_by_item': Columns:\n",
              " \tbook_id\tint\n",
              " \trmse\tfloat\n",
              " \tcount\tint\n",
              " \n",
              " Rows: 7549\n",
              " \n",
              " Data:\n",
              " +---------+--------------------+-------+\n",
              " | book_id |        rmse        | count |\n",
              " +---------+--------------------+-------+\n",
              " |   4441  |        3.0         |   1   |\n",
              " |   7899  | 4.494702634387441  |   2   |\n",
              " |   5288  | 4.501118495070579  |   2   |\n",
              " |   3143  | 4.565908557950966  |   5   |\n",
              " |   2035  | 3.196203230248358  |   4   |\n",
              " |   4631  | 2.966663268652368  |   1   |\n",
              " |   7148  | 3.449984729076836  |   3   |\n",
              " |   6769  |        4.0         |   1   |\n",
              " |   1611  | 4.773643990535594  |   2   |\n",
              " |   5261  | 3.8039646111127836 |   2   |\n",
              " +---------+--------------------+-------+\n",
              " [7549 rows x 3 columns]\n",
              " Note: Only the head of the SFrame is printed.\n",
              " You can use print_rows(num_rows=m, num_columns=n) to print more rows and columns.,\n",
              " 'rmse_overall': 3.9034793500600307}"
            ]
          },
          "metadata": {},
          "execution_count": 41
        }
      ],
      "source": [
        "model.evaluate(validation_data)\n",
        "#Item based Collaborative filtering Overall RMSE (Cosine Similarity): 3.9038129692577996"
      ]
    },
    {
      "cell_type": "code",
      "source": [
        "# Item-item collaborative filtering - correlation\n",
        "model = tc.recommender.item_similarity_recommender.create(training_data,\n",
        "user_id='user_id', item_id='book_id',target='rating', similarity_type = 'pearson') "
      ],
      "metadata": {
        "colab": {
          "base_uri": "https://localhost:8080/",
          "height": 572
        },
        "id": "wHXMZDmhzZzb",
        "outputId": "41480233-d4a1-45bf-b19f-32c729a82210"
      },
      "execution_count": null,
      "outputs": [
        {
          "output_type": "display_data",
          "data": {
            "text/plain": [
              "Preparing data set."
            ],
            "text/html": [
              "<pre>Preparing data set.</pre>"
            ]
          },
          "metadata": {}
        },
        {
          "output_type": "display_data",
          "data": {
            "text/plain": [
              "    Data has 5942664 observations with 53425 users and 10000 items."
            ],
            "text/html": [
              "<pre>    Data has 5942664 observations with 53425 users and 10000 items.</pre>"
            ]
          },
          "metadata": {}
        },
        {
          "output_type": "display_data",
          "data": {
            "text/plain": [
              "    Data prepared in: 8.11225s"
            ],
            "text/html": [
              "<pre>    Data prepared in: 8.11225s</pre>"
            ]
          },
          "metadata": {}
        },
        {
          "output_type": "display_data",
          "data": {
            "text/plain": [
              "Training model from provided data."
            ],
            "text/html": [
              "<pre>Training model from provided data.</pre>"
            ]
          },
          "metadata": {}
        },
        {
          "output_type": "display_data",
          "data": {
            "text/plain": [
              "Gathering per-item and per-user statistics."
            ],
            "text/html": [
              "<pre>Gathering per-item and per-user statistics.</pre>"
            ]
          },
          "metadata": {}
        },
        {
          "output_type": "display_data",
          "data": {
            "text/plain": [
              "+--------------------------------+------------+"
            ],
            "text/html": [
              "<pre>+--------------------------------+------------+</pre>"
            ]
          },
          "metadata": {}
        },
        {
          "output_type": "display_data",
          "data": {
            "text/plain": [
              "| Elapsed Time (Item Statistics) | % Complete |"
            ],
            "text/html": [
              "<pre>| Elapsed Time (Item Statistics) | % Complete |</pre>"
            ]
          },
          "metadata": {}
        },
        {
          "output_type": "display_data",
          "data": {
            "text/plain": [
              "+--------------------------------+------------+"
            ],
            "text/html": [
              "<pre>+--------------------------------+------------+</pre>"
            ]
          },
          "metadata": {}
        },
        {
          "output_type": "display_data",
          "data": {
            "text/plain": [
              "| 18.794ms                       | 1.75       |"
            ],
            "text/html": [
              "<pre>| 18.794ms                       | 1.75       |</pre>"
            ]
          },
          "metadata": {}
        },
        {
          "output_type": "display_data",
          "data": {
            "text/plain": [
              "| 417.344ms                      | 100        |"
            ],
            "text/html": [
              "<pre>| 417.344ms                      | 100        |</pre>"
            ]
          },
          "metadata": {}
        },
        {
          "output_type": "display_data",
          "data": {
            "text/plain": [
              "+--------------------------------+------------+"
            ],
            "text/html": [
              "<pre>+--------------------------------+------------+</pre>"
            ]
          },
          "metadata": {}
        },
        {
          "output_type": "display_data",
          "data": {
            "text/plain": [
              "Setting up lookup tables."
            ],
            "text/html": [
              "<pre>Setting up lookup tables.</pre>"
            ]
          },
          "metadata": {}
        },
        {
          "output_type": "display_data",
          "data": {
            "text/plain": [
              "Processing data in one pass using dense lookup tables."
            ],
            "text/html": [
              "<pre>Processing data in one pass using dense lookup tables.</pre>"
            ]
          },
          "metadata": {}
        },
        {
          "output_type": "display_data",
          "data": {
            "text/plain": [
              "+-------------------------------------+------------------+-----------------+"
            ],
            "text/html": [
              "<pre>+-------------------------------------+------------------+-----------------+</pre>"
            ]
          },
          "metadata": {}
        },
        {
          "output_type": "display_data",
          "data": {
            "text/plain": [
              "| Elapsed Time (Constructing Lookups) | Total % Complete | Items Processed |"
            ],
            "text/html": [
              "<pre>| Elapsed Time (Constructing Lookups) | Total % Complete | Items Processed |</pre>"
            ]
          },
          "metadata": {}
        },
        {
          "output_type": "display_data",
          "data": {
            "text/plain": [
              "+-------------------------------------+------------------+-----------------+"
            ],
            "text/html": [
              "<pre>+-------------------------------------+------------------+-----------------+</pre>"
            ]
          },
          "metadata": {}
        },
        {
          "output_type": "display_data",
          "data": {
            "text/plain": [
              "| 632.48ms                            | 0                | 0               |"
            ],
            "text/html": [
              "<pre>| 632.48ms                            | 0                | 0               |</pre>"
            ]
          },
          "metadata": {}
        },
        {
          "output_type": "display_data",
          "data": {
            "text/plain": [
              "| 3.63s                               | 10               | 1008            |"
            ],
            "text/html": [
              "<pre>| 3.63s                               | 10               | 1008            |</pre>"
            ]
          },
          "metadata": {}
        },
        {
          "output_type": "display_data",
          "data": {
            "text/plain": [
              "| 6.63s                               | 20.5             | 2059            |"
            ],
            "text/html": [
              "<pre>| 6.63s                               | 20.5             | 2059            |</pre>"
            ]
          },
          "metadata": {}
        },
        {
          "output_type": "display_data",
          "data": {
            "text/plain": [
              "| 9.63s                               | 31.25            | 3134            |"
            ],
            "text/html": [
              "<pre>| 9.63s                               | 31.25            | 3134            |</pre>"
            ]
          },
          "metadata": {}
        },
        {
          "output_type": "display_data",
          "data": {
            "text/plain": [
              "| 12.63s                              | 42.5             | 4272            |"
            ],
            "text/html": [
              "<pre>| 12.63s                              | 42.5             | 4272            |</pre>"
            ]
          },
          "metadata": {}
        },
        {
          "output_type": "display_data",
          "data": {
            "text/plain": [
              "| 15.63s                              | 54               | 5418            |"
            ],
            "text/html": [
              "<pre>| 15.63s                              | 54               | 5418            |</pre>"
            ]
          },
          "metadata": {}
        },
        {
          "output_type": "display_data",
          "data": {
            "text/plain": [
              "| 18.63s                              | 65               | 6513            |"
            ],
            "text/html": [
              "<pre>| 18.63s                              | 65               | 6513            |</pre>"
            ]
          },
          "metadata": {}
        },
        {
          "output_type": "display_data",
          "data": {
            "text/plain": [
              "| 21.63s                              | 69.75            | 6977            |"
            ],
            "text/html": [
              "<pre>| 21.63s                              | 69.75            | 6977            |</pre>"
            ]
          },
          "metadata": {}
        },
        {
          "output_type": "display_data",
          "data": {
            "text/plain": [
              "| 24.63s                              | 72.75            | 7281            |"
            ],
            "text/html": [
              "<pre>| 24.63s                              | 72.75            | 7281            |</pre>"
            ]
          },
          "metadata": {}
        },
        {
          "output_type": "display_data",
          "data": {
            "text/plain": [
              "| 27.63s                              | 82.5             | 8260            |"
            ],
            "text/html": [
              "<pre>| 27.63s                              | 82.5             | 8260            |</pre>"
            ]
          },
          "metadata": {}
        },
        {
          "output_type": "display_data",
          "data": {
            "text/plain": [
              "| 30.63s                              | 93.25            | 9348            |"
            ],
            "text/html": [
              "<pre>| 30.63s                              | 93.25            | 9348            |</pre>"
            ]
          },
          "metadata": {}
        },
        {
          "output_type": "display_data",
          "data": {
            "text/plain": [
              "| 34.11s                              | 100              | 10000           |"
            ],
            "text/html": [
              "<pre>| 34.11s                              | 100              | 10000           |</pre>"
            ]
          },
          "metadata": {}
        },
        {
          "output_type": "display_data",
          "data": {
            "text/plain": [
              "+-------------------------------------+------------------+-----------------+"
            ],
            "text/html": [
              "<pre>+-------------------------------------+------------------+-----------------+</pre>"
            ]
          },
          "metadata": {}
        },
        {
          "output_type": "display_data",
          "data": {
            "text/plain": [
              "Finalizing lookup tables."
            ],
            "text/html": [
              "<pre>Finalizing lookup tables.</pre>"
            ]
          },
          "metadata": {}
        },
        {
          "output_type": "display_data",
          "data": {
            "text/plain": [
              "Generating candidate set for working with new users."
            ],
            "text/html": [
              "<pre>Generating candidate set for working with new users.</pre>"
            ]
          },
          "metadata": {}
        },
        {
          "output_type": "display_data",
          "data": {
            "text/plain": [
              "Finished training in 34.5542s"
            ],
            "text/html": [
              "<pre>Finished training in 34.5542s</pre>"
            ]
          },
          "metadata": {}
        }
      ]
    },
    {
      "cell_type": "code",
      "source": [
        "results = model.recommend(users = [53425], k=3, verbose = False)\n",
        "# books_info.loc[results['book_id'][-3:], 'title']\n",
        "books_info.loc[results['book_id'], 'title']"
      ],
      "metadata": {
        "id": "D0-b0KNhz6wP",
        "colab": {
          "base_uri": "https://localhost:8080/"
        },
        "outputId": "59b19155-8691-4dad-f05c-68c54a0f49ce"
      },
      "execution_count": null,
      "outputs": [
        {
          "output_type": "execute_result",
          "data": {
            "text/plain": [
              "book_id\n",
              "3628                       The Complete Calvin and Hobbes\n",
              "7947                                      ESV Study Bible\n",
              "9566    Attack of the Deranged Mutant Killer Monster S...\n",
              "Name: title, dtype: object"
            ]
          },
          "metadata": {},
          "execution_count": 46
        }
      ]
    },
    {
      "cell_type": "code",
      "source": [
        "model.evaluate(validation_data)\n",
        "#Item based Collaborative filtering Overall RMSE (Correlation): 0.9485244028004367"
      ],
      "metadata": {
        "colab": {
          "base_uri": "https://localhost:8080/",
          "height": 1000
        },
        "id": "6iB_E4Ky0c-M",
        "outputId": "8af880f9-9d98-40d6-bd79-2b92d22ed0f1"
      },
      "execution_count": null,
      "outputs": [
        {
          "output_type": "display_data",
          "data": {
            "text/plain": [
              "recommendations finished on 1000/1000 queries. users per second: 1743.37"
            ],
            "text/html": [
              "<pre>recommendations finished on 1000/1000 queries. users per second: 1743.37</pre>"
            ]
          },
          "metadata": {}
        },
        {
          "output_type": "stream",
          "name": "stdout",
          "text": [
            "\n",
            "Precision and recall summary statistics by cutoff\n",
            "+--------+-----------------------+------------------------+\n",
            "| cutoff |     mean_precision    |      mean_recall       |\n",
            "+--------+-----------------------+------------------------+\n",
            "|   1    | 0.0010000000000000002 | 2.1739130434782607e-05 |\n",
            "|   2    | 0.0005000000000000001 | 2.1739130434782607e-05 |\n",
            "|   3    | 0.0006666666666666666 | 5.204216073781291e-05  |\n",
            "|   4    | 0.0007500000000000002 | 8.234519104084322e-05  |\n",
            "|   5    | 0.0009999999999999994 | 0.0001412196499153021  |\n",
            "|   6    | 0.0009999999999999996 | 0.0001745529832486354  |\n",
            "|   7    | 0.0011428571428571427 | 0.0002334274421230942  |\n",
            "|   8    | 0.0015000000000000005 |  0.000340540518748366  |\n",
            "|   9    | 0.0016666666666666663 | 0.0004377683754082714  |\n",
            "|   10   | 0.0017000000000000003 | 0.0004944166838268392  |\n",
            "+--------+-----------------------+------------------------+\n",
            "[10 rows x 3 columns]\n",
            "\n",
            "\n",
            "Overall RMSE: 0.9507324696758243\n",
            "\n",
            "Per User RMSE (best)\n",
            "+---------+--------------------+-------+\n",
            "| user_id |        rmse        | count |\n",
            "+---------+--------------------+-------+\n",
            "|  53072  | 0.2322422820099404 |   34  |\n",
            "+---------+--------------------+-------+\n",
            "[1 rows x 3 columns]\n",
            "\n",
            "\n",
            "Per User RMSE (worst)\n",
            "+---------+--------------------+-------+\n",
            "| user_id |        rmse        | count |\n",
            "+---------+--------------------+-------+\n",
            "|  31427  | 2.2930755002761174 |   15  |\n",
            "+---------+--------------------+-------+\n",
            "[1 rows x 3 columns]\n",
            "\n",
            "\n",
            "Per Item RMSE (best)\n",
            "+---------+-----------------------+-------+\n",
            "| book_id |          rmse         | count |\n",
            "+---------+-----------------------+-------+\n",
            "|   7615  | 4.440892098500626e-16 |   1   |\n",
            "+---------+-----------------------+-------+\n",
            "[1 rows x 3 columns]\n",
            "\n",
            "\n",
            "Per Item RMSE (worst)\n",
            "+---------+-------------------+-------+\n",
            "| book_id |        rmse       | count |\n",
            "+---------+-------------------+-------+\n",
            "|   5028  | 3.341823103663688 |   1   |\n",
            "+---------+-------------------+-------+\n",
            "[1 rows x 3 columns]\n",
            "\n"
          ]
        },
        {
          "output_type": "execute_result",
          "data": {
            "text/plain": [
              "{'precision_recall_by_user': Columns:\n",
              " \tuser_id\tint\n",
              " \tcutoff\tint\n",
              " \tprecision\tfloat\n",
              " \trecall\tfloat\n",
              " \tcount\tint\n",
              " \n",
              " Rows: 18000\n",
              " \n",
              " Data:\n",
              " +---------+--------+-----------+--------+-------+\n",
              " | user_id | cutoff | precision | recall | count |\n",
              " +---------+--------+-----------+--------+-------+\n",
              " |    61   |   1    |    0.0    |  0.0   |   45  |\n",
              " |    61   |   2    |    0.0    |  0.0   |   45  |\n",
              " |    61   |   3    |    0.0    |  0.0   |   45  |\n",
              " |    61   |   4    |    0.0    |  0.0   |   45  |\n",
              " |    61   |   5    |    0.0    |  0.0   |   45  |\n",
              " |    61   |   6    |    0.0    |  0.0   |   45  |\n",
              " |    61   |   7    |    0.0    |  0.0   |   45  |\n",
              " |    61   |   8    |    0.0    |  0.0   |   45  |\n",
              " |    61   |   9    |    0.0    |  0.0   |   45  |\n",
              " |    61   |   10   |    0.0    |  0.0   |   45  |\n",
              " +---------+--------+-----------+--------+-------+\n",
              " [18000 rows x 5 columns]\n",
              " Note: Only the head of the SFrame is printed.\n",
              " You can use print_rows(num_rows=m, num_columns=n) to print more rows and columns.,\n",
              " 'precision_recall_overall': Columns:\n",
              " \tcutoff\tint\n",
              " \tprecision\tfloat\n",
              " \trecall\tfloat\n",
              " \n",
              " Rows: 18\n",
              " \n",
              " Data:\n",
              " +--------+-----------------------+------------------------+\n",
              " | cutoff |       precision       |         recall         |\n",
              " +--------+-----------------------+------------------------+\n",
              " |   1    | 0.0010000000000000002 | 2.1739130434782603e-05 |\n",
              " |   2    | 0.0005000000000000001 | 2.1739130434782607e-05 |\n",
              " |   3    | 0.0006666666666666666 | 5.204216073781291e-05  |\n",
              " |   4    | 0.0007500000000000002 | 8.234519104084322e-05  |\n",
              " |   5    | 0.0009999999999999996 | 0.0001412196499153021  |\n",
              " |   6    | 0.0009999999999999996 | 0.0001745529832486354  |\n",
              " |   7    | 0.0011428571428571427 | 0.00023342744212309443 |\n",
              " |   8    | 0.0015000000000000005 |  0.000340540518748366  |\n",
              " |   9    | 0.0016666666666666666 | 0.0004377683754082713  |\n",
              " |   10   | 0.0017000000000000001 | 0.0004944166838268394  |\n",
              " +--------+-----------------------+------------------------+\n",
              " [18 rows x 3 columns]\n",
              " Note: Only the head of the SFrame is printed.\n",
              " You can use print_rows(num_rows=m, num_columns=n) to print more rows and columns.,\n",
              " 'rmse_by_user': Columns:\n",
              " \tuser_id\tint\n",
              " \trmse\tfloat\n",
              " \tcount\tint\n",
              " \n",
              " Rows: 1000\n",
              " \n",
              " Data:\n",
              " +---------+--------------------+-------+\n",
              " | user_id |        rmse        | count |\n",
              " +---------+--------------------+-------+\n",
              " |  50340  | 0.7817451190119686 |   46  |\n",
              " |  42857  | 0.9159512730155116 |   23  |\n",
              " |   713   | 0.7826263525011119 |   22  |\n",
              " |  50569  |  0.79075594379009  |   32  |\n",
              " |  44411  | 1.2891740880850402 |   41  |\n",
              " |  17663  | 0.7741192913386682 |   65  |\n",
              " |  49497  | 1.0532187685702472 |   42  |\n",
              " |   9715  | 0.7993971164066654 |   44  |\n",
              " |  20780  | 0.9004881513533686 |   43  |\n",
              " |  16669  | 0.818880646495987  |   14  |\n",
              " +---------+--------------------+-------+\n",
              " [1000 rows x 3 columns]\n",
              " Note: Only the head of the SFrame is printed.\n",
              " You can use print_rows(num_rows=m, num_columns=n) to print more rows and columns.,\n",
              " 'rmse_by_item': Columns:\n",
              " \tbook_id\tint\n",
              " \trmse\tfloat\n",
              " \tcount\tint\n",
              " \n",
              " Rows: 7549\n",
              " \n",
              " Data:\n",
              " +---------+---------------------+-------+\n",
              " | book_id |         rmse        | count |\n",
              " +---------+---------------------+-------+\n",
              " |   4441  |  1.3872471179841437 |   1   |\n",
              " |   7899  |  0.5331411261788452 |   2   |\n",
              " |   5288  |  0.873525679064904  |   2   |\n",
              " |   3143  |   0.69018867095861  |   5   |\n",
              " |   2035  |  1.2845888407858688 |   4   |\n",
              " |   4631  |  0.6117789136023899 |   1   |\n",
              " |   7148  |  1.0338985697747092 |   3   |\n",
              " |   6769  | 0.21472392638036775 |   1   |\n",
              " |   1611  |  0.8823207548160649 |   2   |\n",
              " |   5261  |  1.5308572191386978 |   2   |\n",
              " +---------+---------------------+-------+\n",
              " [7549 rows x 3 columns]\n",
              " Note: Only the head of the SFrame is printed.\n",
              " You can use print_rows(num_rows=m, num_columns=n) to print more rows and columns.,\n",
              " 'rmse_overall': 0.9507324696758243}"
            ]
          },
          "metadata": {},
          "execution_count": 47
        }
      ]
    },
    {
      "cell_type": "code",
      "execution_count": null,
      "metadata": {
        "colab": {
          "base_uri": "https://localhost:8080/",
          "height": 1000
        },
        "id": "MnvLRw9BYzHL",
        "outputId": "154587c1-b4b8-49df-8efc-dbb9f5e30641"
      },
      "outputs": [
        {
          "output_type": "display_data",
          "data": {
            "text/plain": [
              "Preparing data set."
            ],
            "text/html": [
              "<pre>Preparing data set.</pre>"
            ]
          },
          "metadata": {}
        },
        {
          "output_type": "display_data",
          "data": {
            "text/plain": [
              "    Data has 5942664 observations with 53425 users and 10000 items."
            ],
            "text/html": [
              "<pre>    Data has 5942664 observations with 53425 users and 10000 items.</pre>"
            ]
          },
          "metadata": {}
        },
        {
          "output_type": "display_data",
          "data": {
            "text/plain": [
              "    Data prepared in: 7.61085s"
            ],
            "text/html": [
              "<pre>    Data prepared in: 7.61085s</pre>"
            ]
          },
          "metadata": {}
        },
        {
          "output_type": "display_data",
          "data": {
            "text/plain": [
              "Training ranking_factorization_recommender for recommendations."
            ],
            "text/html": [
              "<pre>Training ranking_factorization_recommender for recommendations.</pre>"
            ]
          },
          "metadata": {}
        },
        {
          "output_type": "display_data",
          "data": {
            "text/plain": [
              "+--------------------------------+--------------------------------------------------+----------+"
            ],
            "text/html": [
              "<pre>+--------------------------------+--------------------------------------------------+----------+</pre>"
            ]
          },
          "metadata": {}
        },
        {
          "output_type": "display_data",
          "data": {
            "text/plain": [
              "| Parameter                      | Description                                      | Value    |"
            ],
            "text/html": [
              "<pre>| Parameter                      | Description                                      | Value    |</pre>"
            ]
          },
          "metadata": {}
        },
        {
          "output_type": "display_data",
          "data": {
            "text/plain": [
              "+--------------------------------+--------------------------------------------------+----------+"
            ],
            "text/html": [
              "<pre>+--------------------------------+--------------------------------------------------+----------+</pre>"
            ]
          },
          "metadata": {}
        },
        {
          "output_type": "display_data",
          "data": {
            "text/plain": [
              "| num_factors                    | Factor Dimension                                 | 32       |"
            ],
            "text/html": [
              "<pre>| num_factors                    | Factor Dimension                                 | 32       |</pre>"
            ]
          },
          "metadata": {}
        },
        {
          "output_type": "display_data",
          "data": {
            "text/plain": [
              "| regularization                 | L2 Regularization on Factors                     | 1e-09    |"
            ],
            "text/html": [
              "<pre>| regularization                 | L2 Regularization on Factors                     | 1e-09    |</pre>"
            ]
          },
          "metadata": {}
        },
        {
          "output_type": "display_data",
          "data": {
            "text/plain": [
              "| solver                         | Solver used for training                         | sgd      |"
            ],
            "text/html": [
              "<pre>| solver                         | Solver used for training                         | sgd      |</pre>"
            ]
          },
          "metadata": {}
        },
        {
          "output_type": "display_data",
          "data": {
            "text/plain": [
              "| linear_regularization          | L2 Regularization on Linear Coefficients         | 1e-09    |"
            ],
            "text/html": [
              "<pre>| linear_regularization          | L2 Regularization on Linear Coefficients         | 1e-09    |</pre>"
            ]
          },
          "metadata": {}
        },
        {
          "output_type": "display_data",
          "data": {
            "text/plain": [
              "| ranking_regularization         | Rank-based Regularization Weight                 | 0.25     |"
            ],
            "text/html": [
              "<pre>| ranking_regularization         | Rank-based Regularization Weight                 | 0.25     |</pre>"
            ]
          },
          "metadata": {}
        },
        {
          "output_type": "display_data",
          "data": {
            "text/plain": [
              "| max_iterations                 | Maximum Number of Iterations                     | 25       |"
            ],
            "text/html": [
              "<pre>| max_iterations                 | Maximum Number of Iterations                     | 25       |</pre>"
            ]
          },
          "metadata": {}
        },
        {
          "output_type": "display_data",
          "data": {
            "text/plain": [
              "+--------------------------------+--------------------------------------------------+----------+"
            ],
            "text/html": [
              "<pre>+--------------------------------+--------------------------------------------------+----------+</pre>"
            ]
          },
          "metadata": {}
        },
        {
          "output_type": "display_data",
          "data": {
            "text/plain": [
              "  Optimizing model using SGD; tuning step size."
            ],
            "text/html": [
              "<pre>  Optimizing model using SGD; tuning step size.</pre>"
            ]
          },
          "metadata": {}
        },
        {
          "output_type": "display_data",
          "data": {
            "text/plain": [
              "  Using 742833 / 5942664 points for tuning the step size."
            ],
            "text/html": [
              "<pre>  Using 742833 / 5942664 points for tuning the step size.</pre>"
            ]
          },
          "metadata": {}
        },
        {
          "output_type": "display_data",
          "data": {
            "text/plain": [
              "+---------+-------------------+------------------------------------------+"
            ],
            "text/html": [
              "<pre>+---------+-------------------+------------------------------------------+</pre>"
            ]
          },
          "metadata": {}
        },
        {
          "output_type": "display_data",
          "data": {
            "text/plain": [
              "| Attempt | Initial Step Size | Estimated Objective Value                |"
            ],
            "text/html": [
              "<pre>| Attempt | Initial Step Size | Estimated Objective Value                |</pre>"
            ]
          },
          "metadata": {}
        },
        {
          "output_type": "display_data",
          "data": {
            "text/plain": [
              "+---------+-------------------+------------------------------------------+"
            ],
            "text/html": [
              "<pre>+---------+-------------------+------------------------------------------+</pre>"
            ]
          },
          "metadata": {}
        },
        {
          "output_type": "display_data",
          "data": {
            "text/plain": [
              "| 0       | 25                | Not Viable                               |"
            ],
            "text/html": [
              "<pre>| 0       | 25                | Not Viable                               |</pre>"
            ]
          },
          "metadata": {}
        },
        {
          "output_type": "display_data",
          "data": {
            "text/plain": [
              "| 1       | 6.25              | Not Viable                               |"
            ],
            "text/html": [
              "<pre>| 1       | 6.25              | Not Viable                               |</pre>"
            ]
          },
          "metadata": {}
        },
        {
          "output_type": "display_data",
          "data": {
            "text/plain": [
              "| 2       | 1.5625            | Not Viable                               |"
            ],
            "text/html": [
              "<pre>| 2       | 1.5625            | Not Viable                               |</pre>"
            ]
          },
          "metadata": {}
        },
        {
          "output_type": "display_data",
          "data": {
            "text/plain": [
              "| 3       | 0.390625          | Not Viable                               |"
            ],
            "text/html": [
              "<pre>| 3       | 0.390625          | Not Viable                               |</pre>"
            ]
          },
          "metadata": {}
        },
        {
          "output_type": "display_data",
          "data": {
            "text/plain": [
              "| 4       | 0.0976562         | 1.27923                                  |"
            ],
            "text/html": [
              "<pre>| 4       | 0.0976562         | 1.27923                                  |</pre>"
            ]
          },
          "metadata": {}
        },
        {
          "output_type": "display_data",
          "data": {
            "text/plain": [
              "| 5       | 0.0488281         | 1.48586                                  |"
            ],
            "text/html": [
              "<pre>| 5       | 0.0488281         | 1.48586                                  |</pre>"
            ]
          },
          "metadata": {}
        },
        {
          "output_type": "display_data",
          "data": {
            "text/plain": [
              "| 6       | 0.0244141         | 1.47859                                  |"
            ],
            "text/html": [
              "<pre>| 6       | 0.0244141         | 1.47859                                  |</pre>"
            ]
          },
          "metadata": {}
        },
        {
          "output_type": "display_data",
          "data": {
            "text/plain": [
              "| 7       | 0.012207          | 1.49153                                  |"
            ],
            "text/html": [
              "<pre>| 7       | 0.012207          | 1.49153                                  |</pre>"
            ]
          },
          "metadata": {}
        },
        {
          "output_type": "display_data",
          "data": {
            "text/plain": [
              "+---------+-------------------+------------------------------------------+"
            ],
            "text/html": [
              "<pre>+---------+-------------------+------------------------------------------+</pre>"
            ]
          },
          "metadata": {}
        },
        {
          "output_type": "display_data",
          "data": {
            "text/plain": [
              "| Final   | 0.0976562         | 1.27923                                  |"
            ],
            "text/html": [
              "<pre>| Final   | 0.0976562         | 1.27923                                  |</pre>"
            ]
          },
          "metadata": {}
        },
        {
          "output_type": "display_data",
          "data": {
            "text/plain": [
              "+---------+-------------------+------------------------------------------+"
            ],
            "text/html": [
              "<pre>+---------+-------------------+------------------------------------------+</pre>"
            ]
          },
          "metadata": {}
        },
        {
          "output_type": "display_data",
          "data": {
            "text/plain": [
              "Starting Optimization."
            ],
            "text/html": [
              "<pre>Starting Optimization.</pre>"
            ]
          },
          "metadata": {}
        },
        {
          "output_type": "display_data",
          "data": {
            "text/plain": [
              "+---------+--------------+-------------------+-----------------------+-------------+"
            ],
            "text/html": [
              "<pre>+---------+--------------+-------------------+-----------------------+-------------+</pre>"
            ]
          },
          "metadata": {}
        },
        {
          "output_type": "display_data",
          "data": {
            "text/plain": [
              "| Iter.   | Elapsed Time | Approx. Objective | Approx. Training RMSE | Step Size   |"
            ],
            "text/html": [
              "<pre>| Iter.   | Elapsed Time | Approx. Objective | Approx. Training RMSE | Step Size   |</pre>"
            ]
          },
          "metadata": {}
        },
        {
          "output_type": "display_data",
          "data": {
            "text/plain": [
              "+---------+--------------+-------------------+-----------------------+-------------+"
            ],
            "text/html": [
              "<pre>+---------+--------------+-------------------+-----------------------+-------------+</pre>"
            ]
          },
          "metadata": {}
        },
        {
          "output_type": "display_data",
          "data": {
            "text/plain": [
              "| Initial | 146us        | 1.92589           | 0.991083              |             |"
            ],
            "text/html": [
              "<pre>| Initial | 146us        | 1.92589           | 0.991083              |             |</pre>"
            ]
          },
          "metadata": {}
        },
        {
          "output_type": "display_data",
          "data": {
            "text/plain": [
              "+---------+--------------+-------------------+-----------------------+-------------+"
            ],
            "text/html": [
              "<pre>+---------+--------------+-------------------+-----------------------+-------------+</pre>"
            ]
          },
          "metadata": {}
        },
        {
          "output_type": "display_data",
          "data": {
            "text/plain": [
              "| 1       | 10.01s       | DIVERGED          | DIVERGED              | 0.0976562   |"
            ],
            "text/html": [
              "<pre>| 1       | 10.01s       | DIVERGED          | DIVERGED              | 0.0976562   |</pre>"
            ]
          },
          "metadata": {}
        },
        {
          "output_type": "display_data",
          "data": {
            "text/plain": [
              "| RESET   | 13.12s       | 1.92589           | 0.991085              |             |"
            ],
            "text/html": [
              "<pre>| RESET   | 13.12s       | 1.92589           | 0.991085              |             |</pre>"
            ]
          },
          "metadata": {}
        },
        {
          "output_type": "display_data",
          "data": {
            "text/plain": [
              "| 1       | 20.67s       | 1.39132           | 0.971023              | 0.0488281   |"
            ],
            "text/html": [
              "<pre>| 1       | 20.67s       | 1.39132           | 0.971023              | 0.0488281   |</pre>"
            ]
          },
          "metadata": {}
        },
        {
          "output_type": "display_data",
          "data": {
            "text/plain": [
              "| 2       | 28.17s       | 1.23988           | 0.91503               | 0.0290334   |"
            ],
            "text/html": [
              "<pre>| 2       | 28.17s       | 1.23988           | 0.91503               | 0.0290334   |</pre>"
            ]
          },
          "metadata": {}
        },
        {
          "output_type": "display_data",
          "data": {
            "text/plain": [
              "| 3       | 35.85s       | 1.09988           | 0.853357              | 0.0214205   |"
            ],
            "text/html": [
              "<pre>| 3       | 35.85s       | 1.09988           | 0.853357              | 0.0214205   |</pre>"
            ]
          },
          "metadata": {}
        },
        {
          "output_type": "display_data",
          "data": {
            "text/plain": [
              "| 4       | 43.15s       | 1.02184           | 0.824342              | 0.0172633   |"
            ],
            "text/html": [
              "<pre>| 4       | 43.15s       | 1.02184           | 0.824342              | 0.0172633   |</pre>"
            ]
          },
          "metadata": {}
        },
        {
          "output_type": "display_data",
          "data": {
            "text/plain": [
              "| 5       | 53.69s       | 0.974366          | 0.80335               | 0.014603    |"
            ],
            "text/html": [
              "<pre>| 5       | 53.69s       | 0.974366          | 0.80335               | 0.014603    |</pre>"
            ]
          },
          "metadata": {}
        },
        {
          "output_type": "display_data",
          "data": {
            "text/plain": [
              "| 7       | 1m 10s       | 0.919451          | 0.778897              | 0.0113461   |"
            ],
            "text/html": [
              "<pre>| 7       | 1m 10s       | 0.919451          | 0.778897              | 0.0113461   |</pre>"
            ]
          },
          "metadata": {}
        },
        {
          "output_type": "display_data",
          "data": {
            "text/plain": [
              "| 8       | 1m 18s       | 0.900854          | 0.770086              | 0.0102648   |"
            ],
            "text/html": [
              "<pre>| 8       | 1m 18s       | 0.900854          | 0.770086              | 0.0102648   |</pre>"
            ]
          },
          "metadata": {}
        },
        {
          "output_type": "display_data",
          "data": {
            "text/plain": [
              "| 9       | 1m 25s       | 0.886759          | 0.76335               | 0.00939698  |"
            ],
            "text/html": [
              "<pre>| 9       | 1m 25s       | 0.886759          | 0.76335               | 0.00939698  |</pre>"
            ]
          },
          "metadata": {}
        },
        {
          "output_type": "display_data",
          "data": {
            "text/plain": [
              "| 10      | 1m 32s       | 0.876067          | 0.75821               | 0.008683    |"
            ],
            "text/html": [
              "<pre>| 10      | 1m 32s       | 0.876067          | 0.75821               | 0.008683    |</pre>"
            ]
          },
          "metadata": {}
        },
        {
          "output_type": "display_data",
          "data": {
            "text/plain": [
              "| 11      | 1m 40s       | 0.866345          | 0.753554              | 0.00808399  |"
            ],
            "text/html": [
              "<pre>| 11      | 1m 40s       | 0.866345          | 0.753554              | 0.00808399  |</pre>"
            ]
          },
          "metadata": {}
        },
        {
          "output_type": "display_data",
          "data": {
            "text/plain": [
              "| 12      | 1m 47s       | 0.858626          | 0.749769              | 0.00757328  |"
            ],
            "text/html": [
              "<pre>| 12      | 1m 47s       | 0.858626          | 0.749769              | 0.00757328  |</pre>"
            ]
          },
          "metadata": {}
        },
        {
          "output_type": "display_data",
          "data": {
            "text/plain": [
              "| 13      | 1m 58s       | 0.850971          | 0.745929              | 0.00713202  |"
            ],
            "text/html": [
              "<pre>| 13      | 1m 58s       | 0.850971          | 0.745929              | 0.00713202  |</pre>"
            ]
          },
          "metadata": {}
        },
        {
          "output_type": "display_data",
          "data": {
            "text/plain": [
              "| 14      | 2m 5s        | 0.845341          | 0.743319              | 0.00674643  |"
            ],
            "text/html": [
              "<pre>| 14      | 2m 5s        | 0.845341          | 0.743319              | 0.00674643  |</pre>"
            ]
          },
          "metadata": {}
        },
        {
          "output_type": "display_data",
          "data": {
            "text/plain": [
              "| 15      | 2m 13s       | 0.84007           | 0.740619              | 0.00640622  |"
            ],
            "text/html": [
              "<pre>| 15      | 2m 13s       | 0.84007           | 0.740619              | 0.00640622  |</pre>"
            ]
          },
          "metadata": {}
        },
        {
          "output_type": "display_data",
          "data": {
            "text/plain": [
              "| 16      | 2m 20s       | 0.835508          | 0.738353              | 0.00610352  |"
            ],
            "text/html": [
              "<pre>| 16      | 2m 20s       | 0.835508          | 0.738353              | 0.00610352  |</pre>"
            ]
          },
          "metadata": {}
        },
        {
          "output_type": "display_data",
          "data": {
            "text/plain": [
              "| 17      | 2m 27s       | 0.830677          | 0.73586               | 0.00583221  |"
            ],
            "text/html": [
              "<pre>| 17      | 2m 27s       | 0.830677          | 0.73586               | 0.00583221  |</pre>"
            ]
          },
          "metadata": {}
        },
        {
          "output_type": "display_data",
          "data": {
            "text/plain": [
              "| 18      | 2m 34s       | 0.827237          | 0.734142              | 0.00558748  |"
            ],
            "text/html": [
              "<pre>| 18      | 2m 34s       | 0.827237          | 0.734142              | 0.00558748  |</pre>"
            ]
          },
          "metadata": {}
        },
        {
          "output_type": "display_data",
          "data": {
            "text/plain": [
              "| 19      | 2m 41s       | 0.82335           | 0.732205              | 0.00536543  |"
            ],
            "text/html": [
              "<pre>| 19      | 2m 41s       | 0.82335           | 0.732205              | 0.00536543  |</pre>"
            ]
          },
          "metadata": {}
        },
        {
          "output_type": "display_data",
          "data": {
            "text/plain": [
              "| 20      | 2m 48s       | 0.820354          | 0.730627              | 0.00516295  |"
            ],
            "text/html": [
              "<pre>| 20      | 2m 48s       | 0.820354          | 0.730627              | 0.00516295  |</pre>"
            ]
          },
          "metadata": {}
        },
        {
          "output_type": "display_data",
          "data": {
            "text/plain": [
              "| 21      | 2m 56s       | 0.817057          | 0.7291                | 0.00497743  |"
            ],
            "text/html": [
              "<pre>| 21      | 2m 56s       | 0.817057          | 0.7291                | 0.00497743  |</pre>"
            ]
          },
          "metadata": {}
        },
        {
          "output_type": "display_data",
          "data": {
            "text/plain": [
              "| 22      | 3m 5s        | 0.814489          | 0.727771              | 0.00480677  |"
            ],
            "text/html": [
              "<pre>| 22      | 3m 5s        | 0.814489          | 0.727771              | 0.00480677  |</pre>"
            ]
          },
          "metadata": {}
        },
        {
          "output_type": "display_data",
          "data": {
            "text/plain": [
              "| 23      | 3m 12s       | 0.811559          | 0.726312              | 0.00464916  |"
            ],
            "text/html": [
              "<pre>| 23      | 3m 12s       | 0.811559          | 0.726312              | 0.00464916  |</pre>"
            ]
          },
          "metadata": {}
        },
        {
          "output_type": "display_data",
          "data": {
            "text/plain": [
              "| 24      | 3m 19s       | 0.809764          | 0.725177              | 0.0045031   |"
            ],
            "text/html": [
              "<pre>| 24      | 3m 19s       | 0.809764          | 0.725177              | 0.0045031   |</pre>"
            ]
          },
          "metadata": {}
        },
        {
          "output_type": "display_data",
          "data": {
            "text/plain": [
              "| 25      | 3m 26s       | 0.807031          | 0.723949              | 0.00436732  |"
            ],
            "text/html": [
              "<pre>| 25      | 3m 26s       | 0.807031          | 0.723949              | 0.00436732  |</pre>"
            ]
          },
          "metadata": {}
        },
        {
          "output_type": "display_data",
          "data": {
            "text/plain": [
              "+---------+--------------+-------------------+-----------------------+-------------+"
            ],
            "text/html": [
              "<pre>+---------+--------------+-------------------+-----------------------+-------------+</pre>"
            ]
          },
          "metadata": {}
        },
        {
          "output_type": "display_data",
          "data": {
            "text/plain": [
              "Optimization Complete: Maximum number of passes through the data reached."
            ],
            "text/html": [
              "<pre>Optimization Complete: Maximum number of passes through the data reached.</pre>"
            ]
          },
          "metadata": {}
        },
        {
          "output_type": "display_data",
          "data": {
            "text/plain": [
              "Computing final objective value and training RMSE."
            ],
            "text/html": [
              "<pre>Computing final objective value and training RMSE.</pre>"
            ]
          },
          "metadata": {}
        },
        {
          "output_type": "display_data",
          "data": {
            "text/plain": [
              "       Final objective value: 0.77435"
            ],
            "text/html": [
              "<pre>       Final objective value: 0.77435</pre>"
            ]
          },
          "metadata": {}
        },
        {
          "output_type": "display_data",
          "data": {
            "text/plain": [
              "       Final training RMSE: 0.69848"
            ],
            "text/html": [
              "<pre>       Final training RMSE: 0.69848</pre>"
            ]
          },
          "metadata": {}
        }
      ],
      "source": [
        "# Matrix factorization\n",
        "model = tc.recommender.ranking_factorization_recommender.create(training_data,\n",
        "user_id='user_id', item_id='book_id',target='rating')\n",
        "results = model.recommend(users = [53425], k=3, verbose = False)"
      ]
    },
    {
      "cell_type": "code",
      "source": [
        "# books_info.loc[results['book_id'][-3:], 'title']\n",
        "books_info.loc[results['book_id'], 'title']"
      ],
      "metadata": {
        "colab": {
          "base_uri": "https://localhost:8080/"
        },
        "id": "h5iRkfo5jTb0",
        "outputId": "35567a15-e82c-4f7b-aeba-cbeab535f123"
      },
      "execution_count": null,
      "outputs": [
        {
          "output_type": "execute_result",
          "data": {
            "text/plain": [
              "book_id\n",
              "10      Pride and Prejudice\n",
              "4     To Kill a Mockingbird\n",
              "31                 The Help\n",
              "Name: title, dtype: object"
            ]
          },
          "metadata": {},
          "execution_count": 49
        }
      ]
    },
    {
      "cell_type": "code",
      "source": [
        "# results[-3:]\n",
        "model.recommend(users = [53425], k=3, verbose = False)"
      ],
      "metadata": {
        "colab": {
          "base_uri": "https://localhost:8080/",
          "height": 114
        },
        "id": "ye4AqOBnI7vP",
        "outputId": "9ff077d9-bb33-47bc-9d65-3e8810b84006"
      },
      "execution_count": null,
      "outputs": [
        {
          "output_type": "execute_result",
          "data": {
            "text/plain": [
              "Columns:\n",
              "\tuser_id\tint\n",
              "\tbook_id\tint\n",
              "\tscore\tfloat\n",
              "\trank\tint\n",
              "\n",
              "Rows: 3\n",
              "\n",
              "Data:\n",
              "+---------+---------+-------------------+------+\n",
              "| user_id | book_id |       score       | rank |\n",
              "+---------+---------+-------------------+------+\n",
              "|  53425  |    10   | 3.910995824815994 |  1   |\n",
              "|  53425  |    4    | 3.889518542768722 |  2   |\n",
              "|  53425  |    31   | 3.883325918199783 |  3   |\n",
              "+---------+---------+-------------------+------+\n",
              "[3 rows x 4 columns]"
            ],
            "text/html": [
              "<div style=\"max-height:1000px;max-width:1500px;overflow:auto;\"><table frame=\"box\" rules=\"cols\">\n",
              "    <tr>\n",
              "        <th style=\"padding-left: 1em; padding-right: 1em; text-align: center\">user_id</th>\n",
              "        <th style=\"padding-left: 1em; padding-right: 1em; text-align: center\">book_id</th>\n",
              "        <th style=\"padding-left: 1em; padding-right: 1em; text-align: center\">score</th>\n",
              "        <th style=\"padding-left: 1em; padding-right: 1em; text-align: center\">rank</th>\n",
              "    </tr>\n",
              "    <tr>\n",
              "        <td style=\"padding-left: 1em; padding-right: 1em; text-align: center; vertical-align: top\">53425</td>\n",
              "        <td style=\"padding-left: 1em; padding-right: 1em; text-align: center; vertical-align: top\">10</td>\n",
              "        <td style=\"padding-left: 1em; padding-right: 1em; text-align: center; vertical-align: top\">3.910995824815994</td>\n",
              "        <td style=\"padding-left: 1em; padding-right: 1em; text-align: center; vertical-align: top\">1</td>\n",
              "    </tr>\n",
              "    <tr>\n",
              "        <td style=\"padding-left: 1em; padding-right: 1em; text-align: center; vertical-align: top\">53425</td>\n",
              "        <td style=\"padding-left: 1em; padding-right: 1em; text-align: center; vertical-align: top\">4</td>\n",
              "        <td style=\"padding-left: 1em; padding-right: 1em; text-align: center; vertical-align: top\">3.889518542768722</td>\n",
              "        <td style=\"padding-left: 1em; padding-right: 1em; text-align: center; vertical-align: top\">2</td>\n",
              "    </tr>\n",
              "    <tr>\n",
              "        <td style=\"padding-left: 1em; padding-right: 1em; text-align: center; vertical-align: top\">53425</td>\n",
              "        <td style=\"padding-left: 1em; padding-right: 1em; text-align: center; vertical-align: top\">31</td>\n",
              "        <td style=\"padding-left: 1em; padding-right: 1em; text-align: center; vertical-align: top\">3.883325918199783</td>\n",
              "        <td style=\"padding-left: 1em; padding-right: 1em; text-align: center; vertical-align: top\">3</td>\n",
              "    </tr>\n",
              "</table>\n",
              "[3 rows x 4 columns]<br/>\n",
              "</div>"
            ]
          },
          "metadata": {},
          "execution_count": 50
        }
      ]
    },
    {
      "cell_type": "code",
      "execution_count": null,
      "metadata": {
        "colab": {
          "base_uri": "https://localhost:8080/",
          "height": 1000
        },
        "id": "HbaK2O1MYzHM",
        "outputId": "4ad66112-5350-4f2d-e23f-ba6cd9f038e5"
      },
      "outputs": [
        {
          "output_type": "display_data",
          "data": {
            "text/plain": [
              "recommendations finished on 1000/1000 queries. users per second: 1771.05"
            ],
            "text/html": [
              "<pre>recommendations finished on 1000/1000 queries. users per second: 1771.05</pre>"
            ]
          },
          "metadata": {}
        },
        {
          "output_type": "stream",
          "name": "stdout",
          "text": [
            "\n",
            "Precision and recall summary statistics by cutoff\n",
            "+--------+---------------------+----------------------+\n",
            "| cutoff |    mean_precision   |     mean_recall      |\n",
            "+--------+---------------------+----------------------+\n",
            "|   1    | 0.16999999999999998 | 0.005094389543216736 |\n",
            "|   2    | 0.17399999999999996 | 0.010508896138885126 |\n",
            "|   3    | 0.17166666666666675 | 0.015657707324115804 |\n",
            "|   4    | 0.16524999999999998 | 0.020143091132116053 |\n",
            "|   5    |  0.1612000000000001 | 0.02451749883265509  |\n",
            "|   6    | 0.15833333333333333 | 0.028872264204611354 |\n",
            "|   7    | 0.15728571428571425 | 0.03338158636247439  |\n",
            "|   8    |       0.154625      | 0.03761007762479203  |\n",
            "|   9    | 0.15311111111111092 | 0.041848728132836105 |\n",
            "|   10   | 0.15209999999999999 | 0.046144071607848995 |\n",
            "+--------+---------------------+----------------------+\n",
            "[10 rows x 3 columns]\n",
            "\n",
            "\n",
            "Overall RMSE: 0.9909650433338858\n",
            "\n",
            "Per User RMSE (best)\n",
            "+---------+--------------------+-------+\n",
            "| user_id |        rmse        | count |\n",
            "+---------+--------------------+-------+\n",
            "|  44541  | 0.3378604060262622 |   24  |\n",
            "+---------+--------------------+-------+\n",
            "[1 rows x 3 columns]\n",
            "\n",
            "\n",
            "Per User RMSE (worst)\n",
            "+---------+--------------------+-------+\n",
            "| user_id |        rmse        | count |\n",
            "+---------+--------------------+-------+\n",
            "|  45135  | 2.3038361497516875 |   9   |\n",
            "+---------+--------------------+-------+\n",
            "[1 rows x 3 columns]\n",
            "\n",
            "\n",
            "Per Item RMSE (best)\n",
            "+---------+-----------------------+-------+\n",
            "| book_id |          rmse         | count |\n",
            "+---------+-----------------------+-------+\n",
            "|   7867  | 0.0007228417375033658 |   1   |\n",
            "+---------+-----------------------+-------+\n",
            "[1 rows x 3 columns]\n",
            "\n",
            "\n",
            "Per Item RMSE (worst)\n",
            "+---------+--------------------+-------+\n",
            "| book_id |        rmse        | count |\n",
            "+---------+--------------------+-------+\n",
            "|   4984  | 4.9629111899115985 |   1   |\n",
            "+---------+--------------------+-------+\n",
            "[1 rows x 3 columns]\n",
            "\n"
          ]
        },
        {
          "output_type": "execute_result",
          "data": {
            "text/plain": [
              "{'precision_recall_by_user': Columns:\n",
              " \tuser_id\tint\n",
              " \tcutoff\tint\n",
              " \tprecision\tfloat\n",
              " \trecall\tfloat\n",
              " \tcount\tint\n",
              " \n",
              " Rows: 18000\n",
              " \n",
              " Data:\n",
              " +---------+--------+---------------------+----------------------+-------+\n",
              " | user_id | cutoff |      precision      |        recall        | count |\n",
              " +---------+--------+---------------------+----------------------+-------+\n",
              " |    61   |   1    |         0.0         |         0.0          |   45  |\n",
              " |    61   |   2    |         0.0         |         0.0          |   45  |\n",
              " |    61   |   3    |  0.3333333333333333 | 0.022222222222222223 |   45  |\n",
              " |    61   |   4    |         0.25        | 0.022222222222222223 |   45  |\n",
              " |    61   |   5    |         0.2         | 0.022222222222222223 |   45  |\n",
              " |    61   |   6    | 0.16666666666666666 | 0.022222222222222223 |   45  |\n",
              " |    61   |   7    | 0.14285714285714285 | 0.022222222222222223 |   45  |\n",
              " |    61   |   8    |        0.125        | 0.022222222222222223 |   45  |\n",
              " |    61   |   9    |  0.1111111111111111 | 0.022222222222222223 |   45  |\n",
              " |    61   |   10   |         0.2         | 0.044444444444444446 |   45  |\n",
              " +---------+--------+---------------------+----------------------+-------+\n",
              " [18000 rows x 5 columns]\n",
              " Note: Only the head of the SFrame is printed.\n",
              " You can use print_rows(num_rows=m, num_columns=n) to print more rows and columns.,\n",
              " 'precision_recall_overall': Columns:\n",
              " \tcutoff\tint\n",
              " \tprecision\tfloat\n",
              " \trecall\tfloat\n",
              " \n",
              " Rows: 18\n",
              " \n",
              " Data:\n",
              " +--------+---------------------+----------------------+\n",
              " | cutoff |      precision      |        recall        |\n",
              " +--------+---------------------+----------------------+\n",
              " |   1    |         0.17        | 0.005094389543216736 |\n",
              " |   2    |        0.174        | 0.010508896138885128 |\n",
              " |   3    | 0.17166666666666675 | 0.015657707324115817 |\n",
              " |   4    |       0.16525       | 0.020143091132116046 |\n",
              " |   5    | 0.16120000000000007 | 0.02451749883265508  |\n",
              " |   6    |  0.1583333333333334 | 0.028872264204611347 |\n",
              " |   7    |  0.1572857142857142 | 0.033381586362474396 |\n",
              " |   8    | 0.15462500000000004 | 0.03761007762479202  |\n",
              " |   9    |  0.153111111111111  |  0.0418487281328361  |\n",
              " |   10   | 0.15210000000000015 |  0.046144071607849   |\n",
              " +--------+---------------------+----------------------+\n",
              " [18 rows x 3 columns]\n",
              " Note: Only the head of the SFrame is printed.\n",
              " You can use print_rows(num_rows=m, num_columns=n) to print more rows and columns.,\n",
              " 'rmse_by_user': Columns:\n",
              " \tuser_id\tint\n",
              " \trmse\tfloat\n",
              " \tcount\tint\n",
              " \n",
              " Rows: 1000\n",
              " \n",
              " Data:\n",
              " +---------+--------------------+-------+\n",
              " | user_id |        rmse        | count |\n",
              " +---------+--------------------+-------+\n",
              " |  50340  | 0.7883518056588565 |   46  |\n",
              " |  42857  | 1.1344774843044327 |   23  |\n",
              " |   713   | 1.0358520719656692 |   22  |\n",
              " |  50569  | 0.848369528561154  |   32  |\n",
              " |  44411  | 1.1069741407613716 |   41  |\n",
              " |  17663  | 0.815311967694817  |   65  |\n",
              " |  49497  |  0.94054638488551  |   42  |\n",
              " |   9715  | 0.7736602687441472 |   44  |\n",
              " |  20780  | 1.1417269981617926 |   43  |\n",
              " |  16669  | 1.0810804197581352 |   14  |\n",
              " +---------+--------------------+-------+\n",
              " [1000 rows x 3 columns]\n",
              " Note: Only the head of the SFrame is printed.\n",
              " You can use print_rows(num_rows=m, num_columns=n) to print more rows and columns.,\n",
              " 'rmse_by_item': Columns:\n",
              " \tbook_id\tint\n",
              " \trmse\tfloat\n",
              " \tcount\tint\n",
              " \n",
              " Rows: 7549\n",
              " \n",
              " Data:\n",
              " +---------+---------------------+-------+\n",
              " | book_id |         rmse        | count |\n",
              " +---------+---------------------+-------+\n",
              " |   4441  |  0.3537588255426938 |   1   |\n",
              " |   7899  |  1.1520514251021097 |   2   |\n",
              " |   5288  |  1.0120712341073683 |   2   |\n",
              " |   3143  |  0.8547360122280154 |   5   |\n",
              " |   2035  |  1.4922830811283485 |   4   |\n",
              " |   4631  | 0.20257122945570405 |   1   |\n",
              " |   7148  | 0.42506956181798905 |   3   |\n",
              " |   6769  |  1.266760179219479  |   1   |\n",
              " |   1611  |  0.2742810782091612 |   2   |\n",
              " |   5261  |  1.6744249286168138 |   2   |\n",
              " +---------+---------------------+-------+\n",
              " [7549 rows x 3 columns]\n",
              " Note: Only the head of the SFrame is printed.\n",
              " You can use print_rows(num_rows=m, num_columns=n) to print more rows and columns.,\n",
              " 'rmse_overall': 0.9909650433338858}"
            ]
          },
          "metadata": {},
          "execution_count": 51
        }
      ],
      "source": [
        "model.evaluate(validation_data)\n",
        "#Matrix factorization Overall RMSE: 0.9895585838230585"
      ]
    },
    {
      "cell_type": "code",
      "execution_count": null,
      "metadata": {
        "id": "_QGFbO-VYzHM"
      },
      "outputs": [],
      "source": []
    }
  ],
  "metadata": {
    "kernelspec": {
      "display_name": "Python 3 (ipykernel)",
      "language": "python",
      "name": "python3"
    },
    "language_info": {
      "codemirror_mode": {
        "name": "ipython",
        "version": 3
      },
      "file_extension": ".py",
      "mimetype": "text/x-python",
      "name": "python",
      "nbconvert_exporter": "python",
      "pygments_lexer": "ipython3",
      "version": "3.9.12"
    },
    "colab": {
      "provenance": []
    }
  },
  "nbformat": 4,
  "nbformat_minor": 0
}