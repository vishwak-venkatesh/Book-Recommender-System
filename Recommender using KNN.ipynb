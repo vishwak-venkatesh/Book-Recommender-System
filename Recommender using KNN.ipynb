{
 "cells": [
  {
   "cell_type": "code",
   "execution_count": 1,
   "id": "3d37193f",
   "metadata": {},
   "outputs": [
    {
     "name": "stdout",
     "output_type": "stream",
     "text": [
      "Collecting fuzzywuzzy\n",
      "  Downloading fuzzywuzzy-0.18.0-py2.py3-none-any.whl (18 kB)\n",
      "Installing collected packages: fuzzywuzzy\n",
      "Successfully installed fuzzywuzzy-0.18.0\n"
     ]
    },
    {
     "name": "stderr",
     "output_type": "stream",
     "text": [
      "C:\\Users\\vishw\\anaconda3\\lib\\site-packages\\fuzzywuzzy\\fuzz.py:11: UserWarning: Using slow pure-python SequenceMatcher. Install python-Levenshtein to remove this warning\n",
      "  warnings.warn('Using slow pure-python SequenceMatcher. Install python-Levenshtein to remove this warning')\n"
     ]
    }
   ],
   "source": [
    "#!/usr/bin/env python\n",
    "\n",
    "!pip3 install fuzzywuzzy\n",
    "\n",
    "import pandas as pd\n",
    "import numpy as np\n",
    "from scipy.sparse import csr_matrix\n",
    "from sklearn.neighbors import NearestNeighbors\n",
    "from fuzzywuzzy import fuzz\n",
    "from fuzzywuzzy import process\n",
    "data = pd.read_csv(\"ratings.csv\")"
   ]
  },
  {
   "cell_type": "code",
   "execution_count": 15,
   "id": "61b7fcf3",
   "metadata": {},
   "outputs": [],
   "source": [
    "books = pd.read_csv('books_enriched.csv', index_col = 'book_id')"
   ]
  },
  {
   "cell_type": "code",
   "execution_count": 6,
   "id": "73d9f404",
   "metadata": {},
   "outputs": [],
   "source": [
    "#pivot ratings into book features\n",
    "df_book_features = pd.pivot_table(data=data,\n",
    "    index='book_id',\n",
    "    columns='user_id',\n",
    "    values='rating',fill_value=0)\n",
    "title_list=df_book_features.index.tolist()\n",
    "mat_book_features = csr_matrix(df_book_features.values)"
   ]
  },
  {
   "cell_type": "code",
   "execution_count": 7,
   "id": "62e4d8a6",
   "metadata": {},
   "outputs": [
    {
     "data": {
      "text/plain": [
       "matrix([[0, 0, 0, ..., 4, 4, 4],\n",
       "        [0, 5, 0, ..., 5, 5, 5],\n",
       "        [0, 0, 0, ..., 0, 0, 4],\n",
       "        ...,\n",
       "        [0, 0, 0, ..., 0, 0, 0],\n",
       "        [0, 0, 0, ..., 0, 0, 0],\n",
       "        [0, 0, 0, ..., 0, 0, 0]], dtype=int64)"
      ]
     },
     "execution_count": 7,
     "metadata": {},
     "output_type": "execute_result"
    }
   ],
   "source": [
    "mat_book_features.todense()"
   ]
  },
  {
   "cell_type": "code",
   "execution_count": 18,
   "id": "5f6a4c09",
   "metadata": {},
   "outputs": [
    {
     "data": {
      "text/plain": [
       "'The Kite Runner'"
      ]
     },
     "execution_count": 18,
     "metadata": {},
     "output_type": "execute_result"
    }
   ],
   "source": [
    "books.loc[df_book_features.index[10], 'title']"
   ]
  },
  {
   "cell_type": "code",
   "execution_count": 38,
   "id": "97406499",
   "metadata": {},
   "outputs": [
    {
     "name": "stdout",
     "output_type": "stream",
     "text": [
      "What book have you recently read: 92\n",
      "Recommendations for Freakonomics: A Rogue Economist Explores the Hidden Side of Everything (Freakonomics, #1):\n",
      "\n",
      "1:The Tipping Point: How Little Things Can Make a Big Difference, with distance of 0.590511108092088.\n",
      "2:Blink: The Power of Thinking Without Thinking, with distance of 0.6401722564691626.\n",
      "3:SuperFreakonomics: Global Cooling, Patriotic Prostitutes And Why Suicide Bombers Should Buy Life Insurance, with distance of 0.6480742106136235.\n",
      "4:Outliers: The Story of Success, with distance of 0.6575011431305207.\n",
      "5:The World Is Flat: A Brief History of the Twenty-first Century, with distance of 0.7481699997987048.\n",
      " \n",
      "\n",
      "Recommendations for Freakonomics: A Rogue Economist Explores the Hidden Side of Everything (Freakonomics, #1):\n",
      "\n",
      "1:SuperFreakonomics: Global Cooling, Patriotic Prostitutes And Why Suicide Bombers Should Buy Life Insurance, with distance of 256.0976376306505.\n",
      "2:The World Is Flat: A Brief History of the Twenty-first Century, with distance of 267.94962213072813.\n",
      "3:The Undercover Economist, with distance of 270.6455246258471.\n",
      "4:The Long Tail: Why the Future of Business is Selling Less of More, with distance of 271.0073799733136.\n",
      "5:The Wisdom of Crowds, with distance of 271.142029202409.\n"
     ]
    }
   ],
   "source": [
    "model_knn = NearestNeighbors(metric='cosine', algorithm='brute', n_neighbors=20, n_jobs=-1)\n",
    "model_knn.fit(mat_book_features)\n",
    "test_title=input(\"What book have you recently read: \")\n",
    "query_index=title_list.index(process.extract(test_title,title_list)[0][0])\n",
    "distances, indices = model_knn.kneighbors(df_book_features.iloc[query_index, :].values.reshape(1, -1), n_neighbors = 6)\n",
    "for i in range(0,len(distances.flatten())):\n",
    "    if i ==0:\n",
    "        print('Recommendations for {0}:\\n'.format(books.loc[df_book_features.index[query_index], 'title']))\n",
    "    else:\n",
    "        print('{0}:{1}, with distance of {2}.'.format(i,books.loc[df_book_features.index[indices.flatten()[i]], 'title'],distances.flatten()[i]))\n",
    "\n",
    "print(' \\n')        \n",
    "model_knn2 = NearestNeighbors(metric='euclidean', algorithm='brute', n_neighbors=20, n_jobs=-1)\n",
    "model_knn2.fit(mat_book_features)\n",
    "distances, indices = model_knn2.kneighbors(df_book_features.iloc[query_index, :].values.reshape(1, -1), n_neighbors = 6)\n",
    "for i in range(0,len(distances.flatten())):\n",
    "    if i ==0:\n",
    "        print('Recommendations for {0}:\\n'.format(books.loc[df_book_features.index[query_index], 'title']))\n",
    "    else:\n",
    "        print('{0}:{1}, with distance of {2}.'.format(i,books.loc[df_book_features.index[indices.flatten()[i]], 'title'],distances.flatten()[i]))\n"
   ]
  },
  {
   "cell_type": "code",
   "execution_count": null,
   "id": "f5d6dad8",
   "metadata": {},
   "outputs": [],
   "source": []
  }
 ],
 "metadata": {
  "kernelspec": {
   "display_name": "Python 3 (ipykernel)",
   "language": "python",
   "name": "python3"
  },
  "language_info": {
   "codemirror_mode": {
    "name": "ipython",
    "version": 3
   },
   "file_extension": ".py",
   "mimetype": "text/x-python",
   "name": "python",
   "nbconvert_exporter": "python",
   "pygments_lexer": "ipython3",
   "version": "3.9.12"
  }
 },
 "nbformat": 4,
 "nbformat_minor": 5
}
