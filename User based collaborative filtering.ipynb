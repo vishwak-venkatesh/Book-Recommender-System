{
 "cells": [
  {
   "cell_type": "code",
   "execution_count": 1,
   "id": "314ef6fc",
   "metadata": {},
   "outputs": [],
   "source": [
    "import pandas as pd\n",
    "import numpy as np\n",
    "import seaborn as sns\n",
    "import matplotlib.pyplot as plt\n",
    "from scipy import sparse\n",
    "from sklearn.metrics.pairwise import cosine_similarity\n",
    "# import turicreate as tc  # Only Mac/Linux\n",
    "from scipy.sparse.linalg import svds"
   ]
  },
  {
   "cell_type": "code",
   "execution_count": 2,
   "id": "0aa8f964",
   "metadata": {},
   "outputs": [],
   "source": [
    "ratings = pd.read_csv('ratings.csv')\n",
    "books = pd.read_csv('books_enriched.csv', index_col = 'book_id')"
   ]
  },
  {
   "cell_type": "code",
   "execution_count": 8,
   "id": "6b337451",
   "metadata": {},
   "outputs": [
    {
     "data": {
      "text/plain": [
       "(5976479, 3)"
      ]
     },
     "execution_count": 8,
     "metadata": {},
     "output_type": "execute_result"
    }
   ],
   "source": [
    "ratings.shape"
   ]
  },
  {
   "cell_type": "code",
   "execution_count": 5,
   "id": "16efdfb7",
   "metadata": {},
   "outputs": [
    {
     "data": {
      "text/html": [
       "<div>\n",
       "<style scoped>\n",
       "    .dataframe tbody tr th:only-of-type {\n",
       "        vertical-align: middle;\n",
       "    }\n",
       "\n",
       "    .dataframe tbody tr th {\n",
       "        vertical-align: top;\n",
       "    }\n",
       "\n",
       "    .dataframe thead th {\n",
       "        text-align: right;\n",
       "    }\n",
       "</style>\n",
       "<table border=\"1\" class=\"dataframe\">\n",
       "  <thead>\n",
       "    <tr style=\"text-align: right;\">\n",
       "      <th></th>\n",
       "      <th>user_id</th>\n",
       "      <th>book_id</th>\n",
       "      <th>rating</th>\n",
       "    </tr>\n",
       "  </thead>\n",
       "  <tbody>\n",
       "    <tr>\n",
       "      <th>0</th>\n",
       "      <td>53425</td>\n",
       "      <td>34</td>\n",
       "      <td>4</td>\n",
       "    </tr>\n",
       "    <tr>\n",
       "      <th>1</th>\n",
       "      <td>53425</td>\n",
       "      <td>99</td>\n",
       "      <td>3</td>\n",
       "    </tr>\n",
       "    <tr>\n",
       "      <th>2</th>\n",
       "      <td>53425</td>\n",
       "      <td>2</td>\n",
       "      <td>3</td>\n",
       "    </tr>\n",
       "    <tr>\n",
       "      <th>3</th>\n",
       "      <td>53425</td>\n",
       "      <td>40</td>\n",
       "      <td>5</td>\n",
       "    </tr>\n",
       "    <tr>\n",
       "      <th>4</th>\n",
       "      <td>53425</td>\n",
       "      <td>29</td>\n",
       "      <td>4</td>\n",
       "    </tr>\n",
       "    <tr>\n",
       "      <th>5</th>\n",
       "      <td>53425</td>\n",
       "      <td>257</td>\n",
       "      <td>2</td>\n",
       "    </tr>\n",
       "    <tr>\n",
       "      <th>6</th>\n",
       "      <td>53425</td>\n",
       "      <td>365</td>\n",
       "      <td>3</td>\n",
       "    </tr>\n",
       "  </tbody>\n",
       "</table>\n",
       "</div>"
      ],
      "text/plain": [
       "   user_id  book_id  rating\n",
       "0    53425       34       4\n",
       "1    53425       99       3\n",
       "2    53425        2       3\n",
       "3    53425       40       5\n",
       "4    53425       29       4\n",
       "5    53425      257       2\n",
       "6    53425      365       3"
      ]
     },
     "execution_count": 5,
     "metadata": {},
     "output_type": "execute_result"
    }
   ],
   "source": [
    "# Add books to the df\n",
    "new_ratings = pd.read_csv('new_ratings.csv')\n",
    "new_ratings"
   ]
  },
  {
   "cell_type": "code",
   "execution_count": 9,
   "id": "c4108a7f",
   "metadata": {},
   "outputs": [
    {
     "data": {
      "text/plain": [
       "(5976486, 3)"
      ]
     },
     "execution_count": 9,
     "metadata": {},
     "output_type": "execute_result"
    }
   ],
   "source": [
    "ratings = pd.concat([ratings, new_ratings])\n",
    "ratings.shape"
   ]
  },
  {
   "cell_type": "code",
   "execution_count": 10,
   "id": "ea650c4d",
   "metadata": {},
   "outputs": [],
   "source": [
    "# ratings = ratings[ratings['book_id'] <= 1000]"
   ]
  },
  {
   "cell_type": "code",
   "execution_count": 11,
   "id": "82e4991e",
   "metadata": {},
   "outputs": [
    {
     "data": {
      "text/html": [
       "<div>\n",
       "<style scoped>\n",
       "    .dataframe tbody tr th:only-of-type {\n",
       "        vertical-align: middle;\n",
       "    }\n",
       "\n",
       "    .dataframe tbody tr th {\n",
       "        vertical-align: top;\n",
       "    }\n",
       "\n",
       "    .dataframe thead th {\n",
       "        text-align: right;\n",
       "    }\n",
       "</style>\n",
       "<table border=\"1\" class=\"dataframe\">\n",
       "  <thead>\n",
       "    <tr style=\"text-align: right;\">\n",
       "      <th></th>\n",
       "      <th>user_id</th>\n",
       "      <th>book_id</th>\n",
       "      <th>rating</th>\n",
       "    </tr>\n",
       "  </thead>\n",
       "  <tbody>\n",
       "    <tr>\n",
       "      <th>0</th>\n",
       "      <td>1</td>\n",
       "      <td>258</td>\n",
       "      <td>5</td>\n",
       "    </tr>\n",
       "    <tr>\n",
       "      <th>1</th>\n",
       "      <td>2</td>\n",
       "      <td>4081</td>\n",
       "      <td>4</td>\n",
       "    </tr>\n",
       "    <tr>\n",
       "      <th>2</th>\n",
       "      <td>2</td>\n",
       "      <td>260</td>\n",
       "      <td>5</td>\n",
       "    </tr>\n",
       "    <tr>\n",
       "      <th>3</th>\n",
       "      <td>2</td>\n",
       "      <td>9296</td>\n",
       "      <td>5</td>\n",
       "    </tr>\n",
       "    <tr>\n",
       "      <th>4</th>\n",
       "      <td>2</td>\n",
       "      <td>2318</td>\n",
       "      <td>3</td>\n",
       "    </tr>\n",
       "  </tbody>\n",
       "</table>\n",
       "</div>"
      ],
      "text/plain": [
       "   user_id  book_id  rating\n",
       "0        1      258       5\n",
       "1        2     4081       4\n",
       "2        2      260       5\n",
       "3        2     9296       5\n",
       "4        2     2318       3"
      ]
     },
     "execution_count": 11,
     "metadata": {},
     "output_type": "execute_result"
    }
   ],
   "source": [
    "ratings.head()"
   ]
  },
  {
   "cell_type": "code",
   "execution_count": 12,
   "id": "8156b006",
   "metadata": {},
   "outputs": [
    {
     "data": {
      "text/plain": [
       "53425"
      ]
     },
     "execution_count": 12,
     "metadata": {},
     "output_type": "execute_result"
    }
   ],
   "source": [
    "max(ratings['user_id'])"
   ]
  },
  {
   "cell_type": "code",
   "execution_count": 5,
   "id": "380792aa",
   "metadata": {},
   "outputs": [
    {
     "data": {
      "text/plain": [
       "0"
      ]
     },
     "execution_count": 5,
     "metadata": {},
     "output_type": "execute_result"
    }
   ],
   "source": [
    "ratings.duplicated(['user_id','book_id','rating']).sum()\n",
    "# No duplicate ratings"
   ]
  },
  {
   "cell_type": "code",
   "execution_count": 6,
   "id": "a69ef4cf",
   "metadata": {},
   "outputs": [
    {
     "data": {
      "text/plain": [
       "user_id\n",
       "45554    173\n",
       "13879    172\n",
       "46139    172\n",
       "13925    171\n",
       "8440     167\n",
       "        ... \n",
       "32925      1\n",
       "52083      1\n",
       "39283      1\n",
       "10620      1\n",
       "23378      1\n",
       "Name: rating, Length: 53417, dtype: int64"
      ]
     },
     "execution_count": 6,
     "metadata": {},
     "output_type": "execute_result"
    }
   ],
   "source": [
    "# Ratings per users\n",
    "ratings.groupby(by = \"user_id\")[\"rating\"].count().sort_values(ascending = False)"
   ]
  },
  {
   "cell_type": "code",
   "execution_count": 7,
   "id": "c3edf59c",
   "metadata": {},
   "outputs": [
    {
     "data": {
      "text/plain": [
       "book_id\n",
       "1      22806\n",
       "2      21850\n",
       "4      19088\n",
       "3      16931\n",
       "5      16604\n",
       "       ...  \n",
       "524      386\n",
       "954      372\n",
       "845      332\n",
       "580      310\n",
       "990      278\n",
       "Name: rating, Length: 1000, dtype: int64"
      ]
     },
     "execution_count": 7,
     "metadata": {},
     "output_type": "execute_result"
    }
   ],
   "source": [
    "# Ratings per book\n",
    "ratings.groupby(by = \"book_id\")[\"rating\"].count().sort_values(ascending = False)"
   ]
  },
  {
   "cell_type": "code",
   "execution_count": 8,
   "id": "39d1e7f7",
   "metadata": {},
   "outputs": [
    {
     "data": {
      "text/plain": [
       "book_id\n",
       "1                              The Hunger Games\n",
       "2      Harry Potter and the Philosopher's Stone\n",
       "4                         To Kill a Mockingbird\n",
       "3                                      Twilight\n",
       "5                              The Great Gatsby\n",
       "17                                Catching Fire\n",
       "20                                   Mockingjay\n",
       "18     Harry Potter and the Prisoner of Azkaban\n",
       "23      Harry Potter and the Chamber of Secrets\n",
       "7            The Hobbit or There and Back Again\n",
       "24          Harry Potter and the Goblet of Fire\n",
       "25         Harry Potter and the Deathly Hallows\n",
       "21    Harry Potter and the Order of the Phoenix\n",
       "27       Harry Potter and the Half-Blood Prince\n",
       "13                         Nineteen Eighty-Four\n",
       "8                        The Catcher in the Rye\n",
       "16                        Män som hatar kvinnor\n",
       "14                   Animal Farm: A Fairy Story\n",
       "28                           Lord of the Flies \n",
       "9                              Angels & Demons \n",
       "Name: original_title, dtype: object"
      ]
     },
     "execution_count": 8,
     "metadata": {},
     "output_type": "execute_result"
    }
   ],
   "source": [
    "books.loc[ratings.groupby(by = \"book_id\")[\"rating\"].count().sort_values(ascending = False).index[:20], 'original_title']"
   ]
  },
  {
   "cell_type": "code",
   "execution_count": 9,
   "id": "328a33e6",
   "metadata": {},
   "outputs": [],
   "source": [
    "# Get sparse matrix - user_id in rows, book_id in cols, 0 if rating not present, else rating value\n",
    "def get_user_item_sparse_matrix(df):\n",
    "    sparse_data = sparse.csr_matrix((df.rating, (df.user_id, df.book_id)))\n",
    "    return sparse_data"
   ]
  },
  {
   "cell_type": "code",
   "execution_count": 10,
   "id": "560e1341",
   "metadata": {},
   "outputs": [],
   "source": [
    "sparse_ratings = get_user_item_sparse_matrix(ratings)"
   ]
  },
  {
   "cell_type": "code",
   "execution_count": 11,
   "id": "970033a6",
   "metadata": {},
   "outputs": [
    {
     "data": {
      "text/plain": [
       "3.9344739332834204"
      ]
     },
     "execution_count": 11,
     "metadata": {},
     "output_type": "execute_result"
    }
   ],
   "source": [
    "# Global average rating\n",
    "sparse_ratings.sum()/sparse_ratings.count_nonzero()"
   ]
  },
  {
   "cell_type": "code",
   "execution_count": 12,
   "id": "d8d3a045",
   "metadata": {},
   "outputs": [],
   "source": [
    "def get_average_rating(sparse_matrix, is_user):\n",
    "    ax = 1 if is_user else 0\n",
    "    sum_of_ratings = sparse_matrix.sum(axis = ax).A1  \n",
    "    no_of_ratings = (sparse_matrix != 0).sum(axis = ax).A1 \n",
    "    rows, cols = sparse_matrix.shape\n",
    "    average_ratings = {i: sum_of_ratings[i]/no_of_ratings[i] for i in range(rows if is_user else cols) if no_of_ratings[i] != 0}\n",
    "    return average_ratings"
   ]
  },
  {
   "cell_type": "code",
   "execution_count": 13,
   "id": "67d2fe28",
   "metadata": {},
   "outputs": [],
   "source": [
    "# Average Rating User\n",
    "average_rating_user = get_average_rating(sparse_ratings, True)"
   ]
  },
  {
   "cell_type": "code",
   "execution_count": 14,
   "id": "df572153",
   "metadata": {},
   "outputs": [],
   "source": [
    "# Average Rating Book\n",
    "avg_rating_book = get_average_rating(sparse_ratings, False)"
   ]
  },
  {
   "cell_type": "code",
   "execution_count": 15,
   "id": "6560a00f",
   "metadata": {},
   "outputs": [
    {
     "name": "stdout",
     "output_type": "stream",
     "text": [
      "Total no. of Users = 53417\n",
      "No. of Users in train data= 53417\n",
      "No. of Users not present in train data = 0(0.0%)\n"
     ]
    }
   ],
   "source": [
    "# # of users not present in data (no need to run this)\n",
    "total_users = len(np.unique(ratings[\"user_id\"]))\n",
    "train_users = len(average_rating_user)\n",
    "uncommonUsers = total_users - train_users\n",
    "                  \n",
    "print(\"Total no. of Users = {}\".format(total_users))\n",
    "print(\"No. of Users in train data= {}\".format(train_users))\n",
    "print(\"No. of Users not present in train data = {}({}%)\".format(uncommonUsers, np.round((uncommonUsers/total_users)*100), 2))"
   ]
  },
  {
   "cell_type": "code",
   "execution_count": 16,
   "id": "d8174394",
   "metadata": {},
   "outputs": [
    {
     "name": "stdout",
     "output_type": "stream",
     "text": [
      "Total no. of Books = 1000\n",
      "No. of Books in train data= 1000\n",
      "No. of Books not present in train data = 0(0.0%)\n"
     ]
    }
   ],
   "source": [
    "# # of books not present in data (no need to run this)\n",
    "total_books = len(np.unique(ratings[\"book_id\"]))\n",
    "train_books = len(avg_rating_book)\n",
    "uncommonBooks = total_books - train_books\n",
    "                  \n",
    "print(\"Total no. of Books = {}\".format(total_books))\n",
    "print(\"No. of Books in train data= {}\".format(train_books))\n",
    "print(\"No. of Books not present in train data = {}({}%)\".format(uncommonBooks, np.round((uncommonBooks/total_books)*100), 2))"
   ]
  },
  {
   "cell_type": "code",
   "execution_count": 17,
   "id": "5603f07a",
   "metadata": {},
   "outputs": [
    {
     "data": {
      "text/plain": [
       "matrix([[0, 0, 0, ..., 0, 0, 0],\n",
       "        [0, 0, 0, ..., 0, 0, 0],\n",
       "        [0, 0, 5, ..., 0, 0, 0],\n",
       "        ...,\n",
       "        [0, 4, 5, ..., 0, 0, 0],\n",
       "        [0, 4, 5, ..., 0, 0, 0],\n",
       "        [0, 4, 5, ..., 0, 0, 0]], dtype=int64)"
      ]
     },
     "execution_count": 17,
     "metadata": {},
     "output_type": "execute_result"
    }
   ],
   "source": [
    "sparse_ratings.todense()"
   ]
  },
  {
   "cell_type": "code",
   "execution_count": 25,
   "id": "a9fce5b9",
   "metadata": {},
   "outputs": [],
   "source": [
    "books_sim_corr = np.corrcoef(sparse_ratings.todense()[:,1:], rowvar = False)"
   ]
  },
  {
   "cell_type": "code",
   "execution_count": 26,
   "id": "baff02ec",
   "metadata": {},
   "outputs": [
    {
     "name": "stdout",
     "output_type": "stream",
     "text": [
      "Most similar books to : The Hunger Games based on correlation are:\n",
      "Catching Fire\n",
      "Mockingjay\n",
      "Twilight\n",
      "Divergent\n",
      "Harry Potter and the Philosopher's Stone\n"
     ]
    }
   ],
   "source": [
    "p = 0\n",
    "print('Most similar books to :',books.loc[p+1, 'original_title'],'based on correlation are:')\n",
    "for i in np.argsort(books_sim_corr[p])[-2:-7:-1]:\n",
    "    print(books.loc[i+1, 'original_title'])"
   ]
  },
  {
   "cell_type": "code",
   "execution_count": 27,
   "id": "fb63efa9",
   "metadata": {},
   "outputs": [
    {
     "name": "stdout",
     "output_type": "stream",
     "text": [
      "Most similar books to : Nineteen Eighty-Four based on correlation are:\n",
      "Animal Farm: A Fairy Story\n",
      "Brave New World\n",
      "Fahrenheit 451\n",
      "Lord of the Flies \n",
      "The Catcher in the Rye\n"
     ]
    }
   ],
   "source": [
    "p = 12\n",
    "print('Most similar books to :',books.loc[p+1, 'original_title'],'based on correlation are:')\n",
    "for i in np.argsort(books_sim_corr[p])[-2:-7:-1]:\n",
    "    print(books.loc[i+1, 'original_title'])"
   ]
  },
  {
   "cell_type": "code",
   "execution_count": 22,
   "id": "e98142b7",
   "metadata": {},
   "outputs": [
    {
     "name": "stderr",
     "output_type": "stream",
     "text": [
      "C:\\Users\\vishw\\anaconda3\\lib\\site-packages\\sklearn\\utils\\validation.py:727: FutureWarning: np.matrix usage is deprecated in 1.0 and will raise a TypeError in 1.2. Please convert to a numpy array with np.asarray. For more information see: https://numpy.org/doc/stable/reference/generated/numpy.matrix.html\n",
      "  warnings.warn(\n"
     ]
    }
   ],
   "source": [
    "books_sim_cos = cosine_similarity(sparse_ratings.todense().T)"
   ]
  },
  {
   "cell_type": "code",
   "execution_count": 23,
   "id": "feb007fe",
   "metadata": {},
   "outputs": [
    {
     "name": "stdout",
     "output_type": "stream",
     "text": [
      "Most similar books to : The Hunger Games based on cosine similarity are:\n",
      "Harry Potter and the Prisoner of Azkaban\n",
      "Harry Potter and the Order of the Phoenix\n",
      "Twilight\n",
      "To Kill a Mockingbird\n",
      "Nineteen Eighty-Four\n"
     ]
    }
   ],
   "source": [
    "p = 0\n",
    "print('Most similar books to :',books.loc[p+1, 'original_title'],'based on cosine similarity are:')\n",
    "for i in np.argsort(books_sim_cos[p+1])[-2:-7:-1]:\n",
    "    print(books.loc[i+1, 'original_title'])"
   ]
  },
  {
   "cell_type": "code",
   "execution_count": 24,
   "id": "c1f9f648",
   "metadata": {},
   "outputs": [
    {
     "name": "stdout",
     "output_type": "stream",
     "text": [
      "Most similar books to : Nineteen Eighty-Four based on cosine similarity are:\n",
      "Het Achterhuis: Dagboekbrieven 14 juni 1942 - 1 augustus 1944\n",
      "Breaking Dawn\n",
      "Angels & Demons \n",
      "An Excellent conceited Tragedie of Romeo and Juliet\n",
      "The Fault in Our Stars\n"
     ]
    }
   ],
   "source": [
    "p = 12\n",
    "print('Most similar books to :',books.loc[p+1, 'original_title'],'based on cosine similarity are:')\n",
    "for i in np.argsort(books_sim_cos[p+1])[-2:-7:-1]:\n",
    "    print(books.loc[i+1, 'original_title'])"
   ]
  },
  {
   "cell_type": "code",
   "execution_count": 13,
   "id": "d09b15f7",
   "metadata": {},
   "outputs": [
    {
     "data": {
      "text/html": [
       "<div>\n",
       "<style scoped>\n",
       "    .dataframe tbody tr th:only-of-type {\n",
       "        vertical-align: middle;\n",
       "    }\n",
       "\n",
       "    .dataframe tbody tr th {\n",
       "        vertical-align: top;\n",
       "    }\n",
       "\n",
       "    .dataframe thead th {\n",
       "        text-align: right;\n",
       "    }\n",
       "</style>\n",
       "<table border=\"1\" class=\"dataframe\">\n",
       "  <thead>\n",
       "    <tr style=\"text-align: right;\">\n",
       "      <th>book_id</th>\n",
       "      <th>1</th>\n",
       "      <th>2</th>\n",
       "      <th>3</th>\n",
       "      <th>4</th>\n",
       "      <th>5</th>\n",
       "      <th>6</th>\n",
       "      <th>7</th>\n",
       "      <th>8</th>\n",
       "      <th>9</th>\n",
       "      <th>10</th>\n",
       "      <th>...</th>\n",
       "      <th>9991</th>\n",
       "      <th>9992</th>\n",
       "      <th>9993</th>\n",
       "      <th>9994</th>\n",
       "      <th>9995</th>\n",
       "      <th>9996</th>\n",
       "      <th>9997</th>\n",
       "      <th>9998</th>\n",
       "      <th>9999</th>\n",
       "      <th>10000</th>\n",
       "    </tr>\n",
       "    <tr>\n",
       "      <th>user_id</th>\n",
       "      <th></th>\n",
       "      <th></th>\n",
       "      <th></th>\n",
       "      <th></th>\n",
       "      <th></th>\n",
       "      <th></th>\n",
       "      <th></th>\n",
       "      <th></th>\n",
       "      <th></th>\n",
       "      <th></th>\n",
       "      <th></th>\n",
       "      <th></th>\n",
       "      <th></th>\n",
       "      <th></th>\n",
       "      <th></th>\n",
       "      <th></th>\n",
       "      <th></th>\n",
       "      <th></th>\n",
       "      <th></th>\n",
       "      <th></th>\n",
       "      <th></th>\n",
       "    </tr>\n",
       "  </thead>\n",
       "  <tbody>\n",
       "    <tr>\n",
       "      <th>1</th>\n",
       "      <td>0.0</td>\n",
       "      <td>0.0</td>\n",
       "      <td>0.0</td>\n",
       "      <td>5.0</td>\n",
       "      <td>0.0</td>\n",
       "      <td>0.0</td>\n",
       "      <td>0.0</td>\n",
       "      <td>0.0</td>\n",
       "      <td>0.0</td>\n",
       "      <td>4.0</td>\n",
       "      <td>...</td>\n",
       "      <td>0.0</td>\n",
       "      <td>0.0</td>\n",
       "      <td>0.0</td>\n",
       "      <td>0.0</td>\n",
       "      <td>0.0</td>\n",
       "      <td>0.0</td>\n",
       "      <td>0.0</td>\n",
       "      <td>0.0</td>\n",
       "      <td>0.0</td>\n",
       "      <td>0.0</td>\n",
       "    </tr>\n",
       "    <tr>\n",
       "      <th>2</th>\n",
       "      <td>0.0</td>\n",
       "      <td>5.0</td>\n",
       "      <td>0.0</td>\n",
       "      <td>0.0</td>\n",
       "      <td>5.0</td>\n",
       "      <td>0.0</td>\n",
       "      <td>0.0</td>\n",
       "      <td>4.0</td>\n",
       "      <td>0.0</td>\n",
       "      <td>5.0</td>\n",
       "      <td>...</td>\n",
       "      <td>0.0</td>\n",
       "      <td>0.0</td>\n",
       "      <td>0.0</td>\n",
       "      <td>0.0</td>\n",
       "      <td>0.0</td>\n",
       "      <td>0.0</td>\n",
       "      <td>0.0</td>\n",
       "      <td>0.0</td>\n",
       "      <td>0.0</td>\n",
       "      <td>0.0</td>\n",
       "    </tr>\n",
       "    <tr>\n",
       "      <th>3</th>\n",
       "      <td>0.0</td>\n",
       "      <td>0.0</td>\n",
       "      <td>0.0</td>\n",
       "      <td>3.0</td>\n",
       "      <td>0.0</td>\n",
       "      <td>0.0</td>\n",
       "      <td>0.0</td>\n",
       "      <td>0.0</td>\n",
       "      <td>0.0</td>\n",
       "      <td>0.0</td>\n",
       "      <td>...</td>\n",
       "      <td>0.0</td>\n",
       "      <td>0.0</td>\n",
       "      <td>0.0</td>\n",
       "      <td>0.0</td>\n",
       "      <td>0.0</td>\n",
       "      <td>0.0</td>\n",
       "      <td>0.0</td>\n",
       "      <td>0.0</td>\n",
       "      <td>0.0</td>\n",
       "      <td>0.0</td>\n",
       "    </tr>\n",
       "    <tr>\n",
       "      <th>4</th>\n",
       "      <td>0.0</td>\n",
       "      <td>5.0</td>\n",
       "      <td>0.0</td>\n",
       "      <td>4.0</td>\n",
       "      <td>4.0</td>\n",
       "      <td>0.0</td>\n",
       "      <td>4.0</td>\n",
       "      <td>4.0</td>\n",
       "      <td>0.0</td>\n",
       "      <td>5.0</td>\n",
       "      <td>...</td>\n",
       "      <td>0.0</td>\n",
       "      <td>0.0</td>\n",
       "      <td>0.0</td>\n",
       "      <td>0.0</td>\n",
       "      <td>0.0</td>\n",
       "      <td>0.0</td>\n",
       "      <td>0.0</td>\n",
       "      <td>0.0</td>\n",
       "      <td>0.0</td>\n",
       "      <td>0.0</td>\n",
       "    </tr>\n",
       "    <tr>\n",
       "      <th>5</th>\n",
       "      <td>0.0</td>\n",
       "      <td>0.0</td>\n",
       "      <td>0.0</td>\n",
       "      <td>0.0</td>\n",
       "      <td>0.0</td>\n",
       "      <td>4.0</td>\n",
       "      <td>0.0</td>\n",
       "      <td>0.0</td>\n",
       "      <td>0.0</td>\n",
       "      <td>0.0</td>\n",
       "      <td>...</td>\n",
       "      <td>0.0</td>\n",
       "      <td>0.0</td>\n",
       "      <td>0.0</td>\n",
       "      <td>0.0</td>\n",
       "      <td>0.0</td>\n",
       "      <td>0.0</td>\n",
       "      <td>0.0</td>\n",
       "      <td>0.0</td>\n",
       "      <td>0.0</td>\n",
       "      <td>0.0</td>\n",
       "    </tr>\n",
       "  </tbody>\n",
       "</table>\n",
       "<p>5 rows × 10000 columns</p>\n",
       "</div>"
      ],
      "text/plain": [
       "book_id  1      2      3      4      5      6      7      8      9      10     \\\n",
       "user_id                                                                         \n",
       "1          0.0    0.0    0.0    5.0    0.0    0.0    0.0    0.0    0.0    4.0   \n",
       "2          0.0    5.0    0.0    0.0    5.0    0.0    0.0    4.0    0.0    5.0   \n",
       "3          0.0    0.0    0.0    3.0    0.0    0.0    0.0    0.0    0.0    0.0   \n",
       "4          0.0    5.0    0.0    4.0    4.0    0.0    4.0    4.0    0.0    5.0   \n",
       "5          0.0    0.0    0.0    0.0    0.0    4.0    0.0    0.0    0.0    0.0   \n",
       "\n",
       "book_id  ...  9991   9992   9993   9994   9995   9996   9997   9998   9999   \\\n",
       "user_id  ...                                                                  \n",
       "1        ...    0.0    0.0    0.0    0.0    0.0    0.0    0.0    0.0    0.0   \n",
       "2        ...    0.0    0.0    0.0    0.0    0.0    0.0    0.0    0.0    0.0   \n",
       "3        ...    0.0    0.0    0.0    0.0    0.0    0.0    0.0    0.0    0.0   \n",
       "4        ...    0.0    0.0    0.0    0.0    0.0    0.0    0.0    0.0    0.0   \n",
       "5        ...    0.0    0.0    0.0    0.0    0.0    0.0    0.0    0.0    0.0   \n",
       "\n",
       "book_id  10000  \n",
       "user_id         \n",
       "1          0.0  \n",
       "2          0.0  \n",
       "3          0.0  \n",
       "4          0.0  \n",
       "5          0.0  \n",
       "\n",
       "[5 rows x 10000 columns]"
      ]
     },
     "execution_count": 13,
     "metadata": {},
     "output_type": "execute_result"
    }
   ],
   "source": [
    "ratings_df = ratings.pivot(index = 'user_id', columns ='book_id', values = 'rating').fillna(0)\n",
    "ratings_df.head()"
   ]
  },
  {
   "cell_type": "code",
   "execution_count": 14,
   "id": "1c8de0fe",
   "metadata": {},
   "outputs": [
    {
     "data": {
      "text/plain": [
       "pandas.core.frame.DataFrame"
      ]
     },
     "execution_count": 14,
     "metadata": {},
     "output_type": "execute_result"
    }
   ],
   "source": [
    "type(ratings_df)"
   ]
  },
  {
   "cell_type": "code",
   "execution_count": 15,
   "id": "b2b7ce1f",
   "metadata": {},
   "outputs": [
    {
     "data": {
      "text/plain": [
       "array([[-4.2000e-02, -4.2000e-02, -4.2000e-02, ..., -4.2000e-02,\n",
       "        -4.2000e-02, -4.2000e-02],\n",
       "       [-2.8700e-02,  4.9713e+00, -2.8700e-02, ..., -2.8700e-02,\n",
       "        -2.8700e-02, -2.8700e-02],\n",
       "       [-1.5800e-02, -1.5800e-02, -1.5800e-02, ..., -1.5800e-02,\n",
       "        -1.5800e-02, -1.5800e-02],\n",
       "       ...,\n",
       "       [ 3.9657e+00,  4.9657e+00, -3.4300e-02, ..., -3.4300e-02,\n",
       "        -3.4300e-02, -3.4300e-02],\n",
       "       [ 3.9414e+00,  4.9414e+00,  3.9414e+00, ..., -5.8600e-02,\n",
       "        -5.8600e-02, -5.8600e-02],\n",
       "       [-2.4000e-03,  2.9976e+00, -2.4000e-03, ..., -2.4000e-03,\n",
       "        -2.4000e-03, -2.4000e-03]])"
      ]
     },
     "execution_count": 15,
     "metadata": {},
     "output_type": "execute_result"
    }
   ],
   "source": [
    "ratings_matrix = ratings_df.values\n",
    "user_ratings_mean = np.mean(ratings_matrix, axis = 1)\n",
    "ratings_demeaned = ratings_matrix - user_ratings_mean.reshape(-1, 1)\n",
    "ratings_demeaned"
   ]
  },
  {
   "cell_type": "code",
   "execution_count": 16,
   "id": "979b398f",
   "metadata": {},
   "outputs": [],
   "source": [
    "U, sigma, Vt = svds(ratings_demeaned, k = 50)\n",
    "sigma = np.diag(sigma)"
   ]
  },
  {
   "cell_type": "code",
   "execution_count": 17,
   "id": "6edf8571",
   "metadata": {},
   "outputs": [],
   "source": [
    "books = pd.read_csv('books_enriched.csv')"
   ]
  },
  {
   "cell_type": "code",
   "execution_count": 18,
   "id": "5924802f",
   "metadata": {},
   "outputs": [
    {
     "data": {
      "text/html": [
       "<div>\n",
       "<style scoped>\n",
       "    .dataframe tbody tr th:only-of-type {\n",
       "        vertical-align: middle;\n",
       "    }\n",
       "\n",
       "    .dataframe tbody tr th {\n",
       "        vertical-align: top;\n",
       "    }\n",
       "\n",
       "    .dataframe thead th {\n",
       "        text-align: right;\n",
       "    }\n",
       "</style>\n",
       "<table border=\"1\" class=\"dataframe\">\n",
       "  <thead>\n",
       "    <tr style=\"text-align: right;\">\n",
       "      <th>book_id</th>\n",
       "      <th>1</th>\n",
       "      <th>2</th>\n",
       "      <th>3</th>\n",
       "      <th>4</th>\n",
       "      <th>5</th>\n",
       "      <th>6</th>\n",
       "      <th>7</th>\n",
       "      <th>8</th>\n",
       "      <th>9</th>\n",
       "      <th>10</th>\n",
       "      <th>...</th>\n",
       "      <th>9991</th>\n",
       "      <th>9992</th>\n",
       "      <th>9993</th>\n",
       "      <th>9994</th>\n",
       "      <th>9995</th>\n",
       "      <th>9996</th>\n",
       "      <th>9997</th>\n",
       "      <th>9998</th>\n",
       "      <th>9999</th>\n",
       "      <th>10000</th>\n",
       "    </tr>\n",
       "  </thead>\n",
       "  <tbody>\n",
       "    <tr>\n",
       "      <th>0</th>\n",
       "      <td>0.566212</td>\n",
       "      <td>0.200623</td>\n",
       "      <td>0.239290</td>\n",
       "      <td>2.981033</td>\n",
       "      <td>2.009097</td>\n",
       "      <td>0.724402</td>\n",
       "      <td>0.246358</td>\n",
       "      <td>1.398149</td>\n",
       "      <td>0.363885</td>\n",
       "      <td>3.986424</td>\n",
       "      <td>...</td>\n",
       "      <td>0.054892</td>\n",
       "      <td>-0.000481</td>\n",
       "      <td>-0.007057</td>\n",
       "      <td>-0.004621</td>\n",
       "      <td>0.010961</td>\n",
       "      <td>0.014348</td>\n",
       "      <td>0.004063</td>\n",
       "      <td>0.000254</td>\n",
       "      <td>-0.003378</td>\n",
       "      <td>-0.007225</td>\n",
       "    </tr>\n",
       "    <tr>\n",
       "      <th>1</th>\n",
       "      <td>0.078133</td>\n",
       "      <td>4.485574</td>\n",
       "      <td>0.169710</td>\n",
       "      <td>2.444561</td>\n",
       "      <td>1.961953</td>\n",
       "      <td>0.644629</td>\n",
       "      <td>0.635967</td>\n",
       "      <td>1.709596</td>\n",
       "      <td>1.040178</td>\n",
       "      <td>2.794757</td>\n",
       "      <td>...</td>\n",
       "      <td>0.000462</td>\n",
       "      <td>0.003780</td>\n",
       "      <td>0.008717</td>\n",
       "      <td>-0.012557</td>\n",
       "      <td>-0.002044</td>\n",
       "      <td>0.010541</td>\n",
       "      <td>0.036487</td>\n",
       "      <td>0.003755</td>\n",
       "      <td>0.036672</td>\n",
       "      <td>0.038279</td>\n",
       "    </tr>\n",
       "    <tr>\n",
       "      <th>2</th>\n",
       "      <td>-0.031919</td>\n",
       "      <td>0.078681</td>\n",
       "      <td>-0.135188</td>\n",
       "      <td>1.637185</td>\n",
       "      <td>0.927012</td>\n",
       "      <td>-0.180757</td>\n",
       "      <td>0.209129</td>\n",
       "      <td>0.956740</td>\n",
       "      <td>-0.094447</td>\n",
       "      <td>0.397979</td>\n",
       "      <td>...</td>\n",
       "      <td>0.014760</td>\n",
       "      <td>0.008303</td>\n",
       "      <td>0.008942</td>\n",
       "      <td>0.009338</td>\n",
       "      <td>0.013517</td>\n",
       "      <td>0.003029</td>\n",
       "      <td>0.010829</td>\n",
       "      <td>0.005794</td>\n",
       "      <td>0.013871</td>\n",
       "      <td>0.011592</td>\n",
       "    </tr>\n",
       "    <tr>\n",
       "      <th>3</th>\n",
       "      <td>0.018909</td>\n",
       "      <td>4.534398</td>\n",
       "      <td>-0.041078</td>\n",
       "      <td>5.131711</td>\n",
       "      <td>3.153053</td>\n",
       "      <td>-0.854882</td>\n",
       "      <td>2.633743</td>\n",
       "      <td>3.787978</td>\n",
       "      <td>1.953858</td>\n",
       "      <td>2.521627</td>\n",
       "      <td>...</td>\n",
       "      <td>0.007306</td>\n",
       "      <td>-0.043097</td>\n",
       "      <td>-0.023740</td>\n",
       "      <td>0.018296</td>\n",
       "      <td>0.012278</td>\n",
       "      <td>0.010639</td>\n",
       "      <td>-0.008373</td>\n",
       "      <td>-0.000971</td>\n",
       "      <td>-0.006310</td>\n",
       "      <td>0.000703</td>\n",
       "    </tr>\n",
       "    <tr>\n",
       "      <th>4</th>\n",
       "      <td>-0.239790</td>\n",
       "      <td>-0.111398</td>\n",
       "      <td>-0.088481</td>\n",
       "      <td>0.123275</td>\n",
       "      <td>0.199841</td>\n",
       "      <td>1.509025</td>\n",
       "      <td>-0.066550</td>\n",
       "      <td>0.099760</td>\n",
       "      <td>0.102092</td>\n",
       "      <td>0.108077</td>\n",
       "      <td>...</td>\n",
       "      <td>0.024209</td>\n",
       "      <td>0.034106</td>\n",
       "      <td>0.025075</td>\n",
       "      <td>0.014417</td>\n",
       "      <td>0.017412</td>\n",
       "      <td>0.027896</td>\n",
       "      <td>0.021651</td>\n",
       "      <td>0.025852</td>\n",
       "      <td>0.032679</td>\n",
       "      <td>0.017620</td>\n",
       "    </tr>\n",
       "    <tr>\n",
       "      <th>...</th>\n",
       "      <td>...</td>\n",
       "      <td>...</td>\n",
       "      <td>...</td>\n",
       "      <td>...</td>\n",
       "      <td>...</td>\n",
       "      <td>...</td>\n",
       "      <td>...</td>\n",
       "      <td>...</td>\n",
       "      <td>...</td>\n",
       "      <td>...</td>\n",
       "      <td>...</td>\n",
       "      <td>...</td>\n",
       "      <td>...</td>\n",
       "      <td>...</td>\n",
       "      <td>...</td>\n",
       "      <td>...</td>\n",
       "      <td>...</td>\n",
       "      <td>...</td>\n",
       "      <td>...</td>\n",
       "      <td>...</td>\n",
       "      <td>...</td>\n",
       "    </tr>\n",
       "    <tr>\n",
       "      <th>53420</th>\n",
       "      <td>4.899336</td>\n",
       "      <td>3.707652</td>\n",
       "      <td>0.672806</td>\n",
       "      <td>5.392508</td>\n",
       "      <td>3.029217</td>\n",
       "      <td>-0.194066</td>\n",
       "      <td>3.524484</td>\n",
       "      <td>2.127661</td>\n",
       "      <td>5.233740</td>\n",
       "      <td>0.179993</td>\n",
       "      <td>...</td>\n",
       "      <td>-0.001557</td>\n",
       "      <td>0.028662</td>\n",
       "      <td>0.025614</td>\n",
       "      <td>0.008711</td>\n",
       "      <td>0.051199</td>\n",
       "      <td>-0.018282</td>\n",
       "      <td>0.038922</td>\n",
       "      <td>0.065362</td>\n",
       "      <td>-0.005856</td>\n",
       "      <td>0.058208</td>\n",
       "    </tr>\n",
       "    <tr>\n",
       "      <th>53421</th>\n",
       "      <td>4.483485</td>\n",
       "      <td>5.049251</td>\n",
       "      <td>0.562749</td>\n",
       "      <td>0.947642</td>\n",
       "      <td>0.601602</td>\n",
       "      <td>2.067604</td>\n",
       "      <td>4.065408</td>\n",
       "      <td>0.076584</td>\n",
       "      <td>0.300662</td>\n",
       "      <td>1.795913</td>\n",
       "      <td>...</td>\n",
       "      <td>-0.016192</td>\n",
       "      <td>-0.073189</td>\n",
       "      <td>-0.001047</td>\n",
       "      <td>0.039827</td>\n",
       "      <td>-0.007708</td>\n",
       "      <td>-0.023739</td>\n",
       "      <td>-0.013875</td>\n",
       "      <td>-0.011012</td>\n",
       "      <td>0.001145</td>\n",
       "      <td>-0.008836</td>\n",
       "    </tr>\n",
       "    <tr>\n",
       "      <th>53422</th>\n",
       "      <td>2.167565</td>\n",
       "      <td>5.105633</td>\n",
       "      <td>0.430062</td>\n",
       "      <td>3.755224</td>\n",
       "      <td>1.864624</td>\n",
       "      <td>0.938651</td>\n",
       "      <td>1.801304</td>\n",
       "      <td>1.573648</td>\n",
       "      <td>-0.062918</td>\n",
       "      <td>0.662248</td>\n",
       "      <td>...</td>\n",
       "      <td>0.001564</td>\n",
       "      <td>-0.003444</td>\n",
       "      <td>0.013889</td>\n",
       "      <td>0.031564</td>\n",
       "      <td>0.003844</td>\n",
       "      <td>0.000589</td>\n",
       "      <td>0.017221</td>\n",
       "      <td>0.011249</td>\n",
       "      <td>-0.002498</td>\n",
       "      <td>0.016656</td>\n",
       "    </tr>\n",
       "    <tr>\n",
       "      <th>53423</th>\n",
       "      <td>4.378529</td>\n",
       "      <td>4.307632</td>\n",
       "      <td>3.269371</td>\n",
       "      <td>4.105135</td>\n",
       "      <td>1.600688</td>\n",
       "      <td>0.857258</td>\n",
       "      <td>4.579557</td>\n",
       "      <td>0.560393</td>\n",
       "      <td>-0.424756</td>\n",
       "      <td>3.507097</td>\n",
       "      <td>...</td>\n",
       "      <td>-0.022757</td>\n",
       "      <td>0.064549</td>\n",
       "      <td>0.005317</td>\n",
       "      <td>0.113040</td>\n",
       "      <td>0.004812</td>\n",
       "      <td>0.000856</td>\n",
       "      <td>-0.015253</td>\n",
       "      <td>0.019990</td>\n",
       "      <td>-0.010542</td>\n",
       "      <td>-0.022382</td>\n",
       "    </tr>\n",
       "    <tr>\n",
       "      <th>53424</th>\n",
       "      <td>0.525925</td>\n",
       "      <td>1.235216</td>\n",
       "      <td>0.602176</td>\n",
       "      <td>0.098950</td>\n",
       "      <td>0.244272</td>\n",
       "      <td>0.211620</td>\n",
       "      <td>0.400733</td>\n",
       "      <td>0.135881</td>\n",
       "      <td>0.269883</td>\n",
       "      <td>0.186229</td>\n",
       "      <td>...</td>\n",
       "      <td>-0.002749</td>\n",
       "      <td>-0.000307</td>\n",
       "      <td>-0.002708</td>\n",
       "      <td>-0.005633</td>\n",
       "      <td>-0.004358</td>\n",
       "      <td>-0.003805</td>\n",
       "      <td>-0.003698</td>\n",
       "      <td>-0.006964</td>\n",
       "      <td>0.001212</td>\n",
       "      <td>-0.002133</td>\n",
       "    </tr>\n",
       "  </tbody>\n",
       "</table>\n",
       "<p>53425 rows × 10000 columns</p>\n",
       "</div>"
      ],
      "text/plain": [
       "book_id     1         2         3         4         5         6         7      \\\n",
       "0        0.566212  0.200623  0.239290  2.981033  2.009097  0.724402  0.246358   \n",
       "1        0.078133  4.485574  0.169710  2.444561  1.961953  0.644629  0.635967   \n",
       "2       -0.031919  0.078681 -0.135188  1.637185  0.927012 -0.180757  0.209129   \n",
       "3        0.018909  4.534398 -0.041078  5.131711  3.153053 -0.854882  2.633743   \n",
       "4       -0.239790 -0.111398 -0.088481  0.123275  0.199841  1.509025 -0.066550   \n",
       "...           ...       ...       ...       ...       ...       ...       ...   \n",
       "53420    4.899336  3.707652  0.672806  5.392508  3.029217 -0.194066  3.524484   \n",
       "53421    4.483485  5.049251  0.562749  0.947642  0.601602  2.067604  4.065408   \n",
       "53422    2.167565  5.105633  0.430062  3.755224  1.864624  0.938651  1.801304   \n",
       "53423    4.378529  4.307632  3.269371  4.105135  1.600688  0.857258  4.579557   \n",
       "53424    0.525925  1.235216  0.602176  0.098950  0.244272  0.211620  0.400733   \n",
       "\n",
       "book_id     8         9         10     ...     9991      9992      9993   \\\n",
       "0        1.398149  0.363885  3.986424  ...  0.054892 -0.000481 -0.007057   \n",
       "1        1.709596  1.040178  2.794757  ...  0.000462  0.003780  0.008717   \n",
       "2        0.956740 -0.094447  0.397979  ...  0.014760  0.008303  0.008942   \n",
       "3        3.787978  1.953858  2.521627  ...  0.007306 -0.043097 -0.023740   \n",
       "4        0.099760  0.102092  0.108077  ...  0.024209  0.034106  0.025075   \n",
       "...           ...       ...       ...  ...       ...       ...       ...   \n",
       "53420    2.127661  5.233740  0.179993  ... -0.001557  0.028662  0.025614   \n",
       "53421    0.076584  0.300662  1.795913  ... -0.016192 -0.073189 -0.001047   \n",
       "53422    1.573648 -0.062918  0.662248  ...  0.001564 -0.003444  0.013889   \n",
       "53423    0.560393 -0.424756  3.507097  ... -0.022757  0.064549  0.005317   \n",
       "53424    0.135881  0.269883  0.186229  ... -0.002749 -0.000307 -0.002708   \n",
       "\n",
       "book_id     9994      9995      9996      9997      9998      9999      10000  \n",
       "0       -0.004621  0.010961  0.014348  0.004063  0.000254 -0.003378 -0.007225  \n",
       "1       -0.012557 -0.002044  0.010541  0.036487  0.003755  0.036672  0.038279  \n",
       "2        0.009338  0.013517  0.003029  0.010829  0.005794  0.013871  0.011592  \n",
       "3        0.018296  0.012278  0.010639 -0.008373 -0.000971 -0.006310  0.000703  \n",
       "4        0.014417  0.017412  0.027896  0.021651  0.025852  0.032679  0.017620  \n",
       "...           ...       ...       ...       ...       ...       ...       ...  \n",
       "53420    0.008711  0.051199 -0.018282  0.038922  0.065362 -0.005856  0.058208  \n",
       "53421    0.039827 -0.007708 -0.023739 -0.013875 -0.011012  0.001145 -0.008836  \n",
       "53422    0.031564  0.003844  0.000589  0.017221  0.011249 -0.002498  0.016656  \n",
       "53423    0.113040  0.004812  0.000856 -0.015253  0.019990 -0.010542 -0.022382  \n",
       "53424   -0.005633 -0.004358 -0.003805 -0.003698 -0.006964  0.001212 -0.002133  \n",
       "\n",
       "[53425 rows x 10000 columns]"
      ]
     },
     "execution_count": 18,
     "metadata": {},
     "output_type": "execute_result"
    }
   ],
   "source": [
    "all_user_predicted_ratings = np.dot(np.dot(U, sigma), Vt) + user_ratings_mean.reshape(-1, 1)\n",
    "preds_df = pd.DataFrame(all_user_predicted_ratings, columns = ratings_df.columns)\n",
    "preds_df"
   ]
  },
  {
   "cell_type": "code",
   "execution_count": 19,
   "id": "09f70744",
   "metadata": {},
   "outputs": [],
   "source": [
    "def recommend_books(predictions_df, userID, books_df, original_ratings_df, num_recommendations=5):\n",
    "    \n",
    "    # Get and sort the user's predictions\n",
    "    user_row_number = userID - 1 # UserID starts at 1, not 0\n",
    "    sorted_user_predictions = predictions_df.iloc[user_row_number].sort_values(ascending=False)\n",
    "    \n",
    "    # Get the user's data and merge in the book information.\n",
    "    user_data = original_ratings_df[original_ratings_df['user_id'] == (userID)]\n",
    "    user_full = (user_data.merge(books_df, how = 'left', left_on = 'book_id', right_on = 'book_id').\n",
    "                     sort_values(['rating'], ascending=False)\n",
    "                 )\n",
    "\n",
    "    print ('User {0} has already rated {1} books. The top 5 are:'.format(userID, user_full.shape[0]))\n",
    "    print (user_full['title'].head(5))\n",
    "    print ('Recommending the highest {0} predicted ratings books not already rated.'.format(num_recommendations))\n",
    "    \n",
    "    # Recommend the highest predicted rating book that the user hasn't seen yet.\n",
    "    recommendations = (books_df[~books_df['book_id'].isin(user_full['book_id'])].\n",
    "         merge(pd.DataFrame(sorted_user_predictions).reset_index(), how = 'left',\n",
    "               left_on = 'book_id',\n",
    "               right_on = 'book_id').\n",
    "         rename(columns = {user_row_number: 'Predictions'}).\n",
    "         sort_values('Predictions', ascending = False).\n",
    "                       iloc[:num_recommendations, :-1]\n",
    "                      )\n",
    "\n",
    "#    return user_full, recommendations\n",
    "    return recommendations[['book_id','title']]\n"
   ]
  },
  {
   "cell_type": "code",
   "execution_count": 20,
   "id": "b21c7f63",
   "metadata": {},
   "outputs": [
    {
     "name": "stdout",
     "output_type": "stream",
     "text": [
      "User 53425 has already rated 7 books. The top 5 are:\n",
      "3                                      Eat, Pray, Love\n",
      "0              Fifty Shades of Grey (Fifty Shades, #1)\n",
      "4                                     Romeo and Juliet\n",
      "1               Fifty Shades Darker (Fifty Shades, #2)\n",
      "2    Harry Potter and the Sorcerer's Stone (Harry P...\n",
      "Name: title, dtype: object\n",
      "Recommending the highest 3 predicted ratings books not already rated.\n"
     ]
    },
    {
     "data": {
      "text/html": [
       "<div>\n",
       "<style scoped>\n",
       "    .dataframe tbody tr th:only-of-type {\n",
       "        vertical-align: middle;\n",
       "    }\n",
       "\n",
       "    .dataframe tbody tr th {\n",
       "        vertical-align: top;\n",
       "    }\n",
       "\n",
       "    .dataframe thead th {\n",
       "        text-align: right;\n",
       "    }\n",
       "</style>\n",
       "<table border=\"1\" class=\"dataframe\">\n",
       "  <thead>\n",
       "    <tr style=\"text-align: right;\">\n",
       "      <th></th>\n",
       "      <th>book_id</th>\n",
       "      <th>title</th>\n",
       "    </tr>\n",
       "  </thead>\n",
       "  <tbody>\n",
       "    <tr>\n",
       "      <th>1</th>\n",
       "      <td>3</td>\n",
       "      <td>Twilight (Twilight, #1)</td>\n",
       "    </tr>\n",
       "    <tr>\n",
       "      <th>0</th>\n",
       "      <td>1</td>\n",
       "      <td>The Hunger Games (The Hunger Games, #1)</td>\n",
       "    </tr>\n",
       "    <tr>\n",
       "      <th>11</th>\n",
       "      <td>15</td>\n",
       "      <td>The Diary of a Young Girl</td>\n",
       "    </tr>\n",
       "  </tbody>\n",
       "</table>\n",
       "</div>"
      ],
      "text/plain": [
       "    book_id                                    title\n",
       "1         3                  Twilight (Twilight, #1)\n",
       "0         1  The Hunger Games (The Hunger Games, #1)\n",
       "11       15                The Diary of a Young Girl"
      ]
     },
     "execution_count": 20,
     "metadata": {},
     "output_type": "execute_result"
    }
   ],
   "source": [
    "recommend_books(preds_df, 53425, books, ratings, 3)"
   ]
  },
  {
   "cell_type": "code",
   "execution_count": 132,
   "id": "7cb2b7d3",
   "metadata": {},
   "outputs": [
    {
     "name": "stdout",
     "output_type": "stream",
     "text": [
      "User 110 has already rated 38 books. The top 5 are:\n",
      "20                                    The Metamorphosis\n",
      "32                         The Adventures of Tom Sawyer\n",
      "3     Harry Potter and the Deathly Hallows (Harry Po...\n",
      "31                   The Adventures of Huckleberry Finn\n",
      "22                                            The Trial\n",
      "Name: title, dtype: object\n",
      "Recommending the highest 3 predicted ratings books not already rated.\n"
     ]
    },
    {
     "data": {
      "text/html": [
       "<div>\n",
       "<style scoped>\n",
       "    .dataframe tbody tr th:only-of-type {\n",
       "        vertical-align: middle;\n",
       "    }\n",
       "\n",
       "    .dataframe tbody tr th {\n",
       "        vertical-align: top;\n",
       "    }\n",
       "\n",
       "    .dataframe thead th {\n",
       "        text-align: right;\n",
       "    }\n",
       "</style>\n",
       "<table border=\"1\" class=\"dataframe\">\n",
       "  <thead>\n",
       "    <tr style=\"text-align: right;\">\n",
       "      <th></th>\n",
       "      <th>book_id</th>\n",
       "      <th>title</th>\n",
       "    </tr>\n",
       "  </thead>\n",
       "  <tbody>\n",
       "    <tr>\n",
       "      <th>16</th>\n",
       "      <td>23</td>\n",
       "      <td>Harry Potter and the Chamber of Secrets (Harry...</td>\n",
       "    </tr>\n",
       "    <tr>\n",
       "      <th>41</th>\n",
       "      <td>55</td>\n",
       "      <td>Brave New World</td>\n",
       "    </tr>\n",
       "    <tr>\n",
       "      <th>19</th>\n",
       "      <td>29</td>\n",
       "      <td>Romeo and Juliet</td>\n",
       "    </tr>\n",
       "  </tbody>\n",
       "</table>\n",
       "</div>"
      ],
      "text/plain": [
       "    book_id                                              title\n",
       "16       23  Harry Potter and the Chamber of Secrets (Harry...\n",
       "41       55                                    Brave New World\n",
       "19       29                                   Romeo and Juliet"
      ]
     },
     "execution_count": 132,
     "metadata": {},
     "output_type": "execute_result"
    }
   ],
   "source": [
    "recommend_books(preds_df, 110, books, ratings, 3)"
   ]
  },
  {
   "cell_type": "code",
   "execution_count": 136,
   "id": "a56a27da",
   "metadata": {},
   "outputs": [
    {
     "name": "stdout",
     "output_type": "stream",
     "text": [
      "User 980 has already rated 73 books. The top 5 are:\n",
      "0                       To Kill a Mockingbird\n",
      "52    The Hunger Games (The Hunger Games, #1)\n",
      "31                   A Thousand Splendid Suns\n",
      "39                            The Thorn Birds\n",
      "42                          The Kitchen House\n",
      "Name: title, dtype: object\n",
      "Recommending the highest 3 predicted ratings books not already rated.\n"
     ]
    },
    {
     "data": {
      "text/html": [
       "<div>\n",
       "<style scoped>\n",
       "    .dataframe tbody tr th:only-of-type {\n",
       "        vertical-align: middle;\n",
       "    }\n",
       "\n",
       "    .dataframe tbody tr th {\n",
       "        vertical-align: top;\n",
       "    }\n",
       "\n",
       "    .dataframe thead th {\n",
       "        text-align: right;\n",
       "    }\n",
       "</style>\n",
       "<table border=\"1\" class=\"dataframe\">\n",
       "  <thead>\n",
       "    <tr style=\"text-align: right;\">\n",
       "      <th></th>\n",
       "      <th>book_id</th>\n",
       "      <th>title</th>\n",
       "    </tr>\n",
       "  </thead>\n",
       "  <tbody>\n",
       "    <tr>\n",
       "      <th>17</th>\n",
       "      <td>33</td>\n",
       "      <td>Memoirs of a Geisha</td>\n",
       "    </tr>\n",
       "    <tr>\n",
       "      <th>10</th>\n",
       "      <td>20</td>\n",
       "      <td>Mockingjay (The Hunger Games, #3)</td>\n",
       "    </tr>\n",
       "    <tr>\n",
       "      <th>32</th>\n",
       "      <td>57</td>\n",
       "      <td>The Secret Life of Bees</td>\n",
       "    </tr>\n",
       "  </tbody>\n",
       "</table>\n",
       "</div>"
      ],
      "text/plain": [
       "    book_id                              title\n",
       "17       33                Memoirs of a Geisha\n",
       "10       20  Mockingjay (The Hunger Games, #3)\n",
       "32       57            The Secret Life of Bees"
      ]
     },
     "execution_count": 136,
     "metadata": {},
     "output_type": "execute_result"
    }
   ],
   "source": [
    "recommend_books(preds_df, 980, books, ratings, 3)"
   ]
  }
 ],
 "metadata": {
  "kernelspec": {
   "display_name": "Python 3 (ipykernel)",
   "language": "python",
   "name": "python3"
  },
  "language_info": {
   "codemirror_mode": {
    "name": "ipython",
    "version": 3
   },
   "file_extension": ".py",
   "mimetype": "text/x-python",
   "name": "python",
   "nbconvert_exporter": "python",
   "pygments_lexer": "ipython3",
   "version": "3.9.12"
  }
 },
 "nbformat": 4,
 "nbformat_minor": 5
}
